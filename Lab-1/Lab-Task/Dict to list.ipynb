{
 "cells": [
  {
   "cell_type": "code",
   "execution_count": 31,
   "id": "f16f8026-097e-4a50-a075-4a257c2106bd",
   "metadata": {
    "tags": []
   },
   "outputs": [
    {
     "data": {
      "text/plain": [
       "[1]"
      ]
     },
     "execution_count": 31,
     "metadata": {},
     "output_type": "execute_result"
    }
   ],
   "source": [
    "dictt={\"1\":1}\n",
    "values=dictt.values()\n",
    "list(values)\n",
    "# type(values)\n",
    "# listt=[]\n",
    "# listt.append(values)\n",
    "# listt"
   ]
  },
  {
   "cell_type": "code",
   "execution_count": 32,
   "id": "3c40581b-c56f-473a-b362-e21e1dfc8c60",
   "metadata": {
    "tags": []
   },
   "outputs": [
    {
     "data": {
      "text/plain": [
       "1.0"
      ]
     },
     "execution_count": 32,
     "metadata": {},
     "output_type": "execute_result"
    }
   ],
   "source": [
    "import numpy as np\n",
    "h=np.array(list(values))\n",
    "h\n",
    "h.mean()"
   ]
  },
  {
   "cell_type": "code",
   "execution_count": 46,
   "id": "3b20abf2-f391-40d4-9074-9f9bbbcf2de0",
   "metadata": {
    "tags": []
   },
   "outputs": [
    {
     "name": "stdout",
     "output_type": "stream",
     "text": [
      "Average Marks :  100.0\n"
     ]
    }
   ],
   "source": [
    "class Student:\n",
    "    def __init__(self,name=\"\",roll_number=0,marks={\"\":0}):\n",
    "        self.roll_number=roll_number\n",
    "        self.name=name\n",
    "        self.marks=marks\n",
    "s1=Student(\"shafeen\",1,{\"math\":100})\n",
    "s2=Student(\"shery\",2,{\"math\":99})\n",
    "s3=Student(\"khan\",3,{\"math\":98})\n",
    "subject_marks=[]\n",
    "    # for i in student_database:\n",
    "if s1.roll_number == 1:\n",
    "    subject_marks=s1.marks.values()\n",
    "    # average=list(subject_marks)\n",
    "average_marks=np.array(list(subject_marks))\n",
    "mean=average_marks.mean()\n",
    "print(\"Average Marks : \",mean)"
   ]
  },
  {
   "cell_type": "code",
   "execution_count": 47,
   "id": "8968187e-c300-48ba-a679-3364db0cec53",
   "metadata": {
    "tags": []
   },
   "outputs": [
    {
     "data": {
      "text/plain": [
       "1"
      ]
     },
     "execution_count": 47,
     "metadata": {},
     "output_type": "execute_result"
    }
   ],
   "source": [
    "listt=[[1]]\n",
    "listt[0][0]"
   ]
  },
  {
   "cell_type": "code",
   "execution_count": 109,
   "id": "9bb6cc7a-d0ac-4be6-8a92-1daeedaf2690",
   "metadata": {
    "tags": []
   },
   "outputs": [
    {
     "name": "stdout",
     "output_type": "stream",
     "text": [
      "[[<__main__.Student object at 0x7f1e2016df90>, [100.0]], [<__main__.Student object at 0x7f1e279dc6d0>, [99.0]], [<__main__.Student object at 0x7f1e33ada590>, [98.0]]]\n",
      "Name :  shafeen\n",
      "Highest marks :  [100.0]\n",
      "<__main__.Student object at 0x7f1e2016df90>\n",
      "[100.0]\n",
      "Name :  shery\n",
      "Highest marks :  [99.0]\n",
      "<__main__.Student object at 0x7f1e279dc6d0>\n",
      "[99.0]\n",
      "Name :  khan\n",
      "Highest marks :  [98.0]\n",
      "<__main__.Student object at 0x7f1e33ada590>\n",
      "[98.0]\n"
     ]
    }
   ],
   "source": [
    "avg=[]\n",
    "student_database=[s1,s2,s3]\n",
    "for student in student_database:\n",
    "    average_marks=[]\n",
    "    average_marks.append(sum(student.marks.values())/len(student.marks.values()))\n",
    "    h=[student,average_marks]\n",
    "    avg.append(h)\n",
    "    # avg.extend[h]\n",
    "print(avg)\n",
    "highest_marks=0\n",
    "for i,j in avg:\n",
    "    print(\"Name : \",i.name)\n",
    "    print(\"Highest marks : \",j)\n",
    "    # highest_marks=j[0]\n",
    "    print(i)\n",
    "    print(j)"
   ]
  },
  {
   "cell_type": "code",
   "execution_count": null,
   "id": "d5dcc849-168d-43f0-8350-d774bd42ec18",
   "metadata": {},
   "outputs": [],
   "source": []
  }
 ],
 "metadata": {
  "kernelspec": {
   "display_name": "Python 3 (ipykernel)",
   "language": "python",
   "name": "python3"
  },
  "language_info": {
   "codemirror_mode": {
    "name": "ipython",
    "version": 3
   },
   "file_extension": ".py",
   "mimetype": "text/x-python",
   "name": "python",
   "nbconvert_exporter": "python",
   "pygments_lexer": "ipython3",
   "version": "3.11.5"
  }
 },
 "nbformat": 4,
 "nbformat_minor": 5
}
