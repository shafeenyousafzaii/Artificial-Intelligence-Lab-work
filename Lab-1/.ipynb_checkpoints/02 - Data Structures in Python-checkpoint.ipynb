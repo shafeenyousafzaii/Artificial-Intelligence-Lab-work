{
 "cells": [
  {
   "cell_type": "markdown",
   "metadata": {
    "id": "nfUO0-0Q5H5x"
   },
   "source": [
    "# Python Data Structures\n",
    "\n",
    "The notebook covers the following data structures\n",
    "* Tuples\n",
    "* List\n",
    "* Dictionaries\n",
    "* Sets"
   ]
  },
  {
   "cell_type": "markdown",
   "metadata": {
    "id": "MydeTW7v5H58"
   },
   "source": [
    "## Tuples\n",
    "- Tuples are an ordered sequence.\n",
    "- Tuples are written as comma-separated elements with parentheses."
   ]
  },
  {
   "cell_type": "code",
   "execution_count": 1,
   "metadata": {
    "executionInfo": {
     "elapsed": 949,
     "status": "ok",
     "timestamp": 1621417238954,
     "user": {
      "displayName": "Dr. Iftikhar Ahmad",
      "photoUrl": "",
      "userId": "14655798496938853703"
     },
     "user_tz": -300
    },
    "id": "_3dPqh6G5H59"
   },
   "outputs": [],
   "source": [
    "ratings = (5, 4, 2, 4, 3)"
   ]
  },
  {
   "cell_type": "code",
   "execution_count": 2,
   "metadata": {
    "colab": {
     "base_uri": "https://localhost:8080/"
    },
    "executionInfo": {
     "elapsed": 1185,
     "status": "ok",
     "timestamp": 1621417244047,
     "user": {
      "displayName": "Dr. Iftikhar Ahmad",
      "photoUrl": "",
      "userId": "14655798496938853703"
     },
     "user_tz": -300
    },
    "id": "ZATCpfLZ5H5-",
    "outputId": "8a079ab7-1c34-4c4d-9395-48c08cf1da62"
   },
   "outputs": [
    {
     "data": {
      "text/plain": [
       "(5, 4, 2, 4, 3)"
      ]
     },
     "execution_count": 2,
     "metadata": {},
     "output_type": "execute_result"
    }
   ],
   "source": [
    "ratings"
   ]
  },
  {
   "cell_type": "code",
   "execution_count": 3,
   "metadata": {
    "executionInfo": {
     "elapsed": 1097,
     "status": "ok",
     "timestamp": 1621417276557,
     "user": {
      "displayName": "Dr. Iftikhar Ahmad",
      "photoUrl": "",
      "userId": "14655798496938853703"
     },
     "user_tz": -300
    },
    "id": "WTgby2Ff5H6A"
   },
   "outputs": [],
   "source": [
    "tuple1 = (\"Joker\", 2019, 8.6)"
   ]
  },
  {
   "cell_type": "code",
   "execution_count": 4,
   "metadata": {
    "colab": {
     "base_uri": "https://localhost:8080/"
    },
    "executionInfo": {
     "elapsed": 1315,
     "status": "ok",
     "timestamp": 1621417282329,
     "user": {
      "displayName": "Dr. Iftikhar Ahmad",
      "photoUrl": "",
      "userId": "14655798496938853703"
     },
     "user_tz": -300
    },
    "id": "Z9SSFJIw5H6A",
    "outputId": "ac61165e-c4d0-49bf-c137-d9752a90e59c"
   },
   "outputs": [
    {
     "data": {
      "text/plain": [
       "('Joker', 2019, 8.6)"
      ]
     },
     "execution_count": 4,
     "metadata": {},
     "output_type": "execute_result"
    }
   ],
   "source": [
    "tuple1"
   ]
  },
  {
   "cell_type": "code",
   "execution_count": 5,
   "metadata": {
    "colab": {
     "base_uri": "https://localhost:8080/"
    },
    "executionInfo": {
     "elapsed": 991,
     "status": "ok",
     "timestamp": 1621417290210,
     "user": {
      "displayName": "Dr. Iftikhar Ahmad",
      "photoUrl": "",
      "userId": "14655798496938853703"
     },
     "user_tz": -300
    },
    "id": "abum8zbt5H6B",
    "outputId": "f64afbd9-6ba4-43d4-a425-17d65095c01f"
   },
   "outputs": [
    {
     "data": {
      "text/plain": [
       "tuple"
      ]
     },
     "execution_count": 5,
     "metadata": {},
     "output_type": "execute_result"
    }
   ],
   "source": [
    "type(tuple1)"
   ]
  },
  {
   "cell_type": "code",
   "execution_count": 6,
   "metadata": {
    "colab": {
     "base_uri": "https://localhost:8080/"
    },
    "executionInfo": {
     "elapsed": 964,
     "status": "ok",
     "timestamp": 1621417313658,
     "user": {
      "displayName": "Dr. Iftikhar Ahmad",
      "photoUrl": "",
      "userId": "14655798496938853703"
     },
     "user_tz": -300
    },
    "id": "Fw5-kGut5H6B",
    "outputId": "3d6da21d-ec47-41a8-ed0b-83c7e51c5cc2"
   },
   "outputs": [
    {
     "data": {
      "text/plain": [
       "tuple"
      ]
     },
     "execution_count": 6,
     "metadata": {},
     "output_type": "execute_result"
    }
   ],
   "source": [
    "type(ratings)"
   ]
  },
  {
   "cell_type": "code",
   "execution_count": 7,
   "metadata": {
    "colab": {
     "base_uri": "https://localhost:8080/"
    },
    "executionInfo": {
     "elapsed": 1092,
     "status": "ok",
     "timestamp": 1621417317304,
     "user": {
      "displayName": "Dr. Iftikhar Ahmad",
      "photoUrl": "",
      "userId": "14655798496938853703"
     },
     "user_tz": -300
    },
    "id": "8ctwgeli5H6D",
    "outputId": "acd20d28-cb90-46cf-d5c8-9f815891ea8b"
   },
   "outputs": [
    {
     "data": {
      "text/plain": [
       "('Joker', 2019, 8.6)"
      ]
     },
     "execution_count": 7,
     "metadata": {},
     "output_type": "execute_result"
    }
   ],
   "source": [
    "tuple1"
   ]
  },
  {
   "cell_type": "markdown",
   "metadata": {
    "id": "7H36aXkJ5H6D"
   },
   "source": [
    "## Accessing Tuple Elements\n",
    "- Tuple elements can be accessed via index"
   ]
  },
  {
   "cell_type": "code",
   "execution_count": 8,
   "metadata": {
    "colab": {
     "base_uri": "https://localhost:8080/",
     "height": 35
    },
    "executionInfo": {
     "elapsed": 969,
     "status": "ok",
     "timestamp": 1621417350031,
     "user": {
      "displayName": "Dr. Iftikhar Ahmad",
      "photoUrl": "",
      "userId": "14655798496938853703"
     },
     "user_tz": -300
    },
    "id": "rwsJ-U9D5H6E",
    "outputId": "176e606f-c409-45a8-c0b7-663b164d3100"
   },
   "outputs": [
    {
     "data": {
      "text/plain": [
       "'Joker'"
      ]
     },
     "execution_count": 8,
     "metadata": {},
     "output_type": "execute_result"
    }
   ],
   "source": [
    "tuple1[0]"
   ]
  },
  {
   "cell_type": "code",
   "execution_count": 13,
   "metadata": {},
   "outputs": [
    {
     "data": {
      "text/plain": [
       "'Jok'"
      ]
     },
     "execution_count": 13,
     "metadata": {},
     "output_type": "execute_result"
    }
   ],
   "source": [
    "tuple1[0][:3]"
   ]
  },
  {
   "cell_type": "code",
   "execution_count": 15,
   "metadata": {
    "colab": {
     "base_uri": "https://localhost:8080/"
    },
    "executionInfo": {
     "elapsed": 1060,
     "status": "ok",
     "timestamp": 1621417362438,
     "user": {
      "displayName": "Dr. Iftikhar Ahmad",
      "photoUrl": "",
      "userId": "14655798496938853703"
     },
     "user_tz": -300
    },
    "id": "OCmFp2Vo5H6F",
    "outputId": "0d39f845-6283-45d1-ca88-e9f94101740b"
   },
   "outputs": [
    {
     "data": {
      "text/plain": [
       "8.6"
      ]
     },
     "execution_count": 15,
     "metadata": {},
     "output_type": "execute_result"
    }
   ],
   "source": [
    "tuple1[2]"
   ]
  },
  {
   "cell_type": "code",
   "execution_count": 16,
   "metadata": {
    "colab": {
     "base_uri": "https://localhost:8080/"
    },
    "executionInfo": {
     "elapsed": 881,
     "status": "ok",
     "timestamp": 1621417375822,
     "user": {
      "displayName": "Dr. Iftikhar Ahmad",
      "photoUrl": "",
      "userId": "14655798496938853703"
     },
     "user_tz": -300
    },
    "id": "CimG6nOq5H6F",
    "outputId": "0ee71e4a-b313-4e56-e1a1-d80ee14de8b8"
   },
   "outputs": [
    {
     "data": {
      "text/plain": [
       "float"
      ]
     },
     "execution_count": 16,
     "metadata": {},
     "output_type": "execute_result"
    }
   ],
   "source": [
    "type(tuple1[2])"
   ]
  },
  {
   "cell_type": "code",
   "execution_count": 17,
   "metadata": {
    "colab": {
     "base_uri": "https://localhost:8080/"
    },
    "executionInfo": {
     "elapsed": 938,
     "status": "ok",
     "timestamp": 1621417381581,
     "user": {
      "displayName": "Dr. Iftikhar Ahmad",
      "photoUrl": "",
      "userId": "14655798496938853703"
     },
     "user_tz": -300
    },
    "id": "MlnXakDd5H6G",
    "outputId": "97633ccb-d282-4295-ef6d-215873e36c3b"
   },
   "outputs": [
    {
     "data": {
      "text/plain": [
       "8.6"
      ]
     },
     "execution_count": 17,
     "metadata": {},
     "output_type": "execute_result"
    }
   ],
   "source": [
    "tuple1[-1]"
   ]
  },
  {
   "cell_type": "code",
   "execution_count": 18,
   "metadata": {
    "colab": {
     "base_uri": "https://localhost:8080/",
     "height": 164
    },
    "executionInfo": {
     "elapsed": 972,
     "status": "error",
     "timestamp": 1621417394635,
     "user": {
      "displayName": "Dr. Iftikhar Ahmad",
      "photoUrl": "",
      "userId": "14655798496938853703"
     },
     "user_tz": -300
    },
    "id": "F3WPBWWY5H6G",
    "outputId": "7aaa5311-4a4e-4e47-dee3-33e8b1d05fe6"
   },
   "outputs": [
    {
     "ename": "IndexError",
     "evalue": "tuple index out of range",
     "output_type": "error",
     "traceback": [
      "\u001b[0;31m---------------------------------------------------------------------------\u001b[0m",
      "\u001b[0;31mIndexError\u001b[0m                                Traceback (most recent call last)",
      "\u001b[0;32m<ipython-input-18-aafa0be6d5ad>\u001b[0m in \u001b[0;36m<module>\u001b[0;34m\u001b[0m\n\u001b[0;32m----> 1\u001b[0;31m \u001b[0mtuple1\u001b[0m\u001b[0;34m[\u001b[0m\u001b[0;36m4\u001b[0m\u001b[0;34m]\u001b[0m\u001b[0;34m\u001b[0m\u001b[0;34m\u001b[0m\u001b[0m\n\u001b[0m",
      "\u001b[0;31mIndexError\u001b[0m: tuple index out of range"
     ]
    }
   ],
   "source": [
    "tuple1[4]"
   ]
  },
  {
   "cell_type": "code",
   "execution_count": 19,
   "metadata": {
    "colab": {
     "base_uri": "https://localhost:8080/"
    },
    "executionInfo": {
     "elapsed": 947,
     "status": "ok",
     "timestamp": 1621417410713,
     "user": {
      "displayName": "Dr. Iftikhar Ahmad",
      "photoUrl": "",
      "userId": "14655798496938853703"
     },
     "user_tz": -300
    },
    "id": "z3iWxK-G5H6H",
    "outputId": "76bcac34-d722-448b-ad7f-5fb9561cbd9e"
   },
   "outputs": [
    {
     "data": {
      "text/plain": [
       "('Joker', 2019, 8.6)"
      ]
     },
     "execution_count": 19,
     "metadata": {},
     "output_type": "execute_result"
    }
   ],
   "source": [
    "tuple1"
   ]
  },
  {
   "cell_type": "code",
   "execution_count": 20,
   "metadata": {
    "colab": {
     "base_uri": "https://localhost:8080/",
     "height": 35
    },
    "executionInfo": {
     "elapsed": 937,
     "status": "ok",
     "timestamp": 1621417436523,
     "user": {
      "displayName": "Dr. Iftikhar Ahmad",
      "photoUrl": "",
      "userId": "14655798496938853703"
     },
     "user_tz": -300
    },
    "id": "1wrgUAT85H6H",
    "outputId": "8fb8a355-8fd8-48a6-ed08-405839d0be9b"
   },
   "outputs": [
    {
     "data": {
      "text/plain": [
       "'J'"
      ]
     },
     "execution_count": 20,
     "metadata": {},
     "output_type": "execute_result"
    }
   ],
   "source": [
    "tuple1[0][0]"
   ]
  },
  {
   "cell_type": "code",
   "execution_count": 21,
   "metadata": {
    "colab": {
     "base_uri": "https://localhost:8080/"
    },
    "executionInfo": {
     "elapsed": 910,
     "status": "ok",
     "timestamp": 1621417442472,
     "user": {
      "displayName": "Dr. Iftikhar Ahmad",
      "photoUrl": "",
      "userId": "14655798496938853703"
     },
     "user_tz": -300
    },
    "id": "g5UcHOuF5H6H",
    "outputId": "aa262520-993b-40a3-d211-3b9ffd2f1988"
   },
   "outputs": [
    {
     "data": {
      "text/plain": [
       "str"
      ]
     },
     "execution_count": 21,
     "metadata": {},
     "output_type": "execute_result"
    }
   ],
   "source": [
    "type(tuple1[0][0])"
   ]
  },
  {
   "cell_type": "code",
   "execution_count": 22,
   "metadata": {
    "colab": {
     "base_uri": "https://localhost:8080/",
     "height": 35
    },
    "executionInfo": {
     "elapsed": 1357,
     "status": "ok",
     "timestamp": 1621417445792,
     "user": {
      "displayName": "Dr. Iftikhar Ahmad",
      "photoUrl": "",
      "userId": "14655798496938853703"
     },
     "user_tz": -300
    },
    "id": "rtRQP-ID5H6I",
    "outputId": "6fd86b91-1acf-444e-9d69-1a150b77df9a"
   },
   "outputs": [
    {
     "data": {
      "text/plain": [
       "'Joker'"
      ]
     },
     "execution_count": 22,
     "metadata": {},
     "output_type": "execute_result"
    }
   ],
   "source": [
    "tuple1[0]"
   ]
  },
  {
   "cell_type": "code",
   "execution_count": 23,
   "metadata": {
    "colab": {
     "base_uri": "https://localhost:8080/",
     "height": 164
    },
    "executionInfo": {
     "elapsed": 901,
     "status": "error",
     "timestamp": 1621417452063,
     "user": {
      "displayName": "Dr. Iftikhar Ahmad",
      "photoUrl": "",
      "userId": "14655798496938853703"
     },
     "user_tz": -300
    },
    "id": "-oeo5Rx85H6I",
    "outputId": "ce3ca8f6-cfd7-47fd-a350-e6ce95617a23"
   },
   "outputs": [
    {
     "ename": "TypeError",
     "evalue": "'tuple' object does not support item assignment",
     "output_type": "error",
     "traceback": [
      "\u001b[0;31m---------------------------------------------------------------------------\u001b[0m",
      "\u001b[0;31mTypeError\u001b[0m                                 Traceback (most recent call last)",
      "\u001b[0;32m<ipython-input-23-1bd8111301e9>\u001b[0m in \u001b[0;36m<module>\u001b[0;34m\u001b[0m\n\u001b[0;32m----> 1\u001b[0;31m \u001b[0mtuple1\u001b[0m\u001b[0;34m[\u001b[0m\u001b[0;36m0\u001b[0m\u001b[0;34m]\u001b[0m \u001b[0;34m=\u001b[0m \u001b[0;34m\"Not Joker\"\u001b[0m\u001b[0;34m\u001b[0m\u001b[0;34m\u001b[0m\u001b[0m\n\u001b[0m",
      "\u001b[0;31mTypeError\u001b[0m: 'tuple' object does not support item assignment"
     ]
    }
   ],
   "source": [
    "tuple1[0] = \"Not Joker\""
   ]
  },
  {
   "cell_type": "code",
   "execution_count": 24,
   "metadata": {
    "executionInfo": {
     "elapsed": 1268,
     "status": "ok",
     "timestamp": 1621417508055,
     "user": {
      "displayName": "Dr. Iftikhar Ahmad",
      "photoUrl": "",
      "userId": "14655798496938853703"
     },
     "user_tz": -300
    },
    "id": "gcOEVkpN5H6J"
   },
   "outputs": [],
   "source": [
    "tuple2 = tuple1"
   ]
  },
  {
   "cell_type": "code",
   "execution_count": 25,
   "metadata": {
    "colab": {
     "base_uri": "https://localhost:8080/"
    },
    "executionInfo": {
     "elapsed": 1013,
     "status": "ok",
     "timestamp": 1621417510246,
     "user": {
      "displayName": "Dr. Iftikhar Ahmad",
      "photoUrl": "",
      "userId": "14655798496938853703"
     },
     "user_tz": -300
    },
    "id": "f0qRt1YP5H6J",
    "outputId": "832ca6d1-e67b-4a68-b82e-eab4aa30cfd7"
   },
   "outputs": [
    {
     "data": {
      "text/plain": [
       "('Joker', 2019, 8.6)"
      ]
     },
     "execution_count": 25,
     "metadata": {},
     "output_type": "execute_result"
    }
   ],
   "source": [
    "tuple2"
   ]
  },
  {
   "cell_type": "markdown",
   "metadata": {
    "id": "LqqpAWZt5H6J"
   },
   "source": [
    "##  Concatenating Tuples"
   ]
  },
  {
   "cell_type": "code",
   "execution_count": 26,
   "metadata": {
    "executionInfo": {
     "elapsed": 1216,
     "status": "ok",
     "timestamp": 1621417557092,
     "user": {
      "displayName": "Dr. Iftikhar Ahmad",
      "photoUrl": "",
      "userId": "14655798496938853703"
     },
     "user_tz": -300
    },
    "id": "QBURmD805H6K"
   },
   "outputs": [],
   "source": [
    "tuple3 = tuple1 + (\"Thriller\",2)"
   ]
  },
  {
   "cell_type": "code",
   "execution_count": 27,
   "metadata": {
    "colab": {
     "base_uri": "https://localhost:8080/"
    },
    "executionInfo": {
     "elapsed": 1257,
     "status": "ok",
     "timestamp": 1621417564564,
     "user": {
      "displayName": "Dr. Iftikhar Ahmad",
      "photoUrl": "",
      "userId": "14655798496938853703"
     },
     "user_tz": -300
    },
    "id": "aMUL9V-i5H6K",
    "outputId": "621da5f3-c04a-4bd8-8707-a78f194ada35"
   },
   "outputs": [
    {
     "data": {
      "text/plain": [
       "('Joker', 2019, 8.6, 'Thriller', 2)"
      ]
     },
     "execution_count": 27,
     "metadata": {},
     "output_type": "execute_result"
    }
   ],
   "source": [
    "tuple3"
   ]
  },
  {
   "cell_type": "code",
   "execution_count": 28,
   "metadata": {
    "executionInfo": {
     "elapsed": 920,
     "status": "ok",
     "timestamp": 1621417575443,
     "user": {
      "displayName": "Dr. Iftikhar Ahmad",
      "photoUrl": "",
      "userId": "14655798496938853703"
     },
     "user_tz": -300
    },
    "id": "lv7qRlR65H6L"
   },
   "outputs": [],
   "source": [
    "del(tuple3)"
   ]
  },
  {
   "cell_type": "code",
   "execution_count": 29,
   "metadata": {
    "colab": {
     "base_uri": "https://localhost:8080/",
     "height": 164
    },
    "executionInfo": {
     "elapsed": 977,
     "status": "error",
     "timestamp": 1621417581680,
     "user": {
      "displayName": "Dr. Iftikhar Ahmad",
      "photoUrl": "",
      "userId": "14655798496938853703"
     },
     "user_tz": -300
    },
    "id": "OSA0X4rx5H6L",
    "outputId": "94162654-64dd-4cf2-a9b5-2f4f5a733343"
   },
   "outputs": [
    {
     "ename": "NameError",
     "evalue": "name 'tuple3' is not defined",
     "output_type": "error",
     "traceback": [
      "\u001b[0;31m---------------------------------------------------------------------------\u001b[0m",
      "\u001b[0;31mNameError\u001b[0m                                 Traceback (most recent call last)",
      "\u001b[0;32m<ipython-input-29-e960713a7779>\u001b[0m in \u001b[0;36m<module>\u001b[0;34m\u001b[0m\n\u001b[0;32m----> 1\u001b[0;31m \u001b[0mtuple3\u001b[0m\u001b[0;34m\u001b[0m\u001b[0;34m\u001b[0m\u001b[0m\n\u001b[0m",
      "\u001b[0;31mNameError\u001b[0m: name 'tuple3' is not defined"
     ]
    }
   ],
   "source": [
    "tuple3"
   ]
  },
  {
   "cell_type": "code",
   "execution_count": 30,
   "metadata": {
    "colab": {
     "base_uri": "https://localhost:8080/"
    },
    "executionInfo": {
     "elapsed": 1048,
     "status": "ok",
     "timestamp": 1621417589001,
     "user": {
      "displayName": "Dr. Iftikhar Ahmad",
      "photoUrl": "",
      "userId": "14655798496938853703"
     },
     "user_tz": -300
    },
    "id": "03k19GCs5H6M",
    "outputId": "9f7c1441-b74d-4457-bcbb-c14e5ea29332"
   },
   "outputs": [
    {
     "data": {
      "text/plain": [
       "('Joker', 2019, 8.6)"
      ]
     },
     "execution_count": 30,
     "metadata": {},
     "output_type": "execute_result"
    }
   ],
   "source": [
    "tuple2"
   ]
  },
  {
   "cell_type": "code",
   "execution_count": 31,
   "metadata": {
    "colab": {
     "base_uri": "https://localhost:8080/",
     "height": 164
    },
    "executionInfo": {
     "elapsed": 898,
     "status": "error",
     "timestamp": 1621417606064,
     "user": {
      "displayName": "Dr. Iftikhar Ahmad",
      "photoUrl": "",
      "userId": "14655798496938853703"
     },
     "user_tz": -300
    },
    "id": "BsLoUcwp5H6M",
    "outputId": "3cc5d771-dbb3-4036-b1c0-1fb64f5cdc15"
   },
   "outputs": [
    {
     "ename": "TypeError",
     "evalue": "'tuple' object doesn't support item deletion",
     "output_type": "error",
     "traceback": [
      "\u001b[0;31m---------------------------------------------------------------------------\u001b[0m",
      "\u001b[0;31mTypeError\u001b[0m                                 Traceback (most recent call last)",
      "\u001b[0;32m<ipython-input-31-33120aaccddd>\u001b[0m in \u001b[0;36m<module>\u001b[0;34m\u001b[0m\n\u001b[0;32m----> 1\u001b[0;31m \u001b[0;32mdel\u001b[0m\u001b[0;34m(\u001b[0m\u001b[0mtuple2\u001b[0m\u001b[0;34m[\u001b[0m\u001b[0;36m0\u001b[0m\u001b[0;34m]\u001b[0m\u001b[0;34m)\u001b[0m\u001b[0;34m\u001b[0m\u001b[0;34m\u001b[0m\u001b[0m\n\u001b[0m",
      "\u001b[0;31mTypeError\u001b[0m: 'tuple' object doesn't support item deletion"
     ]
    }
   ],
   "source": [
    "del(tuple2[0])"
   ]
  },
  {
   "cell_type": "code",
   "execution_count": 32,
   "metadata": {
    "id": "H38dkFa_5H6M",
    "outputId": "5e6567af-170a-4723-82fc-3850f4496c3a"
   },
   "outputs": [
    {
     "data": {
      "text/plain": [
       "('Joker', 2019, 8.6)"
      ]
     },
     "execution_count": 32,
     "metadata": {},
     "output_type": "execute_result"
    }
   ],
   "source": [
    "tuple2"
   ]
  },
  {
   "cell_type": "code",
   "execution_count": 33,
   "metadata": {
    "colab": {
     "base_uri": "https://localhost:8080/"
    },
    "executionInfo": {
     "elapsed": 935,
     "status": "ok",
     "timestamp": 1621417616696,
     "user": {
      "displayName": "Dr. Iftikhar Ahmad",
      "photoUrl": "",
      "userId": "14655798496938853703"
     },
     "user_tz": -300
    },
    "id": "DWTCXhrM5H6N",
    "outputId": "ac4bbc54-4247-4e45-9f30-2cba77d42ae3"
   },
   "outputs": [
    {
     "data": {
      "text/plain": [
       "('Joker', 2019, 8.6, 'Thriller', 2)"
      ]
     },
     "execution_count": 33,
     "metadata": {},
     "output_type": "execute_result"
    }
   ],
   "source": [
    "tuple3 = tuple1 + (\"Thriller\", 2)\n",
    "tuple3"
   ]
  },
  {
   "cell_type": "code",
   "execution_count": 34,
   "metadata": {
    "colab": {
     "base_uri": "https://localhost:8080/"
    },
    "executionInfo": {
     "elapsed": 1054,
     "status": "ok",
     "timestamp": 1621417631445,
     "user": {
      "displayName": "Dr. Iftikhar Ahmad",
      "photoUrl": "",
      "userId": "14655798496938853703"
     },
     "user_tz": -300
    },
    "id": "5Ju8suj_5H6N",
    "outputId": "f7588837-53c3-4b3d-e7a3-9b2e36ce9e0c"
   },
   "outputs": [
    {
     "data": {
      "text/plain": [
       "('Joker', 2019, 8.6)"
      ]
     },
     "execution_count": 34,
     "metadata": {},
     "output_type": "execute_result"
    }
   ],
   "source": [
    "tuple3[0:3]"
   ]
  },
  {
   "cell_type": "code",
   "execution_count": 35,
   "metadata": {
    "colab": {
     "base_uri": "https://localhost:8080/"
    },
    "executionInfo": {
     "elapsed": 948,
     "status": "ok",
     "timestamp": 1621417635386,
     "user": {
      "displayName": "Dr. Iftikhar Ahmad",
      "photoUrl": "",
      "userId": "14655798496938853703"
     },
     "user_tz": -300
    },
    "id": "NFJDu8I25H6O",
    "outputId": "b64a3f50-2211-48ac-97a6-1b5e217d9de4"
   },
   "outputs": [
    {
     "data": {
      "text/plain": [
       "('Thriller', 2)"
      ]
     },
     "execution_count": 35,
     "metadata": {},
     "output_type": "execute_result"
    }
   ],
   "source": [
    "tuple3[3:5]"
   ]
  },
  {
   "cell_type": "code",
   "execution_count": 36,
   "metadata": {
    "colab": {
     "base_uri": "https://localhost:8080/"
    },
    "executionInfo": {
     "elapsed": 911,
     "status": "ok",
     "timestamp": 1621417639790,
     "user": {
      "displayName": "Dr. Iftikhar Ahmad",
      "photoUrl": "",
      "userId": "14655798496938853703"
     },
     "user_tz": -300
    },
    "id": "R-lOycD95H6O",
    "outputId": "023d1ed0-7e5c-40ed-b1f8-d969802fbee1"
   },
   "outputs": [
    {
     "data": {
      "text/plain": [
       "5"
      ]
     },
     "execution_count": 36,
     "metadata": {},
     "output_type": "execute_result"
    }
   ],
   "source": [
    "len(tuple3)"
   ]
  },
  {
   "cell_type": "markdown",
   "metadata": {
    "id": "AQAaWDr55H6O"
   },
   "source": [
    "## Nested Tuples"
   ]
  },
  {
   "cell_type": "code",
   "execution_count": 37,
   "metadata": {
    "id": "WOxY6eic5H6P"
   },
   "outputs": [],
   "source": [
    "nested_tuple=(1, \"Ahmad\", (\"pop\", \"rock\"), (\"disco\", (1,2)))"
   ]
  },
  {
   "cell_type": "code",
   "execution_count": 38,
   "metadata": {
    "id": "dfSuvaZv5H6P",
    "outputId": "9b9bce36-d817-43db-eee5-1d76b6060cdf"
   },
   "outputs": [
    {
     "data": {
      "text/plain": [
       "'Ahmad'"
      ]
     },
     "execution_count": 38,
     "metadata": {},
     "output_type": "execute_result"
    }
   ],
   "source": [
    "nested_tuple[1]"
   ]
  },
  {
   "cell_type": "code",
   "execution_count": 39,
   "metadata": {
    "id": "W3dhgmmV5H6P",
    "outputId": "41803557-3bb2-48dc-cec0-b2b972af8de3"
   },
   "outputs": [
    {
     "data": {
      "text/plain": [
       "('pop', 'rock')"
      ]
     },
     "execution_count": 39,
     "metadata": {},
     "output_type": "execute_result"
    }
   ],
   "source": [
    "nested_tuple[2]"
   ]
  },
  {
   "cell_type": "code",
   "execution_count": 40,
   "metadata": {
    "id": "IiacDsgE5H6Q",
    "outputId": "4cda587b-c7e1-442f-9b93-e80df019ac78"
   },
   "outputs": [
    {
     "data": {
      "text/plain": [
       "('disco', (1, 2))"
      ]
     },
     "execution_count": 40,
     "metadata": {},
     "output_type": "execute_result"
    }
   ],
   "source": [
    "nested_tuple[3]"
   ]
  },
  {
   "cell_type": "code",
   "execution_count": 41,
   "metadata": {
    "id": "1_AAnGcZ5H6Q",
    "outputId": "bb14604e-e9e8-42d4-9cc2-e619813da69b"
   },
   "outputs": [
    {
     "data": {
      "text/plain": [
       "('pop', 'rock')"
      ]
     },
     "execution_count": 41,
     "metadata": {},
     "output_type": "execute_result"
    }
   ],
   "source": [
    "nested_tuple[2]"
   ]
  },
  {
   "cell_type": "code",
   "execution_count": 42,
   "metadata": {
    "id": "XbKmTskp5H6Q",
    "outputId": "07671010-a636-46f8-9493-9abda477987b"
   },
   "outputs": [
    {
     "data": {
      "text/plain": [
       "'rock'"
      ]
     },
     "execution_count": 42,
     "metadata": {},
     "output_type": "execute_result"
    }
   ],
   "source": [
    "nested_tuple[2][1]"
   ]
  },
  {
   "cell_type": "code",
   "execution_count": 43,
   "metadata": {
    "id": "8BDQ4VhY5H6R",
    "outputId": "9b69ac59-478e-4853-8f0c-ce90a32cc9ee"
   },
   "outputs": [
    {
     "data": {
      "text/plain": [
       "(1, 2)"
      ]
     },
     "execution_count": 43,
     "metadata": {},
     "output_type": "execute_result"
    }
   ],
   "source": [
    "nested_tuple[3][1]"
   ]
  },
  {
   "cell_type": "code",
   "execution_count": 44,
   "metadata": {
    "id": "Y19c6OIV5H6S"
   },
   "outputs": [
    {
     "data": {
      "text/plain": [
       "1"
      ]
     },
     "execution_count": 44,
     "metadata": {},
     "output_type": "execute_result"
    }
   ],
   "source": [
    "nested_tuple[3][1][0]"
   ]
  },
  {
   "cell_type": "code",
   "execution_count": 45,
   "metadata": {
    "id": "-tLG_2D25H6T"
   },
   "outputs": [
    {
     "ename": "IndexError",
     "evalue": "tuple index out of range",
     "output_type": "error",
     "traceback": [
      "\u001b[0;31m---------------------------------------------------------------------------\u001b[0m",
      "\u001b[0;31mIndexError\u001b[0m                                Traceback (most recent call last)",
      "\u001b[0;32m<ipython-input-45-902af79a8c04>\u001b[0m in \u001b[0;36m<module>\u001b[0;34m\u001b[0m\n\u001b[0;32m----> 1\u001b[0;31m \u001b[0mnested_tuple\u001b[0m\u001b[0;34m[\u001b[0m\u001b[0;36m3\u001b[0m\u001b[0;34m]\u001b[0m\u001b[0;34m[\u001b[0m\u001b[0;36m1\u001b[0m\u001b[0;34m]\u001b[0m\u001b[0;34m[\u001b[0m\u001b[0;36m4\u001b[0m\u001b[0;34m]\u001b[0m\u001b[0;34m\u001b[0m\u001b[0;34m\u001b[0m\u001b[0m\n\u001b[0m",
      "\u001b[0;31mIndexError\u001b[0m: tuple index out of range"
     ]
    }
   ],
   "source": [
    "nested_tuple[3][1][4]"
   ]
  },
  {
   "cell_type": "code",
   "execution_count": 40,
   "metadata": {
    "id": "PnztXTGM5H6T"
   },
   "outputs": [
    {
     "data": {
      "text/plain": [
       "(1, 'Ahmad', ('pop', 'rock'), ('disco', (1, 2)))"
      ]
     },
     "execution_count": 40,
     "metadata": {},
     "output_type": "execute_result"
    }
   ],
   "source": [
    "nested_tuple"
   ]
  },
  {
   "cell_type": "code",
   "execution_count": 41,
   "metadata": {
    "id": "On7LRZGI5H6T"
   },
   "outputs": [
    {
     "data": {
      "text/plain": [
       "'pop'"
      ]
     },
     "execution_count": 41,
     "metadata": {},
     "output_type": "execute_result"
    }
   ],
   "source": [
    "nested_tuple[2][0]"
   ]
  },
  {
   "cell_type": "code",
   "execution_count": 42,
   "metadata": {
    "id": "LTuBlIzq5H6T"
   },
   "outputs": [
    {
     "data": {
      "text/plain": [
       "'p'"
      ]
     },
     "execution_count": 42,
     "metadata": {},
     "output_type": "execute_result"
    }
   ],
   "source": [
    "nested_tuple[2][0][0]"
   ]
  },
  {
   "cell_type": "code",
   "execution_count": 43,
   "metadata": {
    "id": "fYXkRpcw5H6U"
   },
   "outputs": [],
   "source": [
    "tuple4 = (1, [2,3])"
   ]
  },
  {
   "cell_type": "code",
   "execution_count": 44,
   "metadata": {
    "id": "PPQeatjr5H6U"
   },
   "outputs": [
    {
     "data": {
      "text/plain": [
       "(1, [2, 3])"
      ]
     },
     "execution_count": 44,
     "metadata": {},
     "output_type": "execute_result"
    }
   ],
   "source": [
    "tuple4"
   ]
  },
  {
   "cell_type": "code",
   "execution_count": 45,
   "metadata": {
    "id": "g1CuqBTv5H6U"
   },
   "outputs": [
    {
     "data": {
      "text/plain": [
       "[2, 3]"
      ]
     },
     "execution_count": 45,
     "metadata": {},
     "output_type": "execute_result"
    }
   ],
   "source": [
    "tuple4[1]"
   ]
  },
  {
   "cell_type": "code",
   "execution_count": 46,
   "metadata": {
    "id": "awbxZzFU5H6U"
   },
   "outputs": [
    {
     "data": {
      "text/plain": [
       "3"
      ]
     },
     "execution_count": 46,
     "metadata": {},
     "output_type": "execute_result"
    }
   ],
   "source": [
    "tuple4[1][1]"
   ]
  },
  {
   "cell_type": "code",
   "execution_count": 47,
   "metadata": {
    "id": "8l6fWto-5H6V"
   },
   "outputs": [],
   "source": [
    "tuple4[1][1] = 5"
   ]
  },
  {
   "cell_type": "code",
   "execution_count": 48,
   "metadata": {
    "id": "0cvU9kOC5H6V"
   },
   "outputs": [
    {
     "data": {
      "text/plain": [
       "(1, [2, 5])"
      ]
     },
     "execution_count": 48,
     "metadata": {},
     "output_type": "execute_result"
    }
   ],
   "source": [
    "tuple4"
   ]
  },
  {
   "cell_type": "code",
   "execution_count": 49,
   "metadata": {
    "id": "TbjIv-7f5H6V"
   },
   "outputs": [
    {
     "ename": "TypeError",
     "evalue": "'tuple' object does not support item assignment",
     "output_type": "error",
     "traceback": [
      "\u001b[1;31m---------------------------------------------------------------------------\u001b[0m",
      "\u001b[1;31mTypeError\u001b[0m                                 Traceback (most recent call last)",
      "Cell \u001b[1;32mIn[49], line 1\u001b[0m\n\u001b[1;32m----> 1\u001b[0m \u001b[43mtuple4\u001b[49m\u001b[43m[\u001b[49m\u001b[38;5;241;43m0\u001b[39;49m\u001b[43m]\u001b[49m \u001b[38;5;241m=\u001b[39m \u001b[38;5;241m10\u001b[39m\n",
      "\u001b[1;31mTypeError\u001b[0m: 'tuple' object does not support item assignment"
     ]
    }
   ],
   "source": [
    "tuple4[0] = 10"
   ]
  },
  {
   "cell_type": "markdown",
   "metadata": {
    "id": "tKIIeAy15H6V"
   },
   "source": [
    "## Lists\n",
    "- Lists are an ordered sequence.\n",
    "- Lists are mutable.\n",
    "- Lists can contain different data types.\n",
    "- Lists can be nested.\n",
    "- Lists can nest tuples and other data structures."
   ]
  },
  {
   "cell_type": "code",
   "execution_count": 50,
   "metadata": {
    "id": "_MWpljHv5H6W"
   },
   "outputs": [],
   "source": [
    "L1 = [\"The Godfather\", 1972, 9.2]"
   ]
  },
  {
   "cell_type": "code",
   "execution_count": 51,
   "metadata": {
    "id": "Bc2Nko8W5H6W",
    "outputId": "161014e3-3e84-452c-ffd7-3a5b0f39aca6"
   },
   "outputs": [
    {
     "data": {
      "text/plain": [
       "['The Godfather', 1972, 9.2]"
      ]
     },
     "execution_count": 51,
     "metadata": {},
     "output_type": "execute_result"
    }
   ],
   "source": [
    "L1"
   ]
  },
  {
   "cell_type": "code",
   "execution_count": 52,
   "metadata": {
    "id": "bJ-wJCoX5H6X",
    "outputId": "ecfd65ab-198a-4f4a-e322-31b541582ff8"
   },
   "outputs": [
    {
     "data": {
      "text/plain": [
       "'The Godfather'"
      ]
     },
     "execution_count": 52,
     "metadata": {},
     "output_type": "execute_result"
    }
   ],
   "source": [
    "L1[0]"
   ]
  },
  {
   "cell_type": "code",
   "execution_count": 53,
   "metadata": {
    "id": "vt5uYosI5H6X",
    "outputId": "fa8ae19c-1e36-4cf7-d5c8-e053bc76c746"
   },
   "outputs": [
    {
     "data": {
      "text/plain": [
       "9.2"
      ]
     },
     "execution_count": 53,
     "metadata": {},
     "output_type": "execute_result"
    }
   ],
   "source": [
    "L1[-1]"
   ]
  },
  {
   "cell_type": "code",
   "execution_count": 54,
   "metadata": {
    "id": "49eX1IC75H6X",
    "outputId": "969e6a68-5cab-498d-c2c3-0e67030f890c"
   },
   "outputs": [
    {
     "data": {
      "text/plain": [
       "['The Godfather', 1972, 9.2]"
      ]
     },
     "execution_count": 54,
     "metadata": {},
     "output_type": "execute_result"
    }
   ],
   "source": [
    "L1[0:3]"
   ]
  },
  {
   "cell_type": "code",
   "execution_count": 55,
   "metadata": {
    "id": "d1Ppb1YD5H6Y",
    "outputId": "e52cca13-72ee-46e1-b10b-a2b4c5f3f60b"
   },
   "outputs": [
    {
     "data": {
      "text/plain": [
       "list"
      ]
     },
     "execution_count": 55,
     "metadata": {},
     "output_type": "execute_result"
    }
   ],
   "source": [
    "type(L1)"
   ]
  },
  {
   "cell_type": "markdown",
   "metadata": {
    "id": "zE0mIM_n5H6Y"
   },
   "source": [
    "## Extending List"
   ]
  },
  {
   "cell_type": "code",
   "execution_count": 56,
   "metadata": {
    "id": "Z1v0ywBG5H6Y"
   },
   "outputs": [],
   "source": [
    "L1.extend([\"Drama\",3])"
   ]
  },
  {
   "cell_type": "code",
   "execution_count": 57,
   "metadata": {
    "id": "Rd8QL4zX5H6Z",
    "outputId": "1fe43981-4e77-4039-d36d-28aa8c05ce9f"
   },
   "outputs": [
    {
     "data": {
      "text/plain": [
       "['The Godfather', 1972, 9.2, 'Drama', 3]"
      ]
     },
     "execution_count": 57,
     "metadata": {},
     "output_type": "execute_result"
    }
   ],
   "source": [
    "L1"
   ]
  },
  {
   "cell_type": "markdown",
   "metadata": {
    "id": "yQtUMEPk5H6Z"
   },
   "source": [
    "## Apending List"
   ]
  },
  {
   "cell_type": "code",
   "execution_count": 58,
   "metadata": {
    "id": "STIlOEHa5H6Z"
   },
   "outputs": [],
   "source": [
    "L1 = [\"The Godfather\", 1972, 9.2]\n",
    "L1.append([\"le1\", 2])"
   ]
  },
  {
   "cell_type": "code",
   "execution_count": 59,
   "metadata": {
    "id": "uCCu6_5Q5H6a",
    "outputId": "15926452-50a9-4cb1-f44d-a854e0176df7"
   },
   "outputs": [
    {
     "data": {
      "text/plain": [
       "['The Godfather', 1972, 9.2, ['le1', 2]]"
      ]
     },
     "execution_count": 59,
     "metadata": {},
     "output_type": "execute_result"
    }
   ],
   "source": [
    "L1"
   ]
  },
  {
   "cell_type": "markdown",
   "metadata": {
    "id": "9apNXE4Y5H6b"
   },
   "source": [
    "## Converting String to List"
   ]
  },
  {
   "cell_type": "code",
   "execution_count": 47,
   "metadata": {
    "id": "BWhCgq645H6b"
   },
   "outputs": [],
   "source": [
    "fileData = \"This is some data read from a file using some strange command that nobody undertands\""
   ]
  },
  {
   "cell_type": "code",
   "execution_count": 48,
   "metadata": {
    "id": "dqrruZyS5H6c",
    "outputId": "6058e019-6902-4f2f-a4bf-2f690b3fa6c8"
   },
   "outputs": [
    {
     "data": {
      "text/plain": [
       "'This is some data read from a file using some strange command that nobody undertands'"
      ]
     },
     "execution_count": 48,
     "metadata": {},
     "output_type": "execute_result"
    }
   ],
   "source": [
    "fileData"
   ]
  },
  {
   "cell_type": "code",
   "execution_count": 49,
   "metadata": {
    "id": "y0FmOgZz5H6c",
    "outputId": "df88fe5c-edc9-49ad-ad31-57b4c3c7af42"
   },
   "outputs": [
    {
     "data": {
      "text/plain": [
       "84"
      ]
     },
     "execution_count": 49,
     "metadata": {},
     "output_type": "execute_result"
    }
   ],
   "source": [
    "len(fileData)"
   ]
  },
  {
   "cell_type": "code",
   "execution_count": 54,
   "metadata": {
    "id": "XSQDGc8l5H6c"
   },
   "outputs": [],
   "source": [
    "words = fileData.split()"
   ]
  },
  {
   "cell_type": "code",
   "execution_count": 55,
   "metadata": {
    "id": "xfWlQtPF5H6d",
    "outputId": "23824c8a-d043-4472-bcb0-022836314c4d"
   },
   "outputs": [
    {
     "data": {
      "text/plain": [
       "['This',\n",
       " 'is',\n",
       " 'some',\n",
       " 'data',\n",
       " 'read',\n",
       " 'from',\n",
       " 'a',\n",
       " 'file',\n",
       " 'using',\n",
       " 'some',\n",
       " 'strange',\n",
       " 'command',\n",
       " 'that',\n",
       " 'nobody',\n",
       " 'undertands']"
      ]
     },
     "execution_count": 55,
     "metadata": {},
     "output_type": "execute_result"
    }
   ],
   "source": [
    "words"
   ]
  },
  {
   "cell_type": "code",
   "execution_count": 56,
   "metadata": {
    "id": "ihhMVK5W5H6d",
    "outputId": "a15264c5-47a2-4695-81d5-3db8a2888dc1"
   },
   "outputs": [
    {
     "data": {
      "text/plain": [
       "15"
      ]
     },
     "execution_count": 56,
     "metadata": {},
     "output_type": "execute_result"
    }
   ],
   "source": [
    "len(words)"
   ]
  },
  {
   "cell_type": "code",
   "execution_count": 57,
   "metadata": {
    "id": "Lau6woin5H6d"
   },
   "outputs": [],
   "source": [
    "student_record = \"22P2232,Muhammad,Ahmad,A,3.8\""
   ]
  },
  {
   "cell_type": "code",
   "execution_count": 58,
   "metadata": {
    "id": "Q5tIVhc85H6d",
    "outputId": "af5a37dc-3d0f-48a0-b780-43a4726935e5"
   },
   "outputs": [
    {
     "data": {
      "text/plain": [
       "'22P2232,Muhammad,Ahmad,A,3.8'"
      ]
     },
     "execution_count": 58,
     "metadata": {},
     "output_type": "execute_result"
    }
   ],
   "source": [
    "student_record"
   ]
  },
  {
   "cell_type": "code",
   "execution_count": 59,
   "metadata": {
    "id": "yyhacJkm5H6e"
   },
   "outputs": [],
   "source": [
    "student = student_record.split(\",\")"
   ]
  },
  {
   "cell_type": "code",
   "execution_count": 60,
   "metadata": {
    "id": "KVwxB7EY5H6e",
    "outputId": "e216a460-1437-466f-9340-ecbb61fdc406"
   },
   "outputs": [
    {
     "data": {
      "text/plain": [
       "['22P2232', 'Muhammad', 'Ahmad', 'A', '3.8']"
      ]
     },
     "execution_count": 60,
     "metadata": {},
     "output_type": "execute_result"
    }
   ],
   "source": [
    "student"
   ]
  },
  {
   "cell_type": "markdown",
   "metadata": {
    "id": "1LAz2Vrb5H6e"
   },
   "source": [
    "## Dictionary\n",
    "- A dictionary is a key-value paired list."
   ]
  },
  {
   "cell_type": "code",
   "execution_count": 61,
   "metadata": {
    "id": "ssiDhBJ15H6f"
   },
   "outputs": [],
   "source": [
    "student = {\"Name\":\"Rahim\", \"RegNo\":\"18PWBCS0101\", \"Section\":\"A\"}"
   ]
  },
  {
   "cell_type": "code",
   "execution_count": 62,
   "metadata": {
    "id": "DBkz3uNG5H6f",
    "outputId": "d8317131-c2ab-4f8b-df7b-ab0dfbc14fdb"
   },
   "outputs": [
    {
     "data": {
      "text/plain": [
       "{'Name': 'Rahim', 'RegNo': '18PWBCS0101', 'Section': 'A'}"
      ]
     },
     "execution_count": 62,
     "metadata": {},
     "output_type": "execute_result"
    }
   ],
   "source": [
    "student"
   ]
  },
  {
   "cell_type": "code",
   "execution_count": 63,
   "metadata": {
    "id": "cKrbJIBJ5H6f",
    "outputId": "ffee08ab-47ba-46ac-b6a8-05cd4c529399"
   },
   "outputs": [
    {
     "data": {
      "text/plain": [
       "'Rahim'"
      ]
     },
     "execution_count": 63,
     "metadata": {},
     "output_type": "execute_result"
    }
   ],
   "source": [
    "student[\"Name\"]"
   ]
  },
  {
   "cell_type": "code",
   "execution_count": 64,
   "metadata": {
    "id": "UJZHUDSD5H6f",
    "outputId": "b4cae2a7-05e7-4f2c-9ef6-8294874bbc29"
   },
   "outputs": [
    {
     "ename": "KeyError",
     "evalue": "0",
     "output_type": "error",
     "traceback": [
      "\u001b[0;31m---------------------------------------------------------------------------\u001b[0m",
      "\u001b[0;31mKeyError\u001b[0m                                  Traceback (most recent call last)",
      "\u001b[0;32m<ipython-input-64-b8c2845eba9d>\u001b[0m in \u001b[0;36m<module>\u001b[0;34m\u001b[0m\n\u001b[1;32m      1\u001b[0m \u001b[0;31m# Dictionaries are non-indexed\u001b[0m\u001b[0;34m\u001b[0m\u001b[0;34m\u001b[0m\u001b[0;34m\u001b[0m\u001b[0m\n\u001b[0;32m----> 2\u001b[0;31m \u001b[0mstudent\u001b[0m\u001b[0;34m[\u001b[0m\u001b[0;36m0\u001b[0m\u001b[0;34m]\u001b[0m\u001b[0;34m\u001b[0m\u001b[0;34m\u001b[0m\u001b[0m\n\u001b[0m",
      "\u001b[0;31mKeyError\u001b[0m: 0"
     ]
    }
   ],
   "source": [
    "# Dictionaries are non-indexed\n",
    "student[0]"
   ]
  },
  {
   "cell_type": "code",
   "execution_count": 65,
   "metadata": {
    "id": "fRvRRaF_5H6g"
   },
   "outputs": [],
   "source": [
    "movies_release = {\"The Godfather\": 1972, \"The Dark Knight\":2008, \"12 Angry Men\":1957, \"Pulp Fiction\":1994}"
   ]
  },
  {
   "cell_type": "code",
   "execution_count": 75,
   "metadata": {
    "id": "ZoR4tobf5H6i",
    "outputId": "f33185ae-30e4-4c4f-fe94-0119e517ea6b"
   },
   "outputs": [
    {
     "data": {
      "text/plain": [
       "{'The Godfather': 1972,\n",
       " 'The Dark Knight': 2008,\n",
       " '12 Angry Men': 1957,\n",
       " 'Pulp Fiction': 1994}"
      ]
     },
     "execution_count": 75,
     "metadata": {},
     "output_type": "execute_result"
    }
   ],
   "source": [
    "movies_release"
   ]
  },
  {
   "cell_type": "code",
   "execution_count": 76,
   "metadata": {
    "id": "AIEpH1U45H6j",
    "outputId": "f3c374e1-fcc9-4663-bebd-cac029dd591a"
   },
   "outputs": [
    {
     "data": {
      "text/plain": [
       "1994"
      ]
     },
     "execution_count": 76,
     "metadata": {},
     "output_type": "execute_result"
    }
   ],
   "source": [
    "movies_release[\"Pulp Fiction\"]"
   ]
  },
  {
   "cell_type": "code",
   "execution_count": 77,
   "metadata": {
    "id": "VGxZfquK5H6j",
    "outputId": "9ed7a531-d05d-4664-a947-efcea9c7f786"
   },
   "outputs": [
    {
     "ename": "KeyError",
     "evalue": "'Inception'",
     "output_type": "error",
     "traceback": [
      "\u001b[1;31m---------------------------------------------------------------------------\u001b[0m",
      "\u001b[1;31mKeyError\u001b[0m                                  Traceback (most recent call last)",
      "Cell \u001b[1;32mIn[77], line 1\u001b[0m\n\u001b[1;32m----> 1\u001b[0m \u001b[43mmovies_release\u001b[49m\u001b[43m[\u001b[49m\u001b[38;5;124;43m\"\u001b[39;49m\u001b[38;5;124;43mInception\u001b[39;49m\u001b[38;5;124;43m\"\u001b[39;49m\u001b[43m]\u001b[49m\n",
      "\u001b[1;31mKeyError\u001b[0m: 'Inception'"
     ]
    }
   ],
   "source": [
    "movies_release[\"Inception\"]"
   ]
  },
  {
   "cell_type": "markdown",
   "metadata": {
    "id": "1j22p1if5H6k"
   },
   "source": [
    "## Adding elements in the dictionary"
   ]
  },
  {
   "cell_type": "code",
   "execution_count": 78,
   "metadata": {
    "id": "QSqekOb85H6k"
   },
   "outputs": [],
   "source": [
    "movies_release[\"Inception\"] = 2010"
   ]
  },
  {
   "cell_type": "code",
   "execution_count": 79,
   "metadata": {
    "id": "yZJ0ipMR5H6k",
    "outputId": "3f76a276-ead8-4ba6-eb3a-46af47909c28"
   },
   "outputs": [
    {
     "data": {
      "text/plain": [
       "{'The Godfather': 1972,\n",
       " 'The Dark Knight': 2008,\n",
       " '12 Angry Men': 1957,\n",
       " 'Pulp Fiction': 1994,\n",
       " 'Inception': 2010}"
      ]
     },
     "execution_count": 79,
     "metadata": {},
     "output_type": "execute_result"
    }
   ],
   "source": [
    "movies_release"
   ]
  },
  {
   "cell_type": "code",
   "execution_count": 80,
   "metadata": {
    "id": "B3yRZzLZ5H6l"
   },
   "outputs": [],
   "source": [
    "movies_release[\"Inception\"] = 2010"
   ]
  },
  {
   "cell_type": "code",
   "execution_count": 81,
   "metadata": {
    "id": "3sxjKsnl5H6l",
    "outputId": "6168312d-81e7-423b-aef9-61156c07c586"
   },
   "outputs": [
    {
     "data": {
      "text/plain": [
       "{'The Godfather': 1972,\n",
       " 'The Dark Knight': 2008,\n",
       " '12 Angry Men': 1957,\n",
       " 'Pulp Fiction': 1994,\n",
       " 'Inception': 2010}"
      ]
     },
     "execution_count": 81,
     "metadata": {},
     "output_type": "execute_result"
    }
   ],
   "source": [
    "movies_release"
   ]
  },
  {
   "cell_type": "code",
   "execution_count": 82,
   "metadata": {
    "id": "gioyskiQ5H6l"
   },
   "outputs": [],
   "source": [
    "movies_release[\"Inception\"] = 2012"
   ]
  },
  {
   "cell_type": "code",
   "execution_count": 83,
   "metadata": {
    "id": "4omEgMPl5H6m",
    "outputId": "fac7f1dd-cd81-485d-eabe-d842d9148023"
   },
   "outputs": [
    {
     "data": {
      "text/plain": [
       "{'The Godfather': 1972,\n",
       " 'The Dark Knight': 2008,\n",
       " '12 Angry Men': 1957,\n",
       " 'Pulp Fiction': 1994,\n",
       " 'Inception': 2012}"
      ]
     },
     "execution_count": 83,
     "metadata": {},
     "output_type": "execute_result"
    }
   ],
   "source": [
    "movies_release"
   ]
  },
  {
   "cell_type": "code",
   "execution_count": 84,
   "metadata": {
    "id": "9nKygLn15H6m",
    "outputId": "2dfba833-faf8-480f-950e-a14b6361e1f4"
   },
   "outputs": [
    {
     "data": {
      "text/plain": [
       "{'The Godfather': 1972,\n",
       " 'The Dark Knight': 2008,\n",
       " '12 Angry Men': 1957,\n",
       " 'Pulp Fiction': 1994,\n",
       " 'Inception': 2010}"
      ]
     },
     "execution_count": 84,
     "metadata": {},
     "output_type": "execute_result"
    }
   ],
   "source": [
    "movies_release[\"Inception\"] = 2010\n",
    "movies_release"
   ]
  },
  {
   "cell_type": "code",
   "execution_count": 85,
   "metadata": {
    "id": "YoYOKG8v5H6m"
   },
   "outputs": [],
   "source": [
    "del(movies_release[\"Inception\"])"
   ]
  },
  {
   "cell_type": "code",
   "execution_count": 86,
   "metadata": {
    "id": "BnUwCq6P5H6n",
    "outputId": "ea9902d2-bff0-45de-8b32-6d7d18b8fe57"
   },
   "outputs": [
    {
     "data": {
      "text/plain": [
       "{'The Godfather': 1972,\n",
       " 'The Dark Knight': 2008,\n",
       " '12 Angry Men': 1957,\n",
       " 'Pulp Fiction': 1994}"
      ]
     },
     "execution_count": 86,
     "metadata": {},
     "output_type": "execute_result"
    }
   ],
   "source": [
    "movies_release"
   ]
  },
  {
   "cell_type": "code",
   "execution_count": 87,
   "metadata": {
    "id": "uvLd-Lyw5H6n",
    "outputId": "bb597396-ee41-48d4-f397-d79d0aa63e5a"
   },
   "outputs": [
    {
     "ename": "KeyError",
     "evalue": "'Inception'",
     "output_type": "error",
     "traceback": [
      "\u001b[1;31m---------------------------------------------------------------------------\u001b[0m",
      "\u001b[1;31mKeyError\u001b[0m                                  Traceback (most recent call last)",
      "Cell \u001b[1;32mIn[87], line 1\u001b[0m\n\u001b[1;32m----> 1\u001b[0m \u001b[38;5;28;01mdel\u001b[39;00m(movies_release[\u001b[38;5;124m\"\u001b[39m\u001b[38;5;124mInception\u001b[39m\u001b[38;5;124m\"\u001b[39m])\n",
      "\u001b[1;31mKeyError\u001b[0m: 'Inception'"
     ]
    }
   ],
   "source": [
    "del(movies_release[\"Inception\"])"
   ]
  },
  {
   "cell_type": "code",
   "execution_count": 88,
   "metadata": {
    "id": "Zh7ILunp5H6n"
   },
   "outputs": [],
   "source": [
    "movies_release[\"Inception\"] = 2010"
   ]
  },
  {
   "cell_type": "code",
   "execution_count": 89,
   "metadata": {
    "id": "Q1j38CQn5H6o",
    "outputId": "bf0a9ef7-f9bc-4c8f-f37f-5f8f4e6c5eca"
   },
   "outputs": [
    {
     "data": {
      "text/plain": [
       "{'The Godfather': 1972,\n",
       " 'The Dark Knight': 2008,\n",
       " '12 Angry Men': 1957,\n",
       " 'Pulp Fiction': 1994,\n",
       " 'Inception': 2010}"
      ]
     },
     "execution_count": 89,
     "metadata": {},
     "output_type": "execute_result"
    }
   ],
   "source": [
    "movies_release"
   ]
  },
  {
   "cell_type": "code",
   "execution_count": 90,
   "metadata": {
    "id": "FE6808vK5H6o"
   },
   "outputs": [],
   "source": [
    "movies_release[\"Inception\"] = \"\""
   ]
  },
  {
   "cell_type": "code",
   "execution_count": 91,
   "metadata": {
    "id": "XJV6rzDl5H6o",
    "outputId": "bcb65447-54c2-4367-c56f-899d7b5167af"
   },
   "outputs": [
    {
     "data": {
      "text/plain": [
       "{'The Godfather': 1972,\n",
       " 'The Dark Knight': 2008,\n",
       " '12 Angry Men': 1957,\n",
       " 'Pulp Fiction': 1994,\n",
       " 'Inception': ''}"
      ]
     },
     "execution_count": 91,
     "metadata": {},
     "output_type": "execute_result"
    }
   ],
   "source": [
    "movies_release"
   ]
  },
  {
   "cell_type": "code",
   "execution_count": 92,
   "metadata": {
    "id": "LTElhE4f5H6o"
   },
   "outputs": [],
   "source": [
    "movies_release[\"Inception\"] = 2010"
   ]
  },
  {
   "cell_type": "code",
   "execution_count": 93,
   "metadata": {
    "id": "9LZfDSWW5H6p",
    "outputId": "700f229f-d8ee-4982-8a38-a03936dd5aeb"
   },
   "outputs": [
    {
     "data": {
      "text/plain": [
       "{'The Godfather': 1972,\n",
       " 'The Dark Knight': 2008,\n",
       " '12 Angry Men': 1957,\n",
       " 'Pulp Fiction': 1994,\n",
       " 'Inception': 2010}"
      ]
     },
     "execution_count": 93,
     "metadata": {},
     "output_type": "execute_result"
    }
   ],
   "source": [
    "movies_release"
   ]
  },
  {
   "cell_type": "markdown",
   "metadata": {
    "id": "IM4neM-l5H6p"
   },
   "source": [
    "## Verifying elements in dictionary"
   ]
  },
  {
   "cell_type": "code",
   "execution_count": 94,
   "metadata": {
    "id": "JHusX0tR5H6p"
   },
   "outputs": [],
   "source": [
    "findmovie = \"The Dark Knight\""
   ]
  },
  {
   "cell_type": "code",
   "execution_count": 95,
   "metadata": {
    "id": "GYWFFA_z5H6q",
    "outputId": "211ffa1f-9a61-4a7e-e212-a77bde90843c"
   },
   "outputs": [
    {
     "data": {
      "text/plain": [
       "True"
      ]
     },
     "execution_count": 95,
     "metadata": {},
     "output_type": "execute_result"
    }
   ],
   "source": [
    "findmovie in movies_release"
   ]
  },
  {
   "cell_type": "code",
   "execution_count": 96,
   "metadata": {
    "id": "sXi42qQt5H6r"
   },
   "outputs": [],
   "source": [
    "findmovie = \"The Not so dark Knight\""
   ]
  },
  {
   "cell_type": "code",
   "execution_count": 97,
   "metadata": {
    "id": "lgb5jBRQ5H6r",
    "outputId": "4fbd4abb-ca02-41bd-d3c4-f6cda4f2273c"
   },
   "outputs": [
    {
     "data": {
      "text/plain": [
       "False"
      ]
     },
     "execution_count": 97,
     "metadata": {},
     "output_type": "execute_result"
    }
   ],
   "source": [
    "findmovie in movies_release"
   ]
  },
  {
   "cell_type": "code",
   "execution_count": 98,
   "metadata": {
    "id": "5E8FjGTx5H6s",
    "outputId": "7797873f-4447-4e7e-c0c9-031e553f7517"
   },
   "outputs": [
    {
     "data": {
      "text/plain": [
       "{'The Godfather': 1972,\n",
       " 'The Dark Knight': 2008,\n",
       " '12 Angry Men': 1957,\n",
       " 'Pulp Fiction': 1994,\n",
       " 'Inception': 2010}"
      ]
     },
     "execution_count": 98,
     "metadata": {},
     "output_type": "execute_result"
    }
   ],
   "source": [
    "movies_release"
   ]
  },
  {
   "cell_type": "markdown",
   "metadata": {
    "id": "oJWkIMqV5H6s"
   },
   "source": [
    "## Obtaining Keys and Values"
   ]
  },
  {
   "cell_type": "code",
   "execution_count": 99,
   "metadata": {
    "id": "B5o-ypft5H6s",
    "outputId": "db648aa1-a9c1-4bfb-ddd2-9c7f954df16c"
   },
   "outputs": [
    {
     "data": {
      "text/plain": [
       "dict_keys(['The Godfather', 'The Dark Knight', '12 Angry Men', 'Pulp Fiction', 'Inception'])"
      ]
     },
     "execution_count": 99,
     "metadata": {},
     "output_type": "execute_result"
    }
   ],
   "source": [
    "movies_release.keys()"
   ]
  },
  {
   "cell_type": "code",
   "execution_count": 100,
   "metadata": {
    "id": "iCpzRoK45H6s",
    "outputId": "ffec844e-3627-4154-9e1d-6b4df6613169"
   },
   "outputs": [
    {
     "ename": "AttributeError",
     "evalue": "'dict' object has no attribute 'find'",
     "output_type": "error",
     "traceback": [
      "\u001b[1;31m---------------------------------------------------------------------------\u001b[0m",
      "\u001b[1;31mAttributeError\u001b[0m                            Traceback (most recent call last)",
      "Cell \u001b[1;32mIn[100], line 1\u001b[0m\n\u001b[1;32m----> 1\u001b[0m \u001b[43mmovies_release\u001b[49m\u001b[38;5;241;43m.\u001b[39;49m\u001b[43mfind\u001b[49m(\u001b[38;5;124m\"\u001b[39m\u001b[38;5;124mThe Dark Knight\u001b[39m\u001b[38;5;124m\"\u001b[39m)\n",
      "\u001b[1;31mAttributeError\u001b[0m: 'dict' object has no attribute 'find'"
     ]
    }
   ],
   "source": [
    "movies_release.find(\"The Dark Knight\")"
   ]
  },
  {
   "cell_type": "code",
   "execution_count": 101,
   "metadata": {
    "id": "f2eHsVGo5H6t",
    "outputId": "683853af-234f-47fd-a25e-395ef6aafe92"
   },
   "outputs": [
    {
     "data": {
      "text/plain": [
       "{'The Godfather': 1972,\n",
       " 'The Dark Knight': 2008,\n",
       " '12 Angry Men': 1957,\n",
       " 'Pulp Fiction': 1994,\n",
       " 'Inception': 2010}"
      ]
     },
     "execution_count": 101,
     "metadata": {},
     "output_type": "execute_result"
    }
   ],
   "source": [
    "movies_release"
   ]
  },
  {
   "cell_type": "code",
   "execution_count": 102,
   "metadata": {
    "id": "aRKOOVrV5H6t",
    "outputId": "c78dbda6-7c54-4fff-eb7c-80496bd3c1dc"
   },
   "outputs": [
    {
     "data": {
      "text/plain": [
       "dict_keys(['The Godfather', 'The Dark Knight', '12 Angry Men', 'Pulp Fiction', 'Inception'])"
      ]
     },
     "execution_count": 102,
     "metadata": {},
     "output_type": "execute_result"
    }
   ],
   "source": [
    "movies_release.keys()"
   ]
  },
  {
   "cell_type": "code",
   "execution_count": 103,
   "metadata": {
    "id": "W7XnGla_5H6t",
    "outputId": "7cb55dd9-4147-4216-da7d-d026ce22edc9"
   },
   "outputs": [
    {
     "data": {
      "text/plain": [
       "dict_keys"
      ]
     },
     "execution_count": 103,
     "metadata": {},
     "output_type": "execute_result"
    }
   ],
   "source": [
    "type(movies_release.keys())"
   ]
  },
  {
   "cell_type": "code",
   "execution_count": 104,
   "metadata": {
    "id": "6QydmluY5H6u",
    "outputId": "36d729da-1f4d-4f2f-a65e-884b7ab987b7"
   },
   "outputs": [
    {
     "data": {
      "text/plain": [
       "dict_values([1972, 2008, 1957, 1994, 2010])"
      ]
     },
     "execution_count": 104,
     "metadata": {},
     "output_type": "execute_result"
    }
   ],
   "source": [
    "movies_release.values()"
   ]
  },
  {
   "cell_type": "code",
   "execution_count": 105,
   "metadata": {
    "id": "lhBXFuM55H6u"
   },
   "outputs": [],
   "source": [
    "movies_genre = {\"Action\",\"Comedy\", \"Horror\", \"Sci Fi\", \"Romance\", \"Horror\", \"Comedy\"}"
   ]
  },
  {
   "cell_type": "code",
   "execution_count": 1,
   "metadata": {
    "id": "ZV0hbr0H5H6v",
    "tags": []
   },
   "outputs": [
    {
     "ename": "NameError",
     "evalue": "name 'movies_genre' is not defined",
     "output_type": "error",
     "traceback": [
      "\u001b[0;31m---------------------------------------------------------------------------\u001b[0m",
      "\u001b[0;31mNameError\u001b[0m                                 Traceback (most recent call last)",
      "Cell \u001b[0;32mIn[1], line 1\u001b[0m\n\u001b[0;32m----> 1\u001b[0m movies_genre\n",
      "\u001b[0;31mNameError\u001b[0m: name 'movies_genre' is not defined"
     ]
    }
   ],
   "source": [
    "movies_genre"
   ]
  },
  {
   "cell_type": "markdown",
   "metadata": {
    "id": "BfY6jBFb5H6v"
   },
   "source": [
    "## Sets\n",
    "- Sets are a type of collection.\n",
    "- Can input different Python types \n",
    "- Unordered\n",
    "- Unindexed\n",
    "- Unique elements"
   ]
  },
  {
   "cell_type": "markdown",
   "metadata": {
    "id": "YHZmMYtw5H6v"
   },
   "source": [
    "## Creating Sets"
   ]
  },
  {
   "cell_type": "code",
   "execution_count": 107,
   "metadata": {
    "id": "0XMvSyx15H6v"
   },
   "outputs": [],
   "source": [
    "movies_genre = {\"Action\", \"Comedy\", \"Horror\", \"Romance\", \"Sci Fi\", \"Comedy\", \"Horror\"}"
   ]
  },
  {
   "cell_type": "code",
   "execution_count": 108,
   "metadata": {
    "id": "aDBN2MlK5H6w",
    "outputId": "d2e2a261-553d-497f-a019-48050696811e"
   },
   "outputs": [
    {
     "data": {
      "text/plain": [
       "{'Action', 'Comedy', 'Horror', 'Romance', 'Sci Fi'}"
      ]
     },
     "execution_count": 108,
     "metadata": {},
     "output_type": "execute_result"
    }
   ],
   "source": [
    "movies_genre"
   ]
  },
  {
   "cell_type": "markdown",
   "metadata": {
    "id": "wRXXnHbf5H6w"
   },
   "source": [
    "## Typecasting Lists to Sets"
   ]
  },
  {
   "cell_type": "code",
   "execution_count": 109,
   "metadata": {
    "id": "56e6Dq215H6w",
    "outputId": "3dbf88d1-f32d-4467-dd66-b466601a2c39"
   },
   "outputs": [
    {
     "data": {
      "text/plain": [
       "{'jeans', 'shirt', 'shoes', 'socks'}"
      ]
     },
     "execution_count": 109,
     "metadata": {},
     "output_type": "execute_result"
    }
   ],
   "source": [
    "shopping_list = [\"shirt\", \"shoes\", \"socks\", \"shirt\", \"jeans\"]\n",
    "shopping_set = set(shopping_list)\n",
    "shopping_set"
   ]
  },
  {
   "cell_type": "markdown",
   "metadata": {
    "id": "8c7-axmy5H6x"
   },
   "source": [
    "## Set Operations :: add"
   ]
  },
  {
   "cell_type": "code",
   "execution_count": 110,
   "metadata": {
    "id": "wuDRc-Zj5H6x",
    "outputId": "aa26ff0c-1b52-4b5b-afd4-af79619ef7ef"
   },
   "outputs": [
    {
     "name": "stdout",
     "output_type": "stream",
     "text": [
      "Before adding NSYNC :  {'Thriller', 'Back in Black', 'AC/DC'}\n",
      "After adding NSYNC :  {'Thriller', 'NSYNC', 'Back in Black', 'AC/DC'}\n",
      "Now adding NYSNC again...\n",
      "After adding NSYNC again :  {'Thriller', 'NSYNC', 'Back in Black', 'AC/DC'}\n"
     ]
    }
   ],
   "source": [
    "album_set= {\"AC/DC\", \"Back in Black\", \"Thriller\"}\n",
    "print(\"Before adding NSYNC : \", album_set)\n",
    "album_set.add(\"NSYNC\")\n",
    "print(\"After adding NSYNC : \", album_set)\n",
    "print(\"Now adding NYSNC again...\")\n",
    "album_set.add(\"NSYNC\") \n",
    "print(\"After adding NSYNC again : \", album_set)"
   ]
  },
  {
   "cell_type": "markdown",
   "metadata": {
    "id": "Tu79u8Fr5H6y"
   },
   "source": [
    "## Set Operation :: remove"
   ]
  },
  {
   "cell_type": "code",
   "execution_count": 111,
   "metadata": {
    "id": "zm1WWHGa5H6y",
    "outputId": "791f16a2-e09f-43a7-fc06-a9e5098084ab"
   },
   "outputs": [
    {
     "name": "stdout",
     "output_type": "stream",
     "text": [
      "Before remove NSYNC :  {'Thriller', 'NSYNC', 'Back in Black', 'AC/DC'}\n",
      "After removing NSYNC :  {'Thriller', 'Back in Black', 'AC/DC'}\n",
      "Now removing NYSNC again...\n"
     ]
    },
    {
     "ename": "KeyError",
     "evalue": "'NSYNC'",
     "output_type": "error",
     "traceback": [
      "\u001b[1;31m---------------------------------------------------------------------------\u001b[0m",
      "\u001b[1;31mKeyError\u001b[0m                                  Traceback (most recent call last)",
      "Cell \u001b[1;32mIn[111], line 5\u001b[0m\n\u001b[0;32m      3\u001b[0m \u001b[38;5;28mprint\u001b[39m(\u001b[38;5;124m\"\u001b[39m\u001b[38;5;124mAfter removing NSYNC : \u001b[39m\u001b[38;5;124m\"\u001b[39m, album_set)\n\u001b[0;32m      4\u001b[0m \u001b[38;5;28mprint\u001b[39m(\u001b[38;5;124m\"\u001b[39m\u001b[38;5;124mNow removing NYSNC again...\u001b[39m\u001b[38;5;124m\"\u001b[39m)\n\u001b[1;32m----> 5\u001b[0m \u001b[43malbum_set\u001b[49m\u001b[38;5;241;43m.\u001b[39;49m\u001b[43mremove\u001b[49m\u001b[43m(\u001b[49m\u001b[38;5;124;43m\"\u001b[39;49m\u001b[38;5;124;43mNSYNC\u001b[39;49m\u001b[38;5;124;43m\"\u001b[39;49m\u001b[43m)\u001b[49m \n\u001b[0;32m      6\u001b[0m \u001b[38;5;28mprint\u001b[39m(\u001b[38;5;124m\"\u001b[39m\u001b[38;5;124mAfter removing NSYNC again : \u001b[39m\u001b[38;5;124m\"\u001b[39m, album_set)\n",
      "\u001b[1;31mKeyError\u001b[0m: 'NSYNC'"
     ]
    }
   ],
   "source": [
    "print(\"Before remove NSYNC : \", album_set)\n",
    "album_set.remove(\"NSYNC\")\n",
    "print(\"After removing NSYNC : \", album_set)\n",
    "print(\"Now removing NYSNC again...\")\n",
    "album_set.remove(\"NSYNC\") \n",
    "print(\"After removing NSYNC again : \", album_set)"
   ]
  },
  {
   "cell_type": "markdown",
   "metadata": {
    "id": "T-3R-z6D5H6z"
   },
   "source": [
    "## Set Operations :: Element Verification"
   ]
  },
  {
   "cell_type": "code",
   "execution_count": 112,
   "metadata": {
    "id": "V5wxpuOB5H6z",
    "outputId": "b3d43404-fb6d-4ac2-9576-688a74a66764"
   },
   "outputs": [
    {
     "data": {
      "text/plain": [
       "True"
      ]
     },
     "execution_count": 112,
     "metadata": {},
     "output_type": "execute_result"
    }
   ],
   "source": [
    "album_set= {\"AC/DC\", \"Back in Black\", \"Thriller\"}\n",
    "\"AC/DC\" in album_set"
   ]
  },
  {
   "cell_type": "code",
   "execution_count": 113,
   "metadata": {
    "id": "2cLH38Qu5H60",
    "outputId": "92194850-123c-4a6f-e3d6-780dc3477420"
   },
   "outputs": [
    {
     "data": {
      "text/plain": [
       "False"
      ]
     },
     "execution_count": 113,
     "metadata": {},
     "output_type": "execute_result"
    }
   ],
   "source": [
    "\"Psy 6\" in album_set"
   ]
  },
  {
   "cell_type": "markdown",
   "metadata": {
    "id": "7IiZemrO5H60"
   },
   "source": [
    "## Set Operations :: Intersection"
   ]
  },
  {
   "cell_type": "code",
   "execution_count": 114,
   "metadata": {
    "id": "oYqxUW4E5H60",
    "outputId": "fe6603b2-7867-4432-b9d7-6f4c3fe3e7d4"
   },
   "outputs": [
    {
     "data": {
      "text/plain": [
       "{'AC/DC', 'NSYNC'}"
      ]
     },
     "execution_count": 114,
     "metadata": {},
     "output_type": "execute_result"
    }
   ],
   "source": [
    "album_set1= {\"AC/DC\", \"Back in Black\", \"Thriller\", \"NSYNC\"}\n",
    "album_set2= {\"AC/DC\", \"Psy 6\", \"Thank U, Next\", \"NSYNC\"}\n",
    "\n",
    "album_set3 = album_set1 & album_set2\n",
    "album_set3"
   ]
  },
  {
   "cell_type": "markdown",
   "metadata": {
    "id": "_eG7iUJD5H61"
   },
   "source": [
    "## Set Operations :: Union"
   ]
  },
  {
   "cell_type": "code",
   "execution_count": 115,
   "metadata": {
    "id": "koilRyOG5H62",
    "outputId": "9c657edd-373a-42ec-b861-3abd9de04ce8"
   },
   "outputs": [
    {
     "data": {
      "text/plain": [
       "{'AC/DC', 'Back in Black', 'NSYNC', 'Psy 6', 'Thank U, Next', 'Thriller'}"
      ]
     },
     "execution_count": 115,
     "metadata": {},
     "output_type": "execute_result"
    }
   ],
   "source": [
    "album_set1= {\"AC/DC\", \"Back in Black\", \"Thriller\", \"NSYNC\"}\n",
    "album_set2= {\"AC/DC\", \"Psy 6\", \"Thank U, Next\", \"NSYNC\"}\n",
    "\n",
    "album_set3 = album_set1.union(album_set2)\n",
    "album_set3"
   ]
  },
  {
   "cell_type": "markdown",
   "metadata": {
    "id": "FPIa9mit5H62"
   },
   "source": [
    "## Set Operations :: Subset"
   ]
  },
  {
   "cell_type": "code",
   "execution_count": 116,
   "metadata": {
    "id": "lkt3sceW5H62",
    "outputId": "23848760-c4e0-48a4-ae6b-c24e25584e02"
   },
   "outputs": [
    {
     "name": "stdout",
     "output_type": "stream",
     "text": [
      "True\n",
      "False\n"
     ]
    }
   ],
   "source": [
    "album_set1= {\"AC/DC\", \"Back in Black\", \"Thriller\", \"NSYNC\"}\n",
    "album_set2= {\"AC/DC\", \"Psy 6\", \"Thank U, Next\", \"NSYNC\"}\n",
    "\n",
    "album_set3 = album_set1 & album_set2\n",
    "print(album_set3.issubset(album_set1))\n",
    "print(album_set1.issubset(album_set2))"
   ]
  },
  {
   "cell_type": "code",
   "execution_count": 117,
   "metadata": {
    "id": "f9wf01ob5H63"
   },
   "outputs": [],
   "source": [
    "set_test = {(1,2), 2, 3,4}"
   ]
  },
  {
   "cell_type": "code",
   "execution_count": 118,
   "metadata": {
    "id": "UOseqj4U5H63"
   },
   "outputs": [
    {
     "data": {
      "text/plain": [
       "{(1, 2), 2, 3, 4}"
      ]
     },
     "execution_count": 118,
     "metadata": {},
     "output_type": "execute_result"
    }
   ],
   "source": [
    "set_test"
   ]
  },
  {
   "cell_type": "code",
   "execution_count": null,
   "metadata": {
    "id": "y6iUPPzQ5H64"
   },
   "outputs": [],
   "source": []
  }
 ],
 "metadata": {
  "colab": {
   "collapsed_sections": [
    "LqqpAWZt5H6J",
    "AQAaWDr55H6O",
    "tKIIeAy15H6V",
    "zE0mIM_n5H6Y",
    "yQtUMEPk5H6Z",
    "9apNXE4Y5H6b",
    "1LAz2Vrb5H6e",
    "1j22p1if5H6k",
    "IM4neM-l5H6p",
    "oJWkIMqV5H6s",
    "BfY6jBFb5H6v",
    "YHZmMYtw5H6v",
    "wRXXnHbf5H6w",
    "8c7-axmy5H6x",
    "Tu79u8Fr5H6y",
    "T-3R-z6D5H6z",
    "7IiZemrO5H60",
    "_eG7iUJD5H61",
    "FPIa9mit5H62"
   ],
   "name": "02 - Data Structures in Python.ipynb",
   "provenance": []
  },
  "kernelspec": {
   "display_name": "Python 3 (ipykernel)",
   "language": "python",
   "name": "python3"
  },
  "language_info": {
   "codemirror_mode": {
    "name": "ipython",
    "version": 3
   },
   "file_extension": ".py",
   "mimetype": "text/x-python",
   "name": "python",
   "nbconvert_exporter": "python",
   "pygments_lexer": "ipython3",
   "version": "3.11.5"
  }
 },
 "nbformat": 4,
 "nbformat_minor": 4
}
