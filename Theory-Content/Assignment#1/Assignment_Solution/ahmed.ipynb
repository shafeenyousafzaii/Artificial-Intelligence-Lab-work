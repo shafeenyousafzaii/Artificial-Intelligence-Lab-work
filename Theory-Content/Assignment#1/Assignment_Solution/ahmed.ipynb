{
 "cells": [
  {
   "cell_type": "code",
   "execution_count": 22,
   "metadata": {},
   "outputs": [
    {
     "name": "stdout",
     "output_type": "stream",
     "text": [
      "Text File: /home/shafeen/Documents/My-all-programs--/Semester-4/Aritificial Intelligence/Theory-Content/Assignment#1/Assignment_Solution/Test_File_4.txt\n",
      "Number of sentences: 3\n",
      "Number of words: 1\n",
      "Number of characters: 3\n",
      "Readability index: 0\n",
      "\n",
      "Text File: /home/shafeen/Documents/My-all-programs--/Semester-4/Aritificial Intelligence/Theory-Content/Assignment#1/Assignment_Solution/Text File 3.txt\n",
      "Number of sentences: 3\n",
      "Number of words: 125\n",
      "Number of characters: 499\n",
      "Readability index: 18\n",
      "\n",
      "Text File: /home/shafeen/Documents/My-all-programs--/Semester-4/Aritificial Intelligence/Theory-Content/Assignment#1/Assignment_Solution/Text File1.txt\n",
      "Number of sentences: 2\n",
      "Number of words: 7\n",
      "Number of characters: 23\n",
      "Readability index: 0\n",
      "\n",
      "Text File: /home/shafeen/Documents/My-all-programs--/Semester-4/Aritificial Intelligence/Theory-Content/Assignment#1/Assignment_Solution/Text File 2.txt\n",
      "Number of sentences: 3\n",
      "Number of words: 31\n",
      "Number of characters: 126\n",
      "Readability index: 3\n",
      "\n"
     ]
    }
   ],
   "source": [
    "import os\n",
    "\n",
    "def count_sentences(text):\n",
    "    sentence_chars = ['.', ':', ';', '?', '!']\n",
    "    count = 0\n",
    "    for char in text:\n",
    "        if char in sentence_chars:\n",
    "            count += 1\n",
    "    return max(1, count)  # If no sentence characters found, assume at least 1 sentence\n",
    "\n",
    "def count_words(text):\n",
    "    return len(text.split())\n",
    "\n",
    "def count_characters(text):\n",
    "    return sum(c.isalnum() for c in text)\n",
    "\n",
    "def calculate_readability_index(sentences, words, characters):\n",
    "    return round(4.71 * (characters / words) + 0.5 * (words / sentences) - 21.43)\n",
    "\n",
    "def process_file(file_path):\n",
    "    with open(file_path, 'r', encoding='utf-8') as file:\n",
    "        text = file.read()\n",
    "        sentences = count_sentences(text)\n",
    "        words = count_words(text)\n",
    "        characters = count_characters(text)\n",
    "        readability_index = calculate_readability_index(sentences, words, characters)\n",
    "        if readability_index < 0:\n",
    "            readability_index=0\n",
    "        print(f\"Text File: {file_path}\")\n",
    "        print(f\"Number of sentences: {sentences}\")\n",
    "        print(f\"Number of words: {words}\")\n",
    "        print(f\"Number of characters: {characters}\")\n",
    "        print(f\"Readability index: {readability_index}\")\n",
    "        print()\n",
    "\n",
    "def main(directory):\n",
    "    for file_name in os.listdir(directory):\n",
    "        if file_name.endswith('.txt'):\n",
    "            file_path = os.path.join(directory, file_name)\n",
    "            process_file(file_path)\n",
    "\n",
    "# Change 'directory' to the path of the directory containing the text files\n",
    "directory = '/home/shafeen/Documents/My-all-programs--/Semester-4/Aritificial Intelligence/Theory-Content/Assignment#1/Assignment_Solution/'\n",
    "main(directory)\n",
    "# process_file(\"/home/shafeen/Documents/My-all-programs--/Semester-4/Aritificial Intelligence/Theory-Content/Assignment#1/Assignment_Solution/Test_File_4\")"
   ]
  },
  {
   "cell_type": "code",
   "execution_count": 19,
   "metadata": {},
   "outputs": [
    {
     "ename": "FileNotFoundError",
     "evalue": "[Errno 2] No such file or directory: '/path/to/your/text/file.txt'",
     "output_type": "error",
     "traceback": [
      "\u001b[0;31m---------------------------------------------------------------------------\u001b[0m",
      "\u001b[0;31mFileNotFoundError\u001b[0m                         Traceback (most recent call last)",
      "Cell \u001b[0;32mIn[19], line 34\u001b[0m\n\u001b[1;32m     32\u001b[0m \u001b[38;5;66;03m# Provide the path to your text file here\u001b[39;00m\n\u001b[1;32m     33\u001b[0m file_path \u001b[38;5;241m=\u001b[39m \u001b[38;5;124m'\u001b[39m\u001b[38;5;124m/path/to/your/text/file.txt\u001b[39m\u001b[38;5;124m'\u001b[39m\n\u001b[0;32m---> 34\u001b[0m process_file(file_path)\n",
      "Cell \u001b[0;32mIn[19], line 19\u001b[0m, in \u001b[0;36mprocess_file\u001b[0;34m(file_path)\u001b[0m\n\u001b[1;32m     18\u001b[0m \u001b[38;5;28;01mdef\u001b[39;00m \u001b[38;5;21mprocess_file\u001b[39m(file_path):\n\u001b[0;32m---> 19\u001b[0m     \u001b[38;5;28;01mwith\u001b[39;00m \u001b[38;5;28mopen\u001b[39m(file_path, \u001b[38;5;124m'\u001b[39m\u001b[38;5;124mr\u001b[39m\u001b[38;5;124m'\u001b[39m, encoding\u001b[38;5;241m=\u001b[39m\u001b[38;5;124m'\u001b[39m\u001b[38;5;124mutf-8\u001b[39m\u001b[38;5;124m'\u001b[39m) \u001b[38;5;28;01mas\u001b[39;00m file:\n\u001b[1;32m     20\u001b[0m         text \u001b[38;5;241m=\u001b[39m file\u001b[38;5;241m.\u001b[39mread()\n\u001b[1;32m     21\u001b[0m         sentences \u001b[38;5;241m=\u001b[39m count_sentences(text)\n",
      "File \u001b[0;32m~/anaconda3/lib/python3.11/site-packages/IPython/core/interactiveshell.py:310\u001b[0m, in \u001b[0;36m_modified_open\u001b[0;34m(file, *args, **kwargs)\u001b[0m\n\u001b[1;32m    303\u001b[0m \u001b[38;5;28;01mif\u001b[39;00m file \u001b[38;5;129;01min\u001b[39;00m {\u001b[38;5;241m0\u001b[39m, \u001b[38;5;241m1\u001b[39m, \u001b[38;5;241m2\u001b[39m}:\n\u001b[1;32m    304\u001b[0m     \u001b[38;5;28;01mraise\u001b[39;00m \u001b[38;5;167;01mValueError\u001b[39;00m(\n\u001b[1;32m    305\u001b[0m         \u001b[38;5;124mf\u001b[39m\u001b[38;5;124m\"\u001b[39m\u001b[38;5;124mIPython won\u001b[39m\u001b[38;5;124m'\u001b[39m\u001b[38;5;124mt let you open fd=\u001b[39m\u001b[38;5;132;01m{\u001b[39;00mfile\u001b[38;5;132;01m}\u001b[39;00m\u001b[38;5;124m by default \u001b[39m\u001b[38;5;124m\"\u001b[39m\n\u001b[1;32m    306\u001b[0m         \u001b[38;5;124m\"\u001b[39m\u001b[38;5;124mas it is likely to crash IPython. If you know what you are doing, \u001b[39m\u001b[38;5;124m\"\u001b[39m\n\u001b[1;32m    307\u001b[0m         \u001b[38;5;124m\"\u001b[39m\u001b[38;5;124myou can use builtins\u001b[39m\u001b[38;5;124m'\u001b[39m\u001b[38;5;124m open.\u001b[39m\u001b[38;5;124m\"\u001b[39m\n\u001b[1;32m    308\u001b[0m     )\n\u001b[0;32m--> 310\u001b[0m \u001b[38;5;28;01mreturn\u001b[39;00m io_open(file, \u001b[38;5;241m*\u001b[39margs, \u001b[38;5;241m*\u001b[39m\u001b[38;5;241m*\u001b[39mkwargs)\n",
      "\u001b[0;31mFileNotFoundError\u001b[0m: [Errno 2] No such file or directory: '/path/to/your/text/file.txt'"
     ]
    }
   ],
   "source": [
    "# def count_sentences(text):\n",
    "#     sentence_chars = ['.', ':', ';', '?', '!']\n",
    "#     count = 0\n",
    "#     for char in text:\n",
    "#         if char in sentence_chars:\n",
    "#             count += 1\n",
    "#     return max(1, count)  # If no sentence characters found, assume at least 1 sentence\n",
    "\n",
    "# def count_words(text):\n",
    "#     return len(text.split())\n",
    "\n",
    "# def count_characters(text):\n",
    "#     return sum(c.isalnum() for c in text)\n",
    "\n",
    "# def calculate_readability_index(sentences, words, characters):\n",
    "#     return round(4.71 * (characters / words) + 0.5 * (words / sentences) - 21.43)\n",
    "\n",
    "# def process_file(file_path):\n",
    "#     with open(file_path, 'r', encoding='utf-8') as file:\n",
    "#         text = file.read()\n",
    "#         sentences = count_sentences(text)\n",
    "#         words = count_words(text)\n",
    "#         characters = count_characters(text)\n",
    "#         readability_index = calculate_readability_index(sentences, words, characters)\n",
    "#         print(f\"Text File: {file_path}\")\n",
    "#         print(f\"Number of sentences: {sentences}\")\n",
    "#         print(f\"Number of words: {words}\")\n",
    "#         print(f\"Number of characters: {characters}\")\n",
    "#         print(f\"Readability index: {readability_index}\")\n",
    "#         print()\n",
    "\n",
    "# # Provide the path to your text file here\n",
    "# file_path = '/path/to/your/text/file.txt'\n",
    "# process_file(file_path)"
   ]
  }
 ],
 "metadata": {
  "kernelspec": {
   "display_name": "base",
   "language": "python",
   "name": "python3"
  },
  "language_info": {
   "codemirror_mode": {
    "name": "ipython",
    "version": 3
   },
   "file_extension": ".py",
   "mimetype": "text/x-python",
   "name": "python",
   "nbconvert_exporter": "python",
   "pygments_lexer": "ipython3",
   "version": "3.11.5"
  }
 },
 "nbformat": 4,
 "nbformat_minor": 2
}
