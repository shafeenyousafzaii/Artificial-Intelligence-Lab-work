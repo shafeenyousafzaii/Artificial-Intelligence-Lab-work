{
 "cells": [
  {
   "cell_type": "code",
   "execution_count": 22,
   "metadata": {
    "tags": []
   },
   "outputs": [
    {
     "name": "stdout",
     "output_type": "stream",
     "text": [
      "1. Add a new student: \n",
      "2. Display details of a specific student: \n",
      "3. Display details of all students: \n",
      "4. Calculate and display the average marks of a student: \n",
      "5. Find and display details of the student with the highest average marks: \n",
      "6. Exit\n"
     ]
    },
    {
     "name": "stdin",
     "output_type": "stream",
     "text": [
      "Enter your choice:  1\n",
      "Enter Roll Number:  1\n",
      "Enter Name:  1\n",
      "Enter the number of subjects:  1\n",
      "Enter Subject Name:  1\n",
      "Enter Marks for 1:  1\n"
     ]
    },
    {
     "name": "stdout",
     "output_type": "stream",
     "text": [
      "1. Add a new student: \n",
      "2. Display details of a specific student: \n",
      "3. Display details of all students: \n",
      "4. Calculate and display the average marks of a student: \n",
      "5. Find and display details of the student with the highest average marks: \n",
      "6. Exit\n"
     ]
    },
    {
     "name": "stdin",
     "output_type": "stream",
     "text": [
      "Enter your choice:  1\n",
      "Enter Roll Number:  2\n",
      "Enter Name:  2\n",
      "Enter the number of subjects:  2\n",
      "Enter Subject Name:  2\n",
      "Enter Marks for 2:  2\n",
      "Enter Subject Name:  2\n",
      "Enter Marks for 2:  2\n"
     ]
    },
    {
     "name": "stdout",
     "output_type": "stream",
     "text": [
      "1. Add a new student: \n",
      "2. Display details of a specific student: \n",
      "3. Display details of all students: \n",
      "4. Calculate and display the average marks of a student: \n",
      "5. Find and display details of the student with the highest average marks: \n",
      "6. Exit\n"
     ]
    },
    {
     "name": "stdin",
     "output_type": "stream",
     "text": [
      "Enter your choice:  3\n"
     ]
    },
    {
     "name": "stdout",
     "output_type": "stream",
     "text": [
      " Details of all students <__main__.Student object at 0x7fd1d836ce50>\n",
      "Roll Number: 1\n",
      "Name: 1\n",
      "Marks:\n",
      "1: 1\n",
      "\n",
      " Details of all students <__main__.Student object at 0x7fd1bab83810>\n",
      "Roll Number: 2\n",
      "Name: 2\n",
      "Marks:\n",
      "2: 2\n",
      "\n",
      "1. Add a new student: \n",
      "2. Display details of a specific student: \n",
      "3. Display details of all students: \n",
      "4. Calculate and display the average marks of a student: \n",
      "5. Find and display details of the student with the highest average marks: \n",
      "6. Exit\n"
     ]
    },
    {
     "name": "stdin",
     "output_type": "stream",
     "text": [
      "Enter your choice:  2\n",
      "Enter Roll Number to display details:  2\n"
     ]
    },
    {
     "name": "stdout",
     "output_type": "stream",
     "text": [
      "1. Add a new student: \n",
      "2. Display details of a specific student: \n",
      "3. Display details of all students: \n",
      "4. Calculate and display the average marks of a student: \n",
      "5. Find and display details of the student with the highest average marks: \n",
      "6. Exit\n"
     ]
    },
    {
     "name": "stdin",
     "output_type": "stream",
     "text": [
      "Enter your choice:  4\n",
      "Enter Roll Number to calculate average marks:  1\n"
     ]
    },
    {
     "name": "stdout",
     "output_type": "stream",
     "text": [
      "1. Add a new student: \n",
      "2. Display details of a specific student: \n",
      "3. Display details of all students: \n",
      "4. Calculate and display the average marks of a student: \n",
      "5. Find and display details of the student with the highest average marks: \n",
      "6. Exit\n"
     ]
    },
    {
     "name": "stdin",
     "output_type": "stream",
     "text": [
      "Enter your choice:  6\n"
     ]
    },
    {
     "name": "stdout",
     "output_type": "stream",
     "text": [
      "Exiting the program.\n"
     ]
    }
   ],
   "source": [
    "class Student:\n",
    "    def __init__(self, roll_number=0, name=\"\", marks=0):\n",
    "        self.roll_number=roll_number\n",
    "        self.name=name\n",
    "        self.marks=marks\n",
    "\n",
    "\n",
    "student_database=[]\n",
    "\n",
    "\n",
    "def add_student(roll_number, name, marks):\n",
    "    st1=Student(roll_number, name, marks)\n",
    "    # student.append((roll_number, name, marks))\n",
    "    student_database.append(st1)\n",
    "    \n",
    "def display_student_details(roll_number):\n",
    "    for student in student_database: \n",
    "        if student.roll_number==roll_number:\n",
    "            print(\"student with roll no \", {roll_number})\n",
    "\n",
    "def display_all_students():\n",
    "    for student in student_database: \n",
    "        print(\" Details of all students\", student)\n",
    "        print(f\"Roll Number: {student.roll_number}\")\n",
    "        print(f\"Name: {student.name}\")\n",
    "        print(\"Marks:\")\n",
    "        marks = {\"maths\": 34, \"physics\":44, \"chemistry\":80}\n",
    "        for subject, marks in student.marks.items():\n",
    "            # marks = {\"maths\": 34, \"physics\":44, \"chemistry\":80}\n",
    "            print(f\"{subject}: {marks}\")\n",
    "        print()\n",
    "\n",
    "def calculate_average_marks(roll_number):\n",
    "    for student in student_database:\n",
    "        if int(student.roll_number)==roll_number:\n",
    "            summarks= sum(student.marks.values())\n",
    "            average_marks=summarks/len(student.marks)\n",
    "            print(f\"Average marks: {average_marks}\")\n",
    "\n",
    "            \n",
    "def find_topper():\n",
    "    top_marks=0\n",
    "    topper=[]\n",
    "    for student in student_database:\n",
    "                summarks= sum(student.marks.values())\n",
    "                average_marks=summarks/len(student.marks)\n",
    "        \n",
    "    if average_marks > top_marks:\n",
    "            top_marks=average_marks\n",
    "            topper=[student.name]\n",
    "    elif average_marks==top_marks:\n",
    "            topper.append(student.name)   \n",
    "            return topper \n",
    "\n",
    "             \n",
    "\n",
    "student_database = []\n",
    "\n",
    "while 1:\n",
    "   \n",
    "    print(\"1. Add a new student: \")\n",
    "    print(\"2. Display details of a specific student: \")\n",
    "    print(\"3. Display details of all students: \")\n",
    "    print(\"4. Calculate and display the average marks of a student: \")\n",
    "    print(\"5. Find and display details of the student with the highest average marks: \")\n",
    "    print(\"6. Exit\")\n",
    "\n",
    "    choice = input(\"Enter your choice: \")\n",
    "\n",
    "    if choice == '1':\n",
    "        roll_number = input(\"Enter Roll Number: \")\n",
    "        name = input(\"Enter Name: \")\n",
    "        marks = {}\n",
    "        \n",
    "        subjects = int(input(\"Enter the number of subjects: \"))\n",
    "        for _ in range(subjects):\n",
    "            subject = input(\"Enter Subject Name: \")\n",
    "            mark = input(f\"Enter Marks for {subject}: \")\n",
    "            marks[subject] = mark\n",
    "        add_student(roll_number, name, marks)\n",
    "\n",
    "    elif choice == '2':\n",
    "        roll_number = int(input(\"Enter Roll Number to display details: \"))\n",
    "        display_student_details(roll_number)\n",
    "\n",
    "    elif choice == '3':\n",
    "        display_all_students()\n",
    "\n",
    "    elif choice == '4':\n",
    "        roll_number = int(input(\"Enter Roll Number to calculate average marks: \"))\n",
    "        calculate_average_marks(roll_number)\n",
    "\n",
    "    elif choice == '5':\n",
    "        find_topper()\n",
    "\n",
    "    elif choice == '6':\n",
    "        print(\"Exiting the program.\")\n",
    "        break\n",
    "\n",
    "    else:\n",
    "        print(\"Invalid choice. Please enter a number between 1 and 6.\")"
   ]
  }
 ],
 "metadata": {
  "kernelspec": {
   "display_name": "Python 3 (ipykernel)",
   "language": "python",
   "name": "python3"
  },
  "language_info": {
   "codemirror_mode": {
    "name": "ipython",
    "version": 3
   },
   "file_extension": ".py",
   "mimetype": "text/x-python",
   "name": "python",
   "nbconvert_exporter": "python",
   "pygments_lexer": "ipython3",
   "version": "3.11.5"
  }
 },
 "nbformat": 4,
 "nbformat_minor": 4
}
