{
 "cells": [
  {
   "cell_type": "code",
   "execution_count": 18,
   "metadata": {},
   "outputs": [
    {
     "name": "stdout",
     "output_type": "stream",
     "text": [
      "Choose from the following : \n",
      "sprinkler\n",
      "Choose from the following : \n",
      "call\n",
      "Choose from the following : \n",
      "call\n",
      "Choose from the following : \n",
      "normal\n",
      "Choose from the following : \n"
     ]
    }
   ],
   "source": [
    "percept=[\"smoke\",\"normal\",30]\n",
    "state=[\"alarm\",\"normal\",\"Alarm\"]\n",
    "rules=[\"sprinkler\",\"normal\",\"call\"]\n",
    "\n",
    "def getState(percept_value,value):\n",
    "    index = -1\n",
    "    for x in percept:\n",
    "        # print(x)\n",
    "        index = index+1\n",
    "        if x == percept_value:\n",
    "                return state[index]\n",
    "        if value==True:\n",
    "            continue\n",
    "        elif int(percept_value) > percept[2]:\n",
    "                return state[2]\n",
    "        # elif percept_value:\n",
    "        #     return state[int[index]]\n",
    "def getRules(state_value):\n",
    "    index = -1\n",
    "    for i in state:\n",
    "        index = index+1\n",
    "        if i == state_value:\n",
    "            # if i.lower() == percept[0] and state_value == percept[0]:\n",
    "            #     return rules[0]\n",
    "            # elif i == percept[1] and int(state_value) > percept[1]:\n",
    "            #     return rules[1]\n",
    "            # elif i.lower() == percept[2] and state_value == percept[2]:\n",
    "            #     return rules[2]\n",
    "            return rules[index]\n",
    "\n",
    "def simpleReflexAgent(percep,value):\n",
    "    return getRules(getState(percep,value))\n",
    "while (1):\n",
    "    print(\"Choose from the following : \")\n",
    "    # visual_input = input(\"What situation is it ? 1 ) Smoke , 2 ) High Temperaure 3 )  Normal\")\n",
    "    choice=input(\"What situation is it ? 1 ) Smoke , 2 ) High Temperaure 3 )  Normal\")\n",
    "    if choice==\"1\":\n",
    "        print(simpleReflexAgent(percept[0],True))\n",
    "    elif choice==\"2\":\n",
    "        choice1=input(\"Enter Temperature\")\n",
    "        print(simpleReflexAgent(choice1,False))\n",
    "    elif choice == \"3\":\n",
    "        print(simpleReflexAgent(percept[1],True))\n",
    "    elif choice==\"4\":  \n",
    "        break\n",
    "    # rule = simpleReflexAgent(visual_input)\n",
    "    # print(rule)\n",
    "    # print(\"Do you want to exit? Press 1\")\n",
    "    # choice=input(\"Enter For Exit , any other key if you want to continue\")\n",
    "    # if choice==\"1\":\n",
    "    #     break\n"
   ]
  },
  {
   "cell_type": "markdown",
   "metadata": {},
   "source": [
    "## PROBLEM 2"
   ]
  },
  {
   "cell_type": "code",
   "execution_count": 20,
   "metadata": {},
   "outputs": [
    {
     "name": "stdout",
     "output_type": "stream",
     "text": [
      "Choose from the following : \n",
      "water\n",
      "Choose from the following : \n",
      "prevent waterlogging\n",
      "Choose from the following : \n",
      "prevent waterlogging\n",
      "Choose from the following : \n",
      "avoid overwatering\n",
      "Choose from the following : \n",
      "avoid overwatering\n",
      "Choose from the following : \n"
     ]
    }
   ],
   "source": [
    "percept=[\"Dry soil\",\"Moist soil\",\"Wet soil\"]\n",
    "state=[\"watering ON\",\"watering OFF\",\"deactivates\"]\n",
    "rules=[\"water\",\"avoid overwatering\",\"prevent waterlogging\"]\n",
    "\n",
    "def getState(percept_value,value):\n",
    "    index = -1\n",
    "    for x in percept:\n",
    "        # print(x)\n",
    "        index = index+1\n",
    "        if x == percept_value:\n",
    "                return state[index]\n",
    "        # if value==True:\n",
    "        #     continue\n",
    "        # elif int(percept_value) > percept[2]:\n",
    "        #         return state[2]\n",
    "        # elif percept_value:\n",
    "        #     return state[int[index]]\n",
    "def getRules(state_value):\n",
    "    index = -1\n",
    "    for i in state:\n",
    "        index = index+1\n",
    "        if i == state_value:\n",
    "            # if i.lower() == percept[0] and state_value == percept[0]:\n",
    "            #     return rules[0]\n",
    "            # elif i == percept[1] and int(state_value) > percept[1]:\n",
    "            #     return rules[1]\n",
    "            # elif i.lower() == percept[2] and state_value == percept[2]:\n",
    "            #     return rules[2]\n",
    "            return rules[index]\n",
    "\n",
    "def simpleReflexAgent(percep,value):\n",
    "    return getRules(getState(percep,value))\n",
    "while (1):\n",
    "    print(\"Choose from the following : \")\n",
    "    # visual_input = input(\"What situation is it ? 1 ) Smoke , 2 ) High Temperaure 3 )  Normal\")\n",
    "    choice=input(\"What situation is it ? 1 ) dry soil , 2 ) moist soil 3 )  wet soil\")\n",
    "    if choice==\"1\":\n",
    "        print(simpleReflexAgent(percept[0],True))\n",
    "    elif choice==\"2\":\n",
    "        # choice1=input(\"Enter Temperature\")\n",
    "        print(simpleReflexAgent(percept[2],False))\n",
    "    elif choice == \"3\":\n",
    "        print(simpleReflexAgent(percept[1],True))\n",
    "    elif choice==\"4\":  \n",
    "        break\n",
    "    # rule = simpleReflexAgent(visual_input)\n",
    "    # print(rule)\n",
    "    # print(\"Do you want to exit? Press 1\")\n",
    "    # choice=input(\"Enter For Exit , any other key if you want to continue\")\n",
    "    # if choice==\"1\":\n",
    "    #     break\n"
   ]
  }
 ],
 "metadata": {
  "kernelspec": {
   "display_name": "base",
   "language": "python",
   "name": "python3"
  },
  "language_info": {
   "codemirror_mode": {
    "name": "ipython",
    "version": 3
   },
   "file_extension": ".py",
   "mimetype": "text/x-python",
   "name": "python",
   "nbconvert_exporter": "python",
   "pygments_lexer": "ipython3",
   "version": "3.11.5"
  }
 },
 "nbformat": 4,
 "nbformat_minor": 2
}
