{
 "cells": [
  {
   "cell_type": "code",
   "execution_count": 1,
   "metadata": {},
   "outputs": [
    {
     "name": "stdout",
     "output_type": "stream",
     "text": [
      "None\n",
      "None\n",
      "place in red area\n",
      "place in blue area\n",
      "place in green area\n",
      "None\n",
      "None\n",
      "None\n",
      "None\n",
      "None\n"
     ]
    }
   ],
   "source": [
    "percept = ['red', 'blue','green']\n",
    "state = ['red_box', 'blue_box','green_box']\n",
    "rules = ['place in red area', 'place in blue area','place in green area']\n",
    "\n",
    "def getState(percept_value):\n",
    "    index = -1\n",
    "    for x in percept:\n",
    "        index = index+1\n",
    "        if x == percept_value:\n",
    "            return state[index]\n",
    "\n",
    "def getRules(state_value):\n",
    "    index = -1\n",
    "    for i in state:\n",
    "        index = index+1\n",
    "        if i == state_value:\n",
    "            return rules[index]\n",
    "\n",
    "def simpleReflexAgent(percep):\n",
    "    return getRules(getState(percep))\n",
    "\n",
    "#set a variable to keep track of the number of boxes \n",
    "box_count = 0\n",
    "while box_count < 10:\n",
    "    # robot receive visual input from its camera\n",
    "    visual_input = input(\"What color of box do you see?\")\n",
    "    rule = simpleReflexAgent(visual_input)\n",
    "    print(rule)\n",
    "    # robot execute the rule\n",
    "    box_count += 1\n",
    "    # increment the box_count variable after each iteration\n"
   ]
  },
  {
   "cell_type": "code",
   "execution_count": 4,
   "metadata": {},
   "outputs": [
    {
     "name": "stdout",
     "output_type": "stream",
     "text": [
      "Enter location of vacuum (A/B):  a\n",
      "Enter status of room A (0/1):  0\n",
      "Enter status of room B (0/1):  0\n"
     ]
    },
    {
     "name": "stdout",
     "output_type": "stream",
     "text": [
      "location condition: {'A': '0', 'B': '0'}\n",
      "Location A is already clean\n",
      "Room B is already clean\n",
      "\n",
      "Goal state: {'A': '0', 'B': '0'}\n",
      "Performance measurement: 0\n"
     ]
    }
   ],
   "source": [
    "#INSTRUCTIONS\n",
    "#Enter LOCATION A/B in captial letters\n",
    "#Enter Status O/1 accordingly where 0 means CLEAN and 1 means DIRTY\n",
    "\n",
    "def vacuum_world():\n",
    "\n",
    "    cost = 0\n",
    "    # Get user input for vacuum location and room status\n",
    "    location = input(\"Enter location of vacuum (A/B): \").upper()\n",
    "    status = input(f\"Enter status of room {location} (0/1): \")\n",
    "    other_room = 'A' if location == 'B' else 'B'\n",
    "    other_status = input(f\"Enter status of room {other_room} (0/1): \")\n",
    "\n",
    "    goal_state = {location: status, other_room: other_status}\n",
    " \n",
    "    print(\"location condition:\", goal_state)\n",
    "\n",
    "    if status == '1':\n",
    "        # Vacuum is in a dirty room\n",
    "        goal_state[location] = '0'\n",
    "        cost += 1\n",
    "        print(f\"Location {location} cleaned. Cost: {cost}\")\n",
    "        \n",
    "        \n",
    "        if other_status == '1':\n",
    "            # Other room is dirty\n",
    "            print(f\"Moving to room {other_room}\")\n",
    "            cost += 1\n",
    "            goal_state[other_room] = '0'\n",
    "            cost += 1\n",
    "            print(f\"Location {other_room} cleaned. Cost: {cost}\")\n",
    "        else:\n",
    "            print(f\"Room {other_room} is already clean\")\n",
    "    else:\n",
    "        print(f\"Location {location} is already clean\")\n",
    "        \n",
    "        if other_status == '1':\n",
    "            # Other room is dirty\n",
    "            print(f\"Moving to room {other_room}\")\n",
    "            cost += 1\n",
    "            goal_state[other_room] = '0'\n",
    "            cost += 1\n",
    "            print(f\"Location {other_room} cleaned. Cost: {cost}\")\n",
    "        else:\n",
    "            print(f\"Room {other_room} is already clean\")\n",
    "\n",
    "    print(\"\\nGoal state:\", goal_state)\n",
    "    print(\"Performance measurement:\", cost)\n",
    "\n",
    "vacuum_world()"
   ]
  },
  {
   "cell_type": "code",
   "execution_count": null,
   "metadata": {},
   "outputs": [],
   "source": []
  }
 ],
 "metadata": {
  "kernelspec": {
   "display_name": "Python 3 (ipykernel)",
   "language": "python",
   "name": "python3"
  },
  "language_info": {
   "codemirror_mode": {
    "name": "ipython",
    "version": 3
   },
   "file_extension": ".py",
   "mimetype": "text/x-python",
   "name": "python",
   "nbconvert_exporter": "python",
   "pygments_lexer": "ipython3",
   "version": "3.11.5"
  }
 },
 "nbformat": 4,
 "nbformat_minor": 4
}
