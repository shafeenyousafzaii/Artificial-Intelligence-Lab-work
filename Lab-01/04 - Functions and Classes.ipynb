{
 "cells": [
  {
   "cell_type": "markdown",
   "metadata": {
    "id": "pb7W6kJg0Fqi"
   },
   "source": [
    "# Functions and Classes\n",
    "\n",
    "This notebook covers the following topics;\n",
    "* Functions\n",
    "* Classes"
   ]
  },
  {
   "cell_type": "markdown",
   "metadata": {
    "id": "8CDTPp_60Fql"
   },
   "source": [
    "## Some Built-in Python Functions"
   ]
  },
  {
   "cell_type": "code",
   "execution_count": 1,
   "metadata": {
    "id": "Sn1euvbt0Fqm"
   },
   "outputs": [
    {
     "data": {
      "text/plain": [
       "4"
      ]
     },
     "execution_count": 1,
     "metadata": {},
     "output_type": "execute_result"
    }
   ],
   "source": [
    "ratings = [9.8, 6.7,4.5,9.4]\n",
    "L = len(ratings)\n",
    "L"
   ]
  },
  {
   "cell_type": "code",
   "execution_count": 2,
   "metadata": {
    "id": "7YKH_sZr0Fqn"
   },
   "outputs": [
    {
     "data": {
      "text/plain": [
       "30.4"
      ]
     },
     "execution_count": 2,
     "metadata": {},
     "output_type": "execute_result"
    }
   ],
   "source": [
    "ratings = [9.8, 6.7,4.5,9.4]\n",
    "s = sum(ratings)\n",
    "s"
   ]
  },
  {
   "cell_type": "markdown",
   "metadata": {
    "id": "NyDlUpBB0Fqn"
   },
   "source": [
    "### Python Sorted v.s. Sort Function\n",
    "\n",
    "* Sorted\n",
    "    * Inputs a data structure and returns a new sorted list\n",
    "* Sort\n",
    "    * Sorts the data structure which calls it\n"
   ]
  },
  {
   "cell_type": "code",
   "execution_count": 3,
   "metadata": {
    "id": "4jTby5A00Fqo"
   },
   "outputs": [
    {
     "name": "stdout",
     "output_type": "stream",
     "text": [
      "The original list [9.8, 6.7, 4.5, 9.4]\n",
      "The new sorted list [4.5, 6.7, 9.4, 9.8]\n"
     ]
    }
   ],
   "source": [
    "ratings = [9.8, 6.7,4.5,9.4]\n",
    "sorted_ratings = sorted(ratings)\n",
    "print(\"The original list\", ratings)\n",
    "print(\"The new sorted list\", sorted_ratings)"
   ]
  },
  {
   "cell_type": "code",
   "execution_count": 4,
   "metadata": {
    "id": "5lbJMb1P0Fqo"
   },
   "outputs": [
    {
     "name": "stdout",
     "output_type": "stream",
     "text": [
      "The rating list before sorting [9.8, 6.7, 4.5, 9.4]\n",
      "The rating list after calling the sort function [4.5, 6.7, 9.4, 9.8]\n"
     ]
    }
   ],
   "source": [
    "ratings = [9.8, 6.7,4.5,9.4]\n",
    "print(\"The rating list before sorting\", ratings)\n",
    "ratings.sort()\n",
    "print(\"The rating list after calling the sort function\", ratings)"
   ]
  },
  {
   "cell_type": "markdown",
   "metadata": {
    "id": "MXPKE7df0Fqp"
   },
   "source": [
    "## Writing Simple Function\n",
    "\n",
    "Note the following elements\n",
    "* keyword __def__\n",
    "* Colon __:__ end\n",
    "* Code indentation\n",
    "* keyword __return__ \n",
    "* Text within \"\"\""
   ]
  },
  {
   "cell_type": "code",
   "execution_count": 5,
   "metadata": {
    "executionInfo": {
     "elapsed": 574,
     "status": "ok",
     "timestamp": 1622022250895,
     "user": {
      "displayName": "Dr. Iftikhar Ahmad",
      "photoUrl": "",
      "userId": "14655798496938853703"
     },
     "user_tz": -300
    },
    "id": "2EbRdAsr0Fqp"
   },
   "outputs": [],
   "source": [
    "def increment(a):\n",
    "    \"\"\"\n",
    "    Increments value of a by 1\n",
    "    \"\"\"\n",
    "    b = a + 1\n",
    "    return b"
   ]
  },
  {
   "cell_type": "markdown",
   "metadata": {
    "id": "DqIL74Q70Fqq"
   },
   "source": [
    "### Calling a fucntion"
   ]
  },
  {
   "cell_type": "code",
   "execution_count": 6,
   "metadata": {
    "colab": {
     "base_uri": "https://localhost:8080/"
    },
    "executionInfo": {
     "elapsed": 5,
     "status": "ok",
     "timestamp": 1622022252465,
     "user": {
      "displayName": "Dr. Iftikhar Ahmad",
      "photoUrl": "",
      "userId": "14655798496938853703"
     },
     "user_tz": -300
    },
    "id": "SnsZASES0Fqq",
    "outputId": "7688270c-4bfb-4ec0-a21b-e3a75104b9a2"
   },
   "outputs": [
    {
     "data": {
      "text/plain": [
       "2"
      ]
     },
     "execution_count": 6,
     "metadata": {},
     "output_type": "execute_result"
    }
   ],
   "source": [
    "c = 1\n",
    "b = increment(c)\n",
    "b"
   ]
  },
  {
   "cell_type": "markdown",
   "metadata": {
    "id": "5B629_Sa0Fqr"
   },
   "source": [
    "### Documenting a fucntion\n",
    "* A function can be documented by writing the required text in \"\"\"\n",
    "* The text can be retrieved by using the help command and passing the function name"
   ]
  },
  {
   "cell_type": "code",
   "execution_count": 7,
   "metadata": {
    "colab": {
     "base_uri": "https://localhost:8080/"
    },
    "executionInfo": {
     "elapsed": 844,
     "status": "ok",
     "timestamp": 1622022123362,
     "user": {
      "displayName": "Dr. Iftikhar Ahmad",
      "photoUrl": "",
      "userId": "14655798496938853703"
     },
     "user_tz": -300
    },
    "id": "Osf_JMFk0Fqs",
    "outputId": "a56ef046-8d21-4ef6-9caa-7409147c3a28"
   },
   "outputs": [
    {
     "name": "stdout",
     "output_type": "stream",
     "text": [
      "Help on function increment in module __main__:\n",
      "\n",
      "increment(a)\n",
      "    Increments value of a by 1\n",
      "\n"
     ]
    }
   ],
   "source": [
    "help(increment)"
   ]
  },
  {
   "cell_type": "markdown",
   "metadata": {
    "id": "VLlmjl0y0Fqs"
   },
   "source": [
    "### A  Function to multiply two parameters"
   ]
  },
  {
   "cell_type": "code",
   "execution_count": 8,
   "metadata": {
    "executionInfo": {
     "elapsed": 4,
     "status": "ok",
     "timestamp": 1622022276077,
     "user": {
      "displayName": "Dr. Iftikhar Ahmad",
      "photoUrl": "",
      "userId": "14655798496938853703"
     },
     "user_tz": -300
    },
    "id": "tA_-KXdX0Fqs"
   },
   "outputs": [],
   "source": [
    "def Multiply(a,b):\n",
    "    return a*b"
   ]
  },
  {
   "cell_type": "code",
   "execution_count": 9,
   "metadata": {
    "colab": {
     "base_uri": "https://localhost:8080/"
    },
    "executionInfo": {
     "elapsed": 550,
     "status": "ok",
     "timestamp": 1622022280305,
     "user": {
      "displayName": "Dr. Iftikhar Ahmad",
      "photoUrl": "",
      "userId": "14655798496938853703"
     },
     "user_tz": -300
    },
    "id": "v3Zlesu70Fqt",
    "outputId": "20160f67-7697-4a5b-9227-449aa1087c6b"
   },
   "outputs": [
    {
     "name": "stdout",
     "output_type": "stream",
     "text": [
      "150\n"
     ]
    }
   ],
   "source": [
    "a = 10\n",
    "b = 15\n",
    "c = Multiply(a,b)\n",
    "print(c)"
   ]
  },
  {
   "cell_type": "code",
   "execution_count": 10,
   "metadata": {
    "colab": {
     "base_uri": "https://localhost:8080/"
    },
    "executionInfo": {
     "elapsed": 6,
     "status": "ok",
     "timestamp": 1622022294525,
     "user": {
      "displayName": "Dr. Iftikhar Ahmad",
      "photoUrl": "",
      "userId": "14655798496938853703"
     },
     "user_tz": -300
    },
    "id": "BBkKHaXT0Fqt",
    "outputId": "c3cb3376-3203-4a99-9bad-5112e4a6b6bd"
   },
   "outputs": [
    {
     "name": "stdout",
     "output_type": "stream",
     "text": [
      "RahimRahim\n"
     ]
    }
   ],
   "source": [
    "name = \"Rahim\"\n",
    "x = 2\n",
    "c = Multiply(name,x)\n",
    "print(c)"
   ]
  },
  {
   "cell_type": "markdown",
   "metadata": {
    "id": "fQomfTIb0Fqt"
   },
   "source": [
    "### Collecting Arguments\n",
    "\n",
    "* Use * when the number of arguments are not defined"
   ]
  },
  {
   "cell_type": "code",
   "execution_count": 11,
   "metadata": {
    "executionInfo": {
     "elapsed": 439,
     "status": "ok",
     "timestamp": 1622022319566,
     "user": {
      "displayName": "Dr. Iftikhar Ahmad",
      "photoUrl": "",
      "userId": "14655798496938853703"
     },
     "user_tz": -300
    },
    "id": "SEliEp3B0Fqu"
   },
   "outputs": [],
   "source": [
    "def artistNames(*names):\n",
    "    for name in names:\n",
    "        print(name)"
   ]
  },
  {
   "cell_type": "code",
   "execution_count": 12,
   "metadata": {
    "colab": {
     "base_uri": "https://localhost:8080/"
    },
    "executionInfo": {
     "elapsed": 741,
     "status": "ok",
     "timestamp": 1622022358449,
     "user": {
      "displayName": "Dr. Iftikhar Ahmad",
      "photoUrl": "",
      "userId": "14655798496938853703"
     },
     "user_tz": -300
    },
    "id": "1dAEULfC0Fqu",
    "outputId": "49cae0ab-e364-4b84-d36a-48a876a72ba4"
   },
   "outputs": [
    {
     "name": "stdout",
     "output_type": "stream",
     "text": [
      "MJ\n",
      "Pink Floyd\n",
      "Beyonce\n",
      "Some other artist\n"
     ]
    }
   ],
   "source": [
    "artistNames(\"MJ\", \"Pink Floyd\",\"Beyonce\",\"Some other artist\")"
   ]
  },
  {
   "cell_type": "markdown",
   "metadata": {
    "id": "hiZ_9n6s0Fqu"
   },
   "source": [
    "# Objects and Classes\n",
    "\n",
    "* A number of types in Python\n",
    "    * int\n",
    "    * float\n",
    "    * bool\n",
    "    * List\n",
    "* Each is an __object__\n",
    "* Every __object__ has\n",
    "    * A type\n",
    "    * An internal data represention\n",
    "    * A set of procedures for interacting with objects\n",
    "* An __object__ is an instance of a particular __type__"
   ]
  },
  {
   "cell_type": "markdown",
   "metadata": {
    "id": "ysE16z5K0Fqu"
   },
   "source": [
    "## Methods\n",
    "* A __class__ or __type__’s method are functions that every instance of that class or type provides\n",
    "* Its how we interact with objects"
   ]
  },
  {
   "cell_type": "code",
   "execution_count": 13,
   "metadata": {
    "id": "cEzXxbXK0Fqv"
   },
   "outputs": [
    {
     "data": {
      "text/plain": [
       "[4.5, 6.7, 9.4, 9.8]"
      ]
     },
     "execution_count": 13,
     "metadata": {},
     "output_type": "execute_result"
    }
   ],
   "source": [
    "ratings = [9.8, 6.7,4.5,9.4]\n",
    "ratings.sort()\n",
    "ratings"
   ]
  },
  {
   "cell_type": "code",
   "execution_count": 14,
   "metadata": {
    "id": "g7RkbwAr0Fqv"
   },
   "outputs": [
    {
     "data": {
      "text/plain": [
       "[9.4, 4.5, 6.7, 9.8]"
      ]
     },
     "execution_count": 14,
     "metadata": {},
     "output_type": "execute_result"
    }
   ],
   "source": [
    "ratings = [9.8, 6.7,4.5,9.4]\n",
    "ratings.reverse()\n",
    "ratings"
   ]
  },
  {
   "cell_type": "markdown",
   "metadata": {
    "id": "UX2Q2hG-0Fqv"
   },
   "source": [
    "### A simple student class\n",
    "* A student has two properties\n",
    "    * Registration Number (regNo)\n",
    "    * Name (name)\n",
    "* Lets create a student class with these two properties\n",
    "* Note the following keywords\n",
    "    * __class__\n",
    "    * __object__\n",
    "    * __ __init__ __\n",
    "    * __self__"
   ]
  },
  {
   "cell_type": "code",
   "execution_count": 15,
   "metadata": {
    "executionInfo": {
     "elapsed": 967,
     "status": "ok",
     "timestamp": 1622022560811,
     "user": {
      "displayName": "Dr. Iftikhar Ahmad",
      "photoUrl": "",
      "userId": "14655798496938853703"
     },
     "user_tz": -300
    },
    "id": "4K04-j-H0Fqv"
   },
   "outputs": [],
   "source": [
    "class Student(object):\n",
    "    \n",
    "  def __init__(self, regNo, name):\n",
    "    self.regNo = regNo\n",
    "    self.name = name"
   ]
  },
  {
   "cell_type": "markdown",
   "metadata": {
    "id": "P2fBIOPL0Fqw"
   },
   "source": [
    "#### Creating Instance of Class *Student*"
   ]
  },
  {
   "cell_type": "code",
   "execution_count": 16,
   "metadata": {
    "executionInfo": {
     "elapsed": 483,
     "status": "ok",
     "timestamp": 1622022563580,
     "user": {
      "displayName": "Dr. Iftikhar Ahmad",
      "photoUrl": "",
      "userId": "14655798496938853703"
     },
     "user_tz": -300
    },
    "id": "oN8STb9o0Fqw"
   },
   "outputs": [],
   "source": [
    "Std1 = Student(\"18PWBCS0101\", \"Rahim\")"
   ]
  },
  {
   "cell_type": "markdown",
   "metadata": {
    "id": "v6yfF_wR0Fqw"
   },
   "source": [
    "### Accessing Elements of Object Std1"
   ]
  },
  {
   "cell_type": "code",
   "execution_count": 17,
   "metadata": {
    "colab": {
     "base_uri": "https://localhost:8080/",
     "height": 35
    },
    "executionInfo": {
     "elapsed": 879,
     "status": "ok",
     "timestamp": 1622022567122,
     "user": {
      "displayName": "Dr. Iftikhar Ahmad",
      "photoUrl": "",
      "userId": "14655798496938853703"
     },
     "user_tz": -300
    },
    "id": "ymUe-E2h0Fqw",
    "outputId": "c1f08847-31fe-4268-d4f6-37d3d92dbe90"
   },
   "outputs": [
    {
     "data": {
      "text/plain": [
       "'18PWBCS0101'"
      ]
     },
     "execution_count": 17,
     "metadata": {},
     "output_type": "execute_result"
    }
   ],
   "source": [
    "Std1.regNo"
   ]
  },
  {
   "cell_type": "code",
   "execution_count": 18,
   "metadata": {
    "colab": {
     "base_uri": "https://localhost:8080/",
     "height": 35
    },
    "executionInfo": {
     "elapsed": 427,
     "status": "ok",
     "timestamp": 1622022571752,
     "user": {
      "displayName": "Dr. Iftikhar Ahmad",
      "photoUrl": "",
      "userId": "14655798496938853703"
     },
     "user_tz": -300
    },
    "id": "VrgpAwa20Fqw",
    "outputId": "071c1dea-20a6-4452-ad1d-a53ddbea15b0"
   },
   "outputs": [
    {
     "data": {
      "text/plain": [
       "'Rahim'"
      ]
     },
     "execution_count": 18,
     "metadata": {},
     "output_type": "execute_result"
    }
   ],
   "source": [
    "Std1.name"
   ]
  },
  {
   "cell_type": "markdown",
   "metadata": {
    "id": "tP74qKuu0Fqx"
   },
   "source": [
    "### Adding Methods in Classes\n",
    "* Lets add the following two methods in the class Student\n",
    "    * changeName(self, name)\n",
    "    * displayStudent(self)"
   ]
  },
  {
   "cell_type": "code",
   "execution_count": 19,
   "metadata": {
    "id": "V4SjJ2u30Fqx"
   },
   "outputs": [],
   "source": [
    "class Student(object):\n",
    "    \n",
    "    def __init__(self, regNo, name):\n",
    "    self.regNo = regNo\n",
    "    self.name = name\n",
    "\n",
    "    def changeName(self, new_name):\n",
    "    self.name = new_name\n",
    "\n",
    "    def displayStudent(self):\n",
    "    print(self.regNo)\n",
    "    print(self.name)"
   ]
  },
  {
   "cell_type": "code",
   "execution_count": 20,
   "metadata": {
    "id": "EVBZArz10Fqx"
   },
   "outputs": [],
   "source": [
    "Std1 = Student(\"22PBCS0101\", \"Rahim\")"
   ]
  },
  {
   "cell_type": "code",
   "execution_count": 21,
   "metadata": {
    "id": "DxfHEjs10Fqx"
   },
   "outputs": [
    {
     "data": {
      "text/plain": [
       "'22PBCS0101'"
      ]
     },
     "execution_count": 21,
     "metadata": {},
     "output_type": "execute_result"
    }
   ],
   "source": [
    "Std1.regNo"
   ]
  },
  {
   "cell_type": "code",
   "execution_count": 22,
   "metadata": {
    "id": "hQSwsp6z0Fqy"
   },
   "outputs": [
    {
     "data": {
      "text/plain": [
       "'Rahim'"
      ]
     },
     "execution_count": 22,
     "metadata": {},
     "output_type": "execute_result"
    }
   ],
   "source": [
    "Std1.name"
   ]
  },
  {
   "cell_type": "code",
   "execution_count": 23,
   "metadata": {
    "id": "G5cKlYie0Fqy"
   },
   "outputs": [],
   "source": [
    "Std1.changeName(\"Ahmad Ali\")"
   ]
  },
  {
   "cell_type": "code",
   "execution_count": 24,
   "metadata": {
    "id": "RlljGvpr0Fqy"
   },
   "outputs": [
    {
     "name": "stdout",
     "output_type": "stream",
     "text": [
      "22PBCS0101\n",
      "Ahmad Ali\n"
     ]
    }
   ],
   "source": [
    "Std1.displayStudent()"
   ]
  },
  {
   "cell_type": "code",
   "execution_count": null,
   "metadata": {
    "id": "kEnHlbw_0Fqy"
   },
   "outputs": [],
   "source": []
  }
 ],
 "metadata": {
  "colab": {
   "name": "04 - Functions and Classes.ipynb",
   "provenance": []
  },
  "kernelspec": {
   "display_name": "Python 3 (ipykernel)",
   "language": "python",
   "name": "python3"
  },
  "language_info": {
   "codemirror_mode": {
    "name": "ipython",
    "version": 3
   },
   "file_extension": ".py",
   "mimetype": "text/x-python",
   "name": "python",
   "nbconvert_exporter": "python",
   "pygments_lexer": "ipython3",
   "version": "3.11.5"
  }
 },
 "nbformat": 4,
 "nbformat_minor": 4
}
