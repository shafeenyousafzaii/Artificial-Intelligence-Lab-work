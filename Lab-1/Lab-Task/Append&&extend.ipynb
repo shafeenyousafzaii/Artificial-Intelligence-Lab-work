{
 "cells": [
  {
   "cell_type": "code",
   "execution_count": 2,
   "id": "b0b48dab-6884-4b90-b7c0-b2f73662b29f",
   "metadata": {
    "tags": []
   },
   "outputs": [
    {
     "data": {
      "text/plain": [
       "[1, 2, 3, 4, 5, [4, 56, 6, 7]]"
      ]
     },
     "execution_count": 2,
     "metadata": {},
     "output_type": "execute_result"
    }
   ],
   "source": [
    "import numpy as np\n",
    "import pandas as pd\n",
    "list_a=[1,2,3,4,5]\n",
    "list_b=[4,56,6,7]\n",
    "list_a.append(list_b) #it just appends the list as it is\n",
    "list_a"
   ]
  },
  {
   "cell_type": "code",
   "execution_count": 5,
   "id": "50b3803c-2110-4f5a-8b0b-176dbaa5bc3f",
   "metadata": {
    "tags": []
   },
   "outputs": [
    {
     "data": {
      "text/plain": [
       "[4, 56, 6, 7, 1, 2, 3, 4, 5, [...], 1, 2, 3, 4, 5, [...], 1, 2, 3, 4, 5, [...]]"
      ]
     },
     "execution_count": 5,
     "metadata": {},
     "output_type": "execute_result"
    }
   ],
   "source": [
    "list_b.extend(list_a) #it will extend as in save all the elements into the first list and make them as data element not list\n",
    "list_b"
   ]
  }
 ],
 "metadata": {
  "kernelspec": {
   "display_name": "Python 3 (ipykernel)",
   "language": "python",
   "name": "python3"
  },
  "language_info": {
   "codemirror_mode": {
    "name": "ipython",
    "version": 3
   },
   "file_extension": ".py",
   "mimetype": "text/x-python",
   "name": "python",
   "nbconvert_exporter": "python",
   "pygments_lexer": "ipython3",
   "version": "3.11.5"
  }
 },
 "nbformat": 4,
 "nbformat_minor": 5
}
