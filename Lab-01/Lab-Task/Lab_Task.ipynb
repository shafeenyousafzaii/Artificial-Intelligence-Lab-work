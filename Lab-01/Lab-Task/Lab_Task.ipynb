{
 "cells": [
  {
   "cell_type": "code",
   "execution_count": 4,
   "id": "1a710bcd-a764-49ba-99a5-bc12b4e9e7df",
   "metadata": {
    "tags": []
   },
   "outputs": [
    {
     "name": "stdout",
     "output_type": "stream",
     "text": [
      "1 Add a student\n",
      "2 Display details of a specific student\n",
      "3 Display details of all students\n",
      "4 Calculate and display the average marks of a student\n",
      "5 Find and display details of the student with the highest average marks\n",
      "6 Exit the program\n"
     ]
    },
    {
     "name": "stdin",
     "output_type": "stream",
     "text": [
      "Choose from the above 1\n",
      "Enter name of student shafeen\n",
      "Enter roll number of student 11\n",
      "How many subjects are there 1\n",
      "Enter subject name 1\n",
      "Enter Subject Marks 1\n"
     ]
    },
    {
     "name": "stdout",
     "output_type": "stream",
     "text": [
      "1 Add a student\n",
      "2 Display details of a specific student\n",
      "3 Display details of all students\n",
      "4 Calculate and display the average marks of a student\n",
      "5 Find and display details of the student with the highest average marks\n",
      "6 Exit the program\n"
     ]
    },
    {
     "name": "stdin",
     "output_type": "stream",
     "text": [
      "Choose from the above 1\n",
      "Enter name of student khan\n",
      "Enter roll number of student 2\n",
      "How many subjects are there 2\n",
      "Enter subject name 2\n",
      "Enter Subject Marks 2\n",
      "Enter subject name 2\n",
      "Enter Subject Marks 2\n"
     ]
    },
    {
     "name": "stdout",
     "output_type": "stream",
     "text": [
      "1 Add a student\n",
      "2 Display details of a specific student\n",
      "3 Display details of all students\n",
      "4 Calculate and display the average marks of a student\n",
      "5 Find and display details of the student with the highest average marks\n",
      "6 Exit the program\n"
     ]
    },
    {
     "name": "stdin",
     "output_type": "stream",
     "text": [
      "Choose from the above 5\n"
     ]
    },
    {
     "name": "stdout",
     "output_type": "stream",
     "text": [
      "['khan']\n",
      "1 Add a student\n",
      "2 Display details of a specific student\n",
      "3 Display details of all students\n",
      "4 Calculate and display the average marks of a student\n",
      "5 Find and display details of the student with the highest average marks\n",
      "6 Exit the program\n"
     ]
    },
    {
     "name": "stdin",
     "output_type": "stream",
     "text": [
      "Choose from the above 6\n"
     ]
    }
   ],
   "source": [
    "###### import numpy as np\n",
    "# import pandas as pd\n",
    "# print(\"Hellooo\")\n",
    "# %inline\n",
    "# hello=input(\"hello\")\n",
    "class Student:\n",
    "    def __init__(self,name=\"\",roll_number=0,marks={\"\":0}):\n",
    "        self.roll_number=roll_number\n",
    "        self.name=name\n",
    "        self.marks=marks\n",
    "student_database=[]\n",
    "def add_student(roll_number,name):\n",
    "    # Student s1\n",
    "    marks={}\n",
    "    subjects=int(input(\"How many subjects are there\"))\n",
    "    for i in range(0,subjects):\n",
    "        name=input(\"Enter subject name\")\n",
    "        markss=int(input(\"Enter Subject Marks\"))\n",
    "        marks[name]=markss\n",
    "    s1=Student(roll_number,name,marks)\n",
    "    student_database.append(s1)\n",
    "    # s1.marks[subject_name]=student_marks\n",
    "def display_student_details(roll_numberr):\n",
    "    for i in student_database:\n",
    "                   if int(i.roll_number) == roll_numberr:\n",
    "                       # print(i.name,i.marks)\n",
    "                        print(\"Name : \",i.name)\n",
    "                        print(\"Marks: \",i.marks)\n",
    "def display_all_student():\n",
    "    for i in student_database:\n",
    "        print(type(i))\n",
    "        print(\"Name    : \",i.name)\n",
    "        print(\"Roll No : \",i.roll_number)\n",
    "        print(\"Marks    : \",i.marks)\n",
    "def calculate_average_marks(roll_numberr):\n",
    "    subject_marks=[]\n",
    "    for i in student_database:\n",
    "        if int(i.roll_number) == roll_numberr:\n",
    "            subject_marks=i.marks.values()\n",
    "    # average=list(subject_marks)\n",
    "    average_marks=np.array(list(subject_marks))\n",
    "    mean=average_marks.mean()\n",
    "    print(\"Average Marks : \",mean)\n",
    "# def find_topper():\n",
    "#     avg=[]\n",
    "#     for student in student_database:\n",
    "#         average_marks=[]\n",
    "#         average_marks.append(sum(student.marks.values())/len(student.marks.values()))\n",
    "#         h=[student,average_marks]\n",
    "#         avg.append(h)\n",
    "#     print(avg)\n",
    "#     for i,j in avg:\n",
    "def find_topper():\n",
    "    AVG = 0\n",
    "    Top_AVG = []\n",
    "    for student in student_database:\n",
    "        avg = sum(student.marks.values()) / len(student.marks.values())\n",
    "        if avg > AVG:\n",
    "            AVG = avg\n",
    "            Top_AVG = [student.name]\n",
    "        elif avg == AVG:\n",
    "            Top_AVG.append(student.name)\n",
    "    print(Top_AVG)\n",
    "    # return toppers #puri info wese zaruri ni thi mam ne name kaha tha srf          \n",
    "        # avg[student.marks.keys()]=student.marks.values()\n",
    "        # if student.roll_number == roll_number:\n",
    "        # avg = sum(student.marks.values())/len(student.marks.values())\n",
    "    # return avg\n",
    "    # average_marks=average.\n",
    "    # marks=subject_marks\n",
    "# def calculate_average_marks(roll_number):\n",
    "#     for student in student_database:\n",
    "#         if student.roll_number == roll_number:\n",
    "#               avg = sum(student.marks.values())/len(student.marks.values())\n",
    "#     return avg\n",
    "    # average_marks=average.\n",
    "    # marks=subject_marks\n",
    "# def find_topper():\n",
    "#     for i in student_database:\n",
    "        \n",
    "while(1):\n",
    "    # choice\n",
    "    print(\"1 Add a student\")\n",
    "    print(\"2 Display details of a specific student\")\n",
    "    print(\"3 Display details of all students\")\n",
    "    print(\"4 Calculate and display the average marks of a student\")\n",
    "    print(\"5 Find and display details of the student with the highest average marks\")\n",
    "    print(\"6 Exit the program\")\n",
    "    try:\n",
    "        choice=int(input(\"Choose from the above\"))\n",
    "    except:\n",
    "        print(\"Please enter a valid integer value from the above options\")\n",
    "        continue\n",
    "    # print(choice)\n",
    "    # break\n",
    "    if choice == 1:\n",
    "        name=(input(\"Enter name of student\"))\n",
    "        try :\n",
    "            roll_number=int(input(\"Enter roll number of student\"))\n",
    "        except:\n",
    "            print(\"Enter a valid roll_number format\")\n",
    "            continue\n",
    "        # subject_name=input(\"Enter name of subject\")\n",
    "        # try :\n",
    "        #     subject_marks=int(input(\"Enter marks of subject\"))\n",
    "        # except:\n",
    "        #     print(\"Enter a marks in integer values\")\n",
    "        #     continue\n",
    "        add_student(name,roll_number)\n",
    "    elif choice == 2:\n",
    "        try:\n",
    "            roll_number=int(input(\"Enter your roll_number\"))\n",
    "        except:\n",
    "            print(\"Enter roll valid format\")\n",
    "            continue\n",
    "        display_student_details(roll_number)\n",
    "    elif choice == 3:\n",
    "        display_all_student()\n",
    "    elif choice == 4:\n",
    "        try:\n",
    "            roll_number=int(input(\"Enter your roll number\"))\n",
    "        except:\n",
    "                print(\"Enter valid format for roll-number\")\n",
    "                continue\n",
    "        calculate_average_marks(roll_number)\n",
    "    elif choice== 5:\n",
    "        try:\n",
    "            # roll_num=int(input(\"Enter your roll no : \"))\n",
    "            find_topper()\n",
    "            # calculate_average_marks(roll_num)\n",
    "        except:\n",
    "            print(\"Enter valid format for roll-number\")\n",
    "            continue\n",
    "    else:\n",
    "        break\n"
   ]
  }
 ],
 "metadata": {
  "kernelspec": {
   "display_name": "Python 3 (ipykernel)",
   "language": "python",
   "name": "python3"
  },
  "language_info": {
   "codemirror_mode": {
    "name": "ipython",
    "version": 3
   },
   "file_extension": ".py",
   "mimetype": "text/x-python",
   "name": "python",
   "nbconvert_exporter": "python",
   "pygments_lexer": "ipython3",
   "version": "3.11.5"
  }
 },
 "nbformat": 4,
 "nbformat_minor": 5
}
