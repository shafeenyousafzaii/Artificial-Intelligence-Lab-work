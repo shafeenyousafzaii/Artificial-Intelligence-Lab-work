{
 "cells": [
  {
   "cell_type": "markdown",
   "metadata": {
    "id": "B8vfHHL20E1j"
   },
   "source": [
    "# Conditions/Branching and Looping\n",
    "\n",
    "The notebook covers example on the following topics;\n",
    "* Condition Statements\n",
    "    * If Statement (if)\n",
    "    * If-Else Statement (if else)\n",
    "    * If-Else If Statement (if elif)\n",
    "* Looping\n",
    "    * For Loop\n",
    "    * While Loop"
   ]
  },
  {
   "cell_type": "markdown",
   "metadata": {
    "id": "AQX7g4yw0E1o"
   },
   "source": [
    "## If Statement\n",
    "If statements checks a condition and executes a block of code if the condition is true"
   ]
  },
  {
   "cell_type": "code",
   "execution_count": 1,
   "metadata": {
    "id": "nBdVLhlU0E1p"
   },
   "outputs": [],
   "source": [
    "age = 17\n",
    "if(age >= 18):\n",
    "    print(\"You can vote\")\n",
    "    print(\"You should vote sensibly\")"
   ]
  },
  {
   "cell_type": "markdown",
   "metadata": {
    "id": "_sMrH0Q30E1r"
   },
   "source": [
    "## If Else Statement\n",
    "If Else statement checks a condition and executes a block of code if the condition is true, otherwise (if the condition is not true) another block of code is executed"
   ]
  },
  {
   "cell_type": "code",
   "execution_count": 2,
   "metadata": {
    "id": "yjYGeoG70E1r"
   },
   "outputs": [
    {
     "name": "stdout",
     "output_type": "stream",
     "text": [
      "You can vote\n"
     ]
    }
   ],
   "source": [
    "age = 19\n",
    "if(age >= 18):\n",
    "    print(\"You can vote\")\n",
    "else:\n",
    "    print(\"You are too young to vote\")"
   ]
  },
  {
   "cell_type": "markdown",
   "metadata": {
    "id": "8d7TRti20E1s"
   },
   "source": [
    "## If Else If Statement\n",
    "If else if statement is used to check a number of conditions, and depending upon the condition, a specific block of code is executed."
   ]
  },
  {
   "cell_type": "code",
   "execution_count": 3,
   "metadata": {
    "id": "HjW34uxj0E1s"
   },
   "outputs": [
    {
     "name": "stdout",
     "output_type": "stream",
     "text": [
      "B+\n"
     ]
    }
   ],
   "source": [
    "marks = 85\n",
    "if(marks >= 90):\n",
    "    print(\"A+\")\n",
    "elif(marks >= 80):\n",
    "    print(\"B+\")\n",
    "else:\n",
    "    print(\"Too bad\")"
   ]
  },
  {
   "cell_type": "markdown",
   "metadata": {
    "id": "reXtg5VA0E1t"
   },
   "source": [
    "## and / or conditions\n",
    "Multiple conditions can be checked in a single if statement using __and__/__or__ statements"
   ]
  },
  {
   "cell_type": "code",
   "execution_count": 4,
   "metadata": {
    "id": "rRA0TIya0E1t"
   },
   "outputs": [
    {
     "name": "stdout",
     "output_type": "stream",
     "text": [
      "Probabation\n"
     ]
    }
   ],
   "source": [
    "sgpa = 1.6\n",
    "cgpa = 1.1\n",
    "\n",
    "if(sgpa >= 2.5) or (cgpa >= 2):\n",
    "    print(\"No probabation\")\n",
    "else:\n",
    "    print(\"Probabation\")"
   ]
  },
  {
   "cell_type": "markdown",
   "metadata": {
    "id": "RWJQW6mr0E1u"
   },
   "source": [
    "## Range Function\n",
    "\n",
    "* range(N) returns a list of integers from 0,… , N-1 \n",
    "    * range(5) =>  [0,1,2,3,4]\n",
    "    * range(5,10) =>  [5,6,7,8,9]"
   ]
  },
  {
   "cell_type": "markdown",
   "metadata": {
    "id": "aS-UXFuI0E1u"
   },
   "source": [
    "## For Loop"
   ]
  },
  {
   "cell_type": "code",
   "execution_count": 5,
   "metadata": {
    "id": "Ahj6P8I90E1v",
    "outputId": "b28a375f-75d1-419f-e96a-54cc52e52eb1"
   },
   "outputs": [
    {
     "name": "stdout",
     "output_type": "stream",
     "text": [
      "['red', 'black', 'yellow', 'purple', 'green']\n"
     ]
    }
   ],
   "source": [
    "squares = [\"red\", \"black\", \"yellow\", \"purple\", \"green\"]\n",
    "print(squares)"
   ]
  },
  {
   "cell_type": "code",
   "execution_count": 6,
   "metadata": {
    "id": "7EtnjSox0E1w"
   },
   "outputs": [],
   "source": [
    "for i in range(0,5):\n",
    "    squares[i] = \"white\""
   ]
  },
  {
   "cell_type": "code",
   "execution_count": 7,
   "metadata": {
    "id": "nDsIN_sc0E1w",
    "outputId": "63a19ac0-bdbd-4982-a5db-4b2c2dd6b79c"
   },
   "outputs": [
    {
     "name": "stdout",
     "output_type": "stream",
     "text": [
      "['white', 'white', 'white', 'white', 'white']\n"
     ]
    }
   ],
   "source": [
    "print(squares)"
   ]
  },
  {
   "cell_type": "markdown",
   "metadata": {
    "id": "Z8QbdQe10E1x"
   },
   "source": [
    "### For Loop using  _in_"
   ]
  },
  {
   "cell_type": "code",
   "execution_count": 8,
   "metadata": {
    "id": "4BzyuOXF0E1x",
    "outputId": "d787196b-54d9-4d68-a10f-81fe8618275e"
   },
   "outputs": [
    {
     "name": "stdout",
     "output_type": "stream",
     "text": [
      "red\n",
      "black\n",
      "yellow\n",
      "purple\n",
      "green\n"
     ]
    }
   ],
   "source": [
    "squares = [\"red\", \"black\", \"yellow\", \"purple\", \"green\"]\n",
    "for it in squares:\n",
    "    print(it)"
   ]
  },
  {
   "cell_type": "markdown",
   "metadata": {
    "id": "t5mKl6tY0E1y"
   },
   "source": [
    "### For Loop using _enumerate_"
   ]
  },
  {
   "cell_type": "code",
   "execution_count": 9,
   "metadata": {
    "id": "xLwxcK5y0E1y",
    "outputId": "54cd6ad2-4f9a-4a9c-b7b7-a46e418263b4",
    "scrolled": true
   },
   "outputs": [
    {
     "name": "stdout",
     "output_type": "stream",
     "text": [
      "0 red\n",
      "1 black\n",
      "2 yellow\n",
      "3 purple\n",
      "4 green\n"
     ]
    }
   ],
   "source": [
    "squares = [\"red\", \"black\", \"yellow\", \"purple\", \"green\"]\n",
    "for i,sq in enumerate(squares):\n",
    "    print(i,sq)"
   ]
  },
  {
   "cell_type": "markdown",
   "metadata": {
    "id": "b-Bf3fZ50E1z"
   },
   "source": [
    "## Using _while_ Statement"
   ]
  },
  {
   "cell_type": "code",
   "execution_count": 10,
   "metadata": {
    "colab": {
     "base_uri": "https://localhost:8080/"
    },
    "executionInfo": {
     "elapsed": 351,
     "status": "ok",
     "timestamp": 1622021689280,
     "user": {
      "displayName": "Dr. Iftikhar Ahmad",
      "photoUrl": "",
      "userId": "14655798496938853703"
     },
     "user_tz": -300
    },
    "id": "MDIeJt760E1z",
    "outputId": "7220c800-2a29-4d42-8752-e7aabf5cdedd"
   },
   "outputs": [
    {
     "name": "stdout",
     "output_type": "stream",
     "text": [
      "0\n",
      "red\n",
      "new_Sqares updated\n",
      "1\n",
      "black\n",
      "2\n",
      "red\n",
      "new_Sqares updated\n",
      "3\n",
      "purple\n",
      "4\n",
      "green\n"
     ]
    }
   ],
   "source": [
    "squares = [\"red\", \"black\", \"red\", \"purple\", \"green\"]\n",
    "new_squares = []\n",
    "\n",
    "i=0\n",
    "\n",
    "while(i < len(squares)):\n",
    "    print(i)\n",
    "    print(squares[i])\n",
    "    if(squares[i]==\"red\"):\n",
    "        print(\"new_Sqares updated\")\n",
    "        new_squares.append(squares[i])\n",
    "    i= i + 1"
   ]
  },
  {
   "cell_type": "code",
   "execution_count": 11,
   "metadata": {
    "colab": {
     "base_uri": "https://localhost:8080/"
    },
    "executionInfo": {
     "elapsed": 633,
     "status": "ok",
     "timestamp": 1622021996811,
     "user": {
      "displayName": "Dr. Iftikhar Ahmad",
      "photoUrl": "",
      "userId": "14655798496938853703"
     },
     "user_tz": -300
    },
    "id": "7ASruR4MCYhk",
    "outputId": "610575c1-4f44-4a67-c5d9-ec64f96204c0"
   },
   "outputs": [
    {
     "name": "stdout",
     "output_type": "stream",
     "text": [
      "You can vote\n",
      "Be sensisble, its very important\n",
      "More of if statemetn code\n",
      "We are outside the if statemetn true block\n"
     ]
    }
   ],
   "source": [
    "age = 20\n",
    "\n",
    "if(age>18):\n",
    "  print(\"You can vote\")\n",
    "  print(\"Be sensisble, its very important\")\n",
    "  print(\"More of if statemetn code\")\n",
    "\n",
    "print(\"We are outside the if statemetn true block\")\n",
    "\n"
   ]
  },
  {
   "cell_type": "code",
   "execution_count": 12,
   "metadata": {
    "colab": {
     "base_uri": "https://localhost:8080/"
    },
    "executionInfo": {
     "elapsed": 352,
     "status": "ok",
     "timestamp": 1622021242185,
     "user": {
      "displayName": "Dr. Iftikhar Ahmad",
      "photoUrl": "",
      "userId": "14655798496938853703"
     },
     "user_tz": -300
    },
    "id": "vCjkdMTN0E10",
    "outputId": "87e70c14-fb4d-4ed1-c9af-3c804e4be5e8"
   },
   "outputs": [
    {
     "data": {
      "text/plain": [
       "['red', 'red']"
      ]
     },
     "execution_count": 12,
     "metadata": {},
     "output_type": "execute_result"
    }
   ],
   "source": [
    "new_squares"
   ]
  }
 ],
 "metadata": {
  "colab": {
   "collapsed_sections": [],
   "name": "03 - Conditions_Branching_Loops.ipynb",
   "provenance": []
  },
  "kernelspec": {
   "display_name": "Python 3 (ipykernel)",
   "language": "python",
   "name": "python3"
  },
  "language_info": {
   "codemirror_mode": {
    "name": "ipython",
    "version": 3
   },
   "file_extension": ".py",
   "mimetype": "text/x-python",
   "name": "python",
   "nbconvert_exporter": "python",
   "pygments_lexer": "ipython3",
   "version": "3.11.5"
  }
 },
 "nbformat": 4,
 "nbformat_minor": 4
}
