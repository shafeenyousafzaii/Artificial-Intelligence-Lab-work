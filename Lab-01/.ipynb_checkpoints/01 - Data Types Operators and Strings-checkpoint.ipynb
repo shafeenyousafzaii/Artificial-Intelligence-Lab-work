{
 "cells": [
  {
   "cell_type": "markdown",
   "metadata": {
    "id": "E_yF-qOJ5ESx"
   },
   "source": [
    "# Data Types, Operators, and Strings"
   ]
  },
  {
   "cell_type": "markdown",
   "metadata": {
    "id": "EM_8OtQc5ETC"
   },
   "source": [
    " ## Printing on Screen"
   ]
  },
  {
   "cell_type": "code",
   "execution_count": 1,
   "metadata": {
    "colab": {
     "base_uri": "https://localhost:8080/"
    },
    "executionInfo": {
     "elapsed": 1339,
     "status": "ok",
     "timestamp": 1621415648857,
     "user": {
      "displayName": "Dr. Iftikhar Ahmad",
      "photoUrl": "",
      "userId": "14655798496938853703"
     },
     "user_tz": -300
    },
    "id": "yjTrdHfA5ETD",
    "outputId": "101805d4-6c23-4e69-9c04-15977cca4335"
   },
   "outputs": [
    {
     "name": "stdout",
     "output_type": "stream",
     "text": [
      "Hello World Python\n"
     ]
    }
   ],
   "source": [
    "print('Hello World Python')"
   ]
  },
  {
   "cell_type": "markdown",
   "metadata": {
    "id": "cKagkNwt5ETF"
   },
   "source": [
    "## Data Types"
   ]
  },
  {
   "cell_type": "markdown",
   "metadata": {
    "id": "EG6DZkK05ETF"
   },
   "source": [
    "There are different data types in Python such as integer (int), float (float), string (str) etc. \n",
    "When declaring a variable in Python, it is not superseded by the data type as in java or C++"
   ]
  },
  {
   "cell_type": "code",
   "execution_count": 2,
   "metadata": {
    "colab": {
     "base_uri": "https://localhost:8080/"
    },
    "executionInfo": {
     "elapsed": 965,
     "status": "ok",
     "timestamp": 1621415699249,
     "user": {
      "displayName": "Dr. Iftikhar Ahmad",
      "photoUrl": "",
      "userId": "14655798496938853703"
     },
     "user_tz": -300
    },
    "id": "xlY5xtrq5ETH",
    "outputId": "22727937-210a-4e76-be3a-b0b759e8cc5d"
   },
   "outputs": [
    {
     "name": "stdout",
     "output_type": "stream",
     "text": [
      "num =  10\n",
      "pi =  3.14\n"
     ]
    }
   ],
   "source": [
    "num = 10\n",
    "pi = 3.14\n",
    "print(\"num = \", num)\n",
    "print(\"pi = \", pi)"
   ]
  },
  {
   "cell_type": "markdown",
   "metadata": {
    "id": "fhSQszCr5ETI"
   },
   "source": [
    "### type command\n",
    "The \"type\" is used to return the data type of any variable"
   ]
  },
  {
   "cell_type": "code",
   "execution_count": 3,
   "metadata": {
    "colab": {
     "base_uri": "https://localhost:8080/"
    },
    "executionInfo": {
     "elapsed": 1448,
     "status": "ok",
     "timestamp": 1621415722260,
     "user": {
      "displayName": "Dr. Iftikhar Ahmad",
      "photoUrl": "",
      "userId": "14655798496938853703"
     },
     "user_tz": -300
    },
    "id": "234lbJYC5ETI",
    "outputId": "ba27771b-4f91-481e-ede7-834bcd0ca4d2"
   },
   "outputs": [
    {
     "data": {
      "text/plain": [
       "int"
      ]
     },
     "execution_count": 3,
     "metadata": {
      "tags": []
     },
     "output_type": "execute_result"
    }
   ],
   "source": [
    "type(num)"
   ]
  },
  {
   "cell_type": "code",
   "execution_count": 4,
   "metadata": {
    "colab": {
     "base_uri": "https://localhost:8080/"
    },
    "executionInfo": {
     "elapsed": 963,
     "status": "ok",
     "timestamp": 1621415726436,
     "user": {
      "displayName": "Dr. Iftikhar Ahmad",
      "photoUrl": "",
      "userId": "14655798496938853703"
     },
     "user_tz": -300
    },
    "id": "Ay8izCbs5ETJ",
    "outputId": "b443a117-fd2e-4c04-b36d-1f8899f01adc"
   },
   "outputs": [
    {
     "name": "stdout",
     "output_type": "stream",
     "text": [
      "3.14\n"
     ]
    }
   ],
   "source": [
    "pi = 3.14\n",
    "print(pi)"
   ]
  },
  {
   "cell_type": "code",
   "execution_count": 5,
   "metadata": {
    "colab": {
     "base_uri": "https://localhost:8080/"
    },
    "executionInfo": {
     "elapsed": 940,
     "status": "ok",
     "timestamp": 1621415729747,
     "user": {
      "displayName": "Dr. Iftikhar Ahmad",
      "photoUrl": "",
      "userId": "14655798496938853703"
     },
     "user_tz": -300
    },
    "id": "QbLFB0gk5ETL",
    "outputId": "1a589bdf-1e6d-4dac-d19a-1c9633fe749d"
   },
   "outputs": [
    {
     "data": {
      "text/plain": [
       "float"
      ]
     },
     "execution_count": 5,
     "metadata": {
      "tags": []
     },
     "output_type": "execute_result"
    }
   ],
   "source": [
    "type(pi)"
   ]
  },
  {
   "cell_type": "code",
   "execution_count": 6,
   "metadata": {
    "executionInfo": {
     "elapsed": 1029,
     "status": "ok",
     "timestamp": 1621415740613,
     "user": {
      "displayName": "Dr. Iftikhar Ahmad",
      "photoUrl": "",
      "userId": "14655798496938853703"
     },
     "user_tz": -300
    },
    "id": "Oq012tQH5ETN"
   },
   "outputs": [],
   "source": [
    "name = 'Faheem'"
   ]
  },
  {
   "cell_type": "code",
   "execution_count": 7,
   "metadata": {
    "colab": {
     "base_uri": "https://localhost:8080/"
    },
    "executionInfo": {
     "elapsed": 1744,
     "status": "ok",
     "timestamp": 1621415743410,
     "user": {
      "displayName": "Dr. Iftikhar Ahmad",
      "photoUrl": "",
      "userId": "14655798496938853703"
     },
     "user_tz": -300
    },
    "id": "ppUfLtsQ5ETN",
    "outputId": "cf808423-89f1-4ef4-ae66-16ff951bc7aa"
   },
   "outputs": [
    {
     "data": {
      "text/plain": [
       "str"
      ]
     },
     "execution_count": 7,
     "metadata": {
      "tags": []
     },
     "output_type": "execute_result"
    }
   ],
   "source": [
    "type(name)"
   ]
  },
  {
   "cell_type": "markdown",
   "metadata": {
    "id": "TdoFY0qS5ETO"
   },
   "source": [
    "## Mathematical Operator\n",
    "As in other programing lanuages, Python offers a number of mathemtical operators. See the following example."
   ]
  },
  {
   "cell_type": "code",
   "execution_count": 8,
   "metadata": {
    "colab": {
     "base_uri": "https://localhost:8080/"
    },
    "executionInfo": {
     "elapsed": 1008,
     "status": "ok",
     "timestamp": 1621415805748,
     "user": {
      "displayName": "Dr. Iftikhar Ahmad",
      "photoUrl": "",
      "userId": "14655798496938853703"
     },
     "user_tz": -300
    },
    "id": "1pEEzoOQ5ETO",
    "outputId": "78fe5030-a117-4959-ee04-51e7ef423c10"
   },
   "outputs": [
    {
     "name": "stdout",
     "output_type": "stream",
     "text": [
      "sum =  36\n",
      "diff =  16\n",
      "prod =  260\n",
      "z1 =  2.6\n",
      "z2 =  2\n",
      "z3 =  6\n"
     ]
    }
   ],
   "source": [
    "x = 26\n",
    "y = 10\n",
    "\n",
    "sum = x + y\n",
    "diff = x - y\n",
    "prod = x*y\n",
    "z1 = x / y\n",
    "z2 = x // y\n",
    "z3 = x % y\n",
    "\n",
    "print(\"sum = \", sum)\n",
    "print(\"diff = \", diff)\n",
    "print(\"prod = \", prod)\n",
    "print(\"z1 = \", z1)\n",
    "print(\"z2 = \", z2)\n",
    "print(\"z3 = \", z3)"
   ]
  },
  {
   "cell_type": "markdown",
   "metadata": {
    "id": "Ah-HXOkG5ETP"
   },
   "source": [
    "## Type Casting\n",
    "\n",
    "Type casting is applied to cast a variable of a specific data type to another of the desired type."
   ]
  },
  {
   "cell_type": "code",
   "execution_count": 9,
   "metadata": {
    "executionInfo": {
     "elapsed": 947,
     "status": "ok",
     "timestamp": 1621415843907,
     "user": {
      "displayName": "Dr. Iftikhar Ahmad",
      "photoUrl": "",
      "userId": "14655798496938853703"
     },
     "user_tz": -300
    },
    "id": "282xm-yY5ETP"
   },
   "outputs": [],
   "source": [
    "num = 10\n",
    "pi = 3.14\n",
    "name = \"Rahim\""
   ]
  },
  {
   "cell_type": "code",
   "execution_count": 10,
   "metadata": {
    "colab": {
     "base_uri": "https://localhost:8080/"
    },
    "executionInfo": {
     "elapsed": 941,
     "status": "ok",
     "timestamp": 1621415859701,
     "user": {
      "displayName": "Dr. Iftikhar Ahmad",
      "photoUrl": "",
      "userId": "14655798496938853703"
     },
     "user_tz": -300
    },
    "id": "OQ8G8ciE5ETP",
    "outputId": "3729777c-e5dd-4865-931b-b08561b27f0e"
   },
   "outputs": [
    {
     "data": {
      "text/plain": [
       "10.0"
      ]
     },
     "execution_count": 10,
     "metadata": {
      "tags": []
     },
     "output_type": "execute_result"
    }
   ],
   "source": [
    "float(num)"
   ]
  },
  {
   "cell_type": "code",
   "execution_count": 15,
   "metadata": {
    "executionInfo": {
     "elapsed": 982,
     "status": "ok",
     "timestamp": 1621415945578,
     "user": {
      "displayName": "Dr. Iftikhar Ahmad",
      "photoUrl": "",
      "userId": "14655798496938853703"
     },
     "user_tz": -300
    },
    "id": "chOXPV7t5ETQ"
   },
   "outputs": [],
   "source": [
    "pi = int(pi)"
   ]
  },
  {
   "cell_type": "code",
   "execution_count": 16,
   "metadata": {
    "colab": {
     "base_uri": "https://localhost:8080/"
    },
    "executionInfo": {
     "elapsed": 1017,
     "status": "ok",
     "timestamp": 1621415947666,
     "user": {
      "displayName": "Dr. Iftikhar Ahmad",
      "photoUrl": "",
      "userId": "14655798496938853703"
     },
     "user_tz": -300
    },
    "id": "2U2Au24y6yBi",
    "outputId": "30a0bfd3-caf0-4584-acd4-339cbfc1b81c"
   },
   "outputs": [
    {
     "data": {
      "text/plain": [
       "3"
      ]
     },
     "execution_count": 16,
     "metadata": {
      "tags": []
     },
     "output_type": "execute_result"
    }
   ],
   "source": [
    "pi"
   ]
  },
  {
   "cell_type": "markdown",
   "metadata": {
    "id": "y1L5k28S5ETR"
   },
   "source": [
    "**NOT** all types of type casting is possible. <br>\n",
    "For example, converting a string (str) to integer (int) will result in an error"
   ]
  },
  {
   "cell_type": "code",
   "execution_count": 17,
   "metadata": {
    "colab": {
     "base_uri": "https://localhost:8080/",
     "height": 164
    },
    "executionInfo": {
     "elapsed": 961,
     "status": "error",
     "timestamp": 1621415959761,
     "user": {
      "displayName": "Dr. Iftikhar Ahmad",
      "photoUrl": "",
      "userId": "14655798496938853703"
     },
     "user_tz": -300
    },
    "id": "3P28IHRd5ETR",
    "outputId": "4b89dde7-e61d-46f0-a90c-7042a86f6308"
   },
   "outputs": [
    {
     "ename": "ValueError",
     "evalue": "ignored",
     "output_type": "error",
     "traceback": [
      "\u001b[0;31m---------------------------------------------------------------------------\u001b[0m",
      "\u001b[0;31mValueError\u001b[0m                                Traceback (most recent call last)",
      "\u001b[0;32m<ipython-input-17-f75bcf899621>\u001b[0m in \u001b[0;36m<module>\u001b[0;34m()\u001b[0m\n\u001b[0;32m----> 1\u001b[0;31m \u001b[0mint\u001b[0m\u001b[0;34m(\u001b[0m\u001b[0mname\u001b[0m\u001b[0;34m)\u001b[0m\u001b[0;34m\u001b[0m\u001b[0;34m\u001b[0m\u001b[0m\n\u001b[0m",
      "\u001b[0;31mValueError\u001b[0m: invalid literal for int() with base 10: 'Rahim'"
     ]
    }
   ],
   "source": [
    "int(name)"
   ]
  },
  {
   "cell_type": "code",
   "execution_count": 18,
   "metadata": {
    "colab": {
     "base_uri": "https://localhost:8080/",
     "height": 164
    },
    "executionInfo": {
     "elapsed": 1043,
     "status": "error",
     "timestamp": 1621415968866,
     "user": {
      "displayName": "Dr. Iftikhar Ahmad",
      "photoUrl": "",
      "userId": "14655798496938853703"
     },
     "user_tz": -300
    },
    "id": "p4TpV9Mv5ETR",
    "outputId": "74232b37-e6c3-4731-9437-a1156ba51464"
   },
   "outputs": [
    {
     "ename": "ValueError",
     "evalue": "ignored",
     "output_type": "error",
     "traceback": [
      "\u001b[0;31m---------------------------------------------------------------------------\u001b[0m",
      "\u001b[0;31mValueError\u001b[0m                                Traceback (most recent call last)",
      "\u001b[0;32m<ipython-input-18-58e5992d18f7>\u001b[0m in \u001b[0;36m<module>\u001b[0;34m()\u001b[0m\n\u001b[0;32m----> 1\u001b[0;31m \u001b[0mint\u001b[0m\u001b[0;34m(\u001b[0m\u001b[0;34m'A'\u001b[0m\u001b[0;34m)\u001b[0m\u001b[0;34m\u001b[0m\u001b[0;34m\u001b[0m\u001b[0m\n\u001b[0m",
      "\u001b[0;31mValueError\u001b[0m: invalid literal for int() with base 10: 'A'"
     ]
    }
   ],
   "source": [
    "int('A')"
   ]
  },
  {
   "cell_type": "code",
   "execution_count": 19,
   "metadata": {
    "executionInfo": {
     "elapsed": 949,
     "status": "ok",
     "timestamp": 1621415985674,
     "user": {
      "displayName": "Dr. Iftikhar Ahmad",
      "photoUrl": "",
      "userId": "14655798496938853703"
     },
     "user_tz": -300
    },
    "id": "akKtuIpo5ETS"
   },
   "outputs": [],
   "source": [
    "lit_num = str(num)"
   ]
  },
  {
   "cell_type": "code",
   "execution_count": 20,
   "metadata": {
    "colab": {
     "base_uri": "https://localhost:8080/"
    },
    "executionInfo": {
     "elapsed": 935,
     "status": "ok",
     "timestamp": 1621415992038,
     "user": {
      "displayName": "Dr. Iftikhar Ahmad",
      "photoUrl": "",
      "userId": "14655798496938853703"
     },
     "user_tz": -300
    },
    "id": "CZdHjO9d5ETS",
    "outputId": "ed8153c3-84fd-4b19-e274-afe7c582b00c"
   },
   "outputs": [
    {
     "name": "stdout",
     "output_type": "stream",
     "text": [
      "10\n"
     ]
    },
    {
     "data": {
      "text/plain": [
       "str"
      ]
     },
     "execution_count": 20,
     "metadata": {
      "tags": []
     },
     "output_type": "execute_result"
    }
   ],
   "source": [
    "print(num)\n",
    "type(lit_num)"
   ]
  },
  {
   "cell_type": "code",
   "execution_count": 21,
   "metadata": {
    "colab": {
     "base_uri": "https://localhost:8080/"
    },
    "executionInfo": {
     "elapsed": 1058,
     "status": "ok",
     "timestamp": 1621416004495,
     "user": {
      "displayName": "Dr. Iftikhar Ahmad",
      "photoUrl": "",
      "userId": "14655798496938853703"
     },
     "user_tz": -300
    },
    "id": "SJlra3LH5ETT",
    "outputId": "69855241-3c6c-4172-9b73-c9d77eec9966"
   },
   "outputs": [
    {
     "data": {
      "text/plain": [
       "11"
      ]
     },
     "execution_count": 21,
     "metadata": {
      "tags": []
     },
     "output_type": "execute_result"
    }
   ],
   "source": [
    "num = num + 1\n",
    "num"
   ]
  },
  {
   "cell_type": "code",
   "execution_count": 22,
   "metadata": {
    "colab": {
     "base_uri": "https://localhost:8080/"
    },
    "executionInfo": {
     "elapsed": 944,
     "status": "ok",
     "timestamp": 1621416016205,
     "user": {
      "displayName": "Dr. Iftikhar Ahmad",
      "photoUrl": "",
      "userId": "14655798496938853703"
     },
     "user_tz": -300
    },
    "id": "4K431SAE5ETU",
    "outputId": "e61dd347-ed9f-480d-8eeb-eeee39ec0816"
   },
   "outputs": [
    {
     "name": "stdout",
     "output_type": "stream",
     "text": [
      "101\n"
     ]
    }
   ],
   "source": [
    "lit_num = lit_num + '1'\n",
    "print(lit_num)"
   ]
  },
  {
   "cell_type": "code",
   "execution_count": 23,
   "metadata": {
    "executionInfo": {
     "elapsed": 1049,
     "status": "ok",
     "timestamp": 1621416020976,
     "user": {
      "displayName": "Dr. Iftikhar Ahmad",
      "photoUrl": "",
      "userId": "14655798496938853703"
     },
     "user_tz": -300
    },
    "id": "ze7dUmLh5ETV"
   },
   "outputs": [],
   "source": [
    "lit_num = lit_num + '1'"
   ]
  },
  {
   "cell_type": "code",
   "execution_count": 24,
   "metadata": {
    "colab": {
     "base_uri": "https://localhost:8080/",
     "height": 35
    },
    "executionInfo": {
     "elapsed": 816,
     "status": "ok",
     "timestamp": 1621416023312,
     "user": {
      "displayName": "Dr. Iftikhar Ahmad",
      "photoUrl": "",
      "userId": "14655798496938853703"
     },
     "user_tz": -300
    },
    "id": "P0b0fMjR5ETV",
    "outputId": "fc53ae93-167c-4d20-8682-f5ba9be07338"
   },
   "outputs": [
    {
     "data": {
      "application/vnd.google.colaboratory.intrinsic+json": {
       "type": "string"
      },
      "text/plain": [
       "'1011'"
      ]
     },
     "execution_count": 24,
     "metadata": {
      "tags": []
     },
     "output_type": "execute_result"
    }
   ],
   "source": [
    "lit_num"
   ]
  },
  {
   "cell_type": "code",
   "execution_count": 25,
   "metadata": {
    "executionInfo": {
     "elapsed": 994,
     "status": "ok",
     "timestamp": 1621416032277,
     "user": {
      "displayName": "Dr. Iftikhar Ahmad",
      "photoUrl": "",
      "userId": "14655798496938853703"
     },
     "user_tz": -300
    },
    "id": "sXhsvGcV5ETW"
   },
   "outputs": [],
   "source": [
    "flag = True"
   ]
  },
  {
   "cell_type": "code",
   "execution_count": 26,
   "metadata": {
    "colab": {
     "base_uri": "https://localhost:8080/"
    },
    "executionInfo": {
     "elapsed": 1117,
     "status": "ok",
     "timestamp": 1621416038944,
     "user": {
      "displayName": "Dr. Iftikhar Ahmad",
      "photoUrl": "",
      "userId": "14655798496938853703"
     },
     "user_tz": -300
    },
    "id": "8cj64q4o5ETW",
    "outputId": "26c1c7dd-9194-48e3-91d1-7261afa4f339"
   },
   "outputs": [
    {
     "data": {
      "text/plain": [
       "bool"
      ]
     },
     "execution_count": 26,
     "metadata": {
      "tags": []
     },
     "output_type": "execute_result"
    }
   ],
   "source": [
    "type(flag)"
   ]
  },
  {
   "cell_type": "code",
   "execution_count": 27,
   "metadata": {
    "colab": {
     "base_uri": "https://localhost:8080/"
    },
    "executionInfo": {
     "elapsed": 968,
     "status": "ok",
     "timestamp": 1621416048262,
     "user": {
      "displayName": "Dr. Iftikhar Ahmad",
      "photoUrl": "",
      "userId": "14655798496938853703"
     },
     "user_tz": -300
    },
    "id": "h8bto1Yg5ETX",
    "outputId": "a1e5d25a-97f8-4b32-a00f-7525288bf40b"
   },
   "outputs": [
    {
     "data": {
      "text/plain": [
       "1"
      ]
     },
     "execution_count": 27,
     "metadata": {
      "tags": []
     },
     "output_type": "execute_result"
    }
   ],
   "source": [
    "int(flag)"
   ]
  },
  {
   "cell_type": "code",
   "execution_count": 28,
   "metadata": {
    "colab": {
     "base_uri": "https://localhost:8080/"
    },
    "executionInfo": {
     "elapsed": 1033,
     "status": "ok",
     "timestamp": 1621416055149,
     "user": {
      "displayName": "Dr. Iftikhar Ahmad",
      "photoUrl": "",
      "userId": "14655798496938853703"
     },
     "user_tz": -300
    },
    "id": "xeJ2eWBq5ETX",
    "outputId": "2f6a54d3-a73d-4720-f59a-cf16e4184e14"
   },
   "outputs": [
    {
     "data": {
      "text/plain": [
       "0"
      ]
     },
     "execution_count": 28,
     "metadata": {
      "tags": []
     },
     "output_type": "execute_result"
    }
   ],
   "source": [
    "int(False)"
   ]
  },
  {
   "cell_type": "code",
   "execution_count": 29,
   "metadata": {
    "colab": {
     "base_uri": "https://localhost:8080/"
    },
    "executionInfo": {
     "elapsed": 1147,
     "status": "ok",
     "timestamp": 1621416063325,
     "user": {
      "displayName": "Dr. Iftikhar Ahmad",
      "photoUrl": "",
      "userId": "14655798496938853703"
     },
     "user_tz": -300
    },
    "id": "amtSn7Xf5ETY",
    "outputId": "7d9a002a-da78-4691-8bfa-30022de85200"
   },
   "outputs": [
    {
     "data": {
      "text/plain": [
       "True"
      ]
     },
     "execution_count": 29,
     "metadata": {
      "tags": []
     },
     "output_type": "execute_result"
    }
   ],
   "source": [
    "bool(1)"
   ]
  },
  {
   "cell_type": "code",
   "execution_count": 30,
   "metadata": {
    "colab": {
     "base_uri": "https://localhost:8080/"
    },
    "executionInfo": {
     "elapsed": 845,
     "status": "ok",
     "timestamp": 1621416065717,
     "user": {
      "displayName": "Dr. Iftikhar Ahmad",
      "photoUrl": "",
      "userId": "14655798496938853703"
     },
     "user_tz": -300
    },
    "id": "WyAzIXVl5ETY",
    "outputId": "9824826b-64e3-4734-becb-2cc3d6bc8482"
   },
   "outputs": [
    {
     "data": {
      "text/plain": [
       "False"
      ]
     },
     "execution_count": 30,
     "metadata": {
      "tags": []
     },
     "output_type": "execute_result"
    }
   ],
   "source": [
    "bool(0)"
   ]
  },
  {
   "cell_type": "code",
   "execution_count": 34,
   "metadata": {
    "colab": {
     "base_uri": "https://localhost:8080/"
    },
    "executionInfo": {
     "elapsed": 936,
     "status": "ok",
     "timestamp": 1621416108384,
     "user": {
      "displayName": "Dr. Iftikhar Ahmad",
      "photoUrl": "",
      "userId": "14655798496938853703"
     },
     "user_tz": -300
    },
    "id": "6yVz0X337cn8",
    "outputId": "19d8b464-8981-419e-aaec-631170e9dee4"
   },
   "outputs": [
    {
     "data": {
      "text/plain": [
       "True"
      ]
     },
     "execution_count": 34,
     "metadata": {
      "tags": []
     },
     "output_type": "execute_result"
    }
   ],
   "source": [
    "bool(-2)"
   ]
  },
  {
   "cell_type": "code",
   "execution_count": 36,
   "metadata": {
    "colab": {
     "base_uri": "https://localhost:8080/"
    },
    "executionInfo": {
     "elapsed": 1216,
     "status": "ok",
     "timestamp": 1621416196383,
     "user": {
      "displayName": "Dr. Iftikhar Ahmad",
      "photoUrl": "",
      "userId": "14655798496938853703"
     },
     "user_tz": -300
    },
    "id": "VtsSApGW7tIZ",
    "outputId": "d8ad75ca-8ded-4449-a664-178009a773fa"
   },
   "outputs": [
    {
     "data": {
      "text/plain": [
       "3"
      ]
     },
     "execution_count": 36,
     "metadata": {
      "tags": []
     },
     "output_type": "execute_result"
    }
   ],
   "source": [
    "pi = 3.56\n",
    "\n",
    "pi = int(pi)\n",
    "pi"
   ]
  },
  {
   "cell_type": "markdown",
   "metadata": {
    "id": "cjHCjYIi5ETY"
   },
   "source": [
    "## Strings in Python\n",
    "\n",
    "Strings in Python are array of characters. Each element can be accessed by the index. Reverse indexing (representing the last character by index -1) is possible in Python."
   ]
  },
  {
   "cell_type": "code",
   "execution_count": 37,
   "metadata": {
    "executionInfo": {
     "elapsed": 1472,
     "status": "ok",
     "timestamp": 1621416326972,
     "user": {
      "displayName": "Dr. Iftikhar Ahmad",
      "photoUrl": "",
      "userId": "14655798496938853703"
     },
     "user_tz": -300
    },
    "id": "84n-T3M05ETZ"
   },
   "outputs": [],
   "source": [
    "name = \"Rahim Ahmad\""
   ]
  },
  {
   "cell_type": "markdown",
   "metadata": {
    "id": "ZVpXIC3v5ETZ"
   },
   "source": [
    "<table><thead><tr><th>R</th><th>a</th><th>h</th><th>i</th><th>m</th><th></th><th>A</th><th>h</th><th>m</th><th>a</th><th>d</th></tr></thead><tbody><tr><td>0</td><td>1</td><td>2</td><td>3</td><td>4</td><td>5</td><td>6</td><td>7</td><td>8</td><td>9</td><td>10</td></tr><tr><td>-11</td><td>-10</td><td>-9</td><td>-8</td><td>-7</td><td>-6</td><td>-5</td><td>-4</td><td>-3</td><td>-2</td><td>-1</td></tr></tbody></table>"
   ]
  },
  {
   "cell_type": "code",
   "execution_count": 38,
   "metadata": {
    "colab": {
     "base_uri": "https://localhost:8080/",
     "height": 283
    },
    "executionInfo": {
     "elapsed": 1040,
     "status": "error",
     "timestamp": 1621416404530,
     "user": {
      "displayName": "Dr. Iftikhar Ahmad",
      "photoUrl": "",
      "userId": "14655798496938853703"
     },
     "user_tz": -300
    },
    "id": "o_9ZGU0i5ETZ",
    "outputId": "c60cae2d-c40c-4c2f-eae8-4556a5268b73"
   },
   "outputs": [
    {
     "name": "stdout",
     "output_type": "stream",
     "text": [
      "name[0] =  R\n",
      "name[4] =  m\n",
      "name[5] =   \n",
      "name[-1] =   d\n",
      "name[-11] =  R\n"
     ]
    },
    {
     "ename": "IndexError",
     "evalue": "ignored",
     "output_type": "error",
     "traceback": [
      "\u001b[0;31m---------------------------------------------------------------------------\u001b[0m",
      "\u001b[0;31mIndexError\u001b[0m                                Traceback (most recent call last)",
      "\u001b[0;32m<ipython-input-38-b43d0984ed4a>\u001b[0m in \u001b[0;36m<module>\u001b[0;34m()\u001b[0m\n\u001b[1;32m      6\u001b[0m \u001b[0mprint\u001b[0m\u001b[0;34m(\u001b[0m\u001b[0;34m'name[-11] = '\u001b[0m\u001b[0;34m,\u001b[0m \u001b[0mname\u001b[0m\u001b[0;34m[\u001b[0m\u001b[0;34m-\u001b[0m\u001b[0;36m11\u001b[0m\u001b[0;34m]\u001b[0m\u001b[0;34m)\u001b[0m\u001b[0;34m\u001b[0m\u001b[0;34m\u001b[0m\u001b[0m\n\u001b[1;32m      7\u001b[0m \u001b[0;34m\u001b[0m\u001b[0m\n\u001b[0;32m----> 8\u001b[0;31m \u001b[0mprint\u001b[0m\u001b[0;34m(\u001b[0m\u001b[0;34m'name[-13] = '\u001b[0m\u001b[0;34m,\u001b[0m \u001b[0mname\u001b[0m\u001b[0;34m[\u001b[0m\u001b[0;34m-\u001b[0m\u001b[0;36m13\u001b[0m\u001b[0;34m]\u001b[0m\u001b[0;34m)\u001b[0m\u001b[0;34m\u001b[0m\u001b[0;34m\u001b[0m\u001b[0m\n\u001b[0m",
      "\u001b[0;31mIndexError\u001b[0m: string index out of range"
     ]
    }
   ],
   "source": [
    "print('name[0] = ', name[0])\n",
    "print('name[4] = ', name[4])\n",
    "print('name[5] = ', name[5])\n",
    "\n",
    "print('name[-1] =  ', name[-1])\n",
    "print('name[-11] = ', name[-11])\n",
    "\n",
    "print('name[-13] = ', name[-13])"
   ]
  },
  {
   "cell_type": "markdown",
   "metadata": {
    "id": "yzw9DoZg5ETa"
   },
   "source": [
    "### Splicing String\n",
    "Parts of string can be accessed using the symbol : in python."
   ]
  },
  {
   "cell_type": "code",
   "execution_count": 48,
   "metadata": {
    "colab": {
     "base_uri": "https://localhost:8080/",
     "height": 35
    },
    "executionInfo": {
     "elapsed": 956,
     "status": "ok",
     "timestamp": 1621416475072,
     "user": {
      "displayName": "Dr. Iftikhar Ahmad",
      "photoUrl": "",
      "userId": "14655798496938853703"
     },
     "user_tz": -300
    },
    "id": "SWxPbVsv5ETd",
    "outputId": "625e5908-19cb-4fc4-bd65-1b9d1280fa88"
   },
   "outputs": [
    {
     "data": {
      "application/vnd.google.colaboratory.intrinsic+json": {
       "type": "string"
      },
      "text/plain": [
       "'Rahi'"
      ]
     },
     "execution_count": 48,
     "metadata": {
      "tags": []
     },
     "output_type": "execute_result"
    }
   ],
   "source": [
    "name = \"Rahim Ahmad\"\n",
    "name[0:4]"
   ]
  },
  {
   "cell_type": "code",
   "execution_count": 49,
   "metadata": {
    "colab": {
     "base_uri": "https://localhost:8080/",
     "height": 35
    },
    "executionInfo": {
     "elapsed": 956,
     "status": "ok",
     "timestamp": 1621416484846,
     "user": {
      "displayName": "Dr. Iftikhar Ahmad",
      "photoUrl": "",
      "userId": "14655798496938853703"
     },
     "user_tz": -300
    },
    "id": "ajmo6g4F5ETd",
    "outputId": "a995d964-9c97-44d0-b9b6-d0d342badb69"
   },
   "outputs": [
    {
     "data": {
      "application/vnd.google.colaboratory.intrinsic+json": {
       "type": "string"
      },
      "text/plain": [
       "'Ahm'"
      ]
     },
     "execution_count": 49,
     "metadata": {
      "tags": []
     },
     "output_type": "execute_result"
    }
   ],
   "source": [
    "name[6:9]"
   ]
  },
  {
   "cell_type": "markdown",
   "metadata": {
    "id": "0yZq5Ms85ETd"
   },
   "source": [
    "<table><thead><tr><th>R</th><th>a</th><th>h</th><th>i</th><th>m</th><th></th><th>A</th><th>h</th><th>m</th><th>a</th><th>d</th></tr></thead><tbody><tr><td>0</td><td>1</td><td>2</td><td>3</td><td>4</td><td>5</td><td>6</td><td>7</td><td>8</td><td>9</td><td>10</td></tr><tr><td>-11</td><td>-10</td><td>-9</td><td>-8</td><td>-7</td><td>-6</td><td>-5</td><td>-4</td><td>-3</td><td>-2</td><td>-1</td></tr></tbody></table>\n",
    "\n",
    "The following code returns every 2nd element of the string \"name\""
   ]
  },
  {
   "cell_type": "code",
   "execution_count": 50,
   "metadata": {
    "colab": {
     "base_uri": "https://localhost:8080/",
     "height": 35
    },
    "executionInfo": {
     "elapsed": 970,
     "status": "ok",
     "timestamp": 1621416546992,
     "user": {
      "displayName": "Dr. Iftikhar Ahmad",
      "photoUrl": "",
      "userId": "14655798496938853703"
     },
     "user_tz": -300
    },
    "id": "f3nmFLi65ETe",
    "outputId": "2ab8f9c2-6284-40cd-c16b-5dce850bd2b1"
   },
   "outputs": [
    {
     "data": {
      "application/vnd.google.colaboratory.intrinsic+json": {
       "type": "string"
      },
      "text/plain": [
       "'RhmAmd'"
      ]
     },
     "execution_count": 50,
     "metadata": {
      "tags": []
     },
     "output_type": "execute_result"
    }
   ],
   "source": [
    "name[::2]"
   ]
  },
  {
   "cell_type": "markdown",
   "metadata": {
    "id": "tcZ5HocA5ETf"
   },
   "source": [
    "The following code returns every 2nd element of the string \"name\" starting from the 2nd character till 9th character (not included)"
   ]
  },
  {
   "cell_type": "code",
   "execution_count": 52,
   "metadata": {
    "colab": {
     "base_uri": "https://localhost:8080/",
     "height": 35
    },
    "executionInfo": {
     "elapsed": 1074,
     "status": "ok",
     "timestamp": 1621416585408,
     "user": {
      "displayName": "Dr. Iftikhar Ahmad",
      "photoUrl": "",
      "userId": "14655798496938853703"
     },
     "user_tz": -300
    },
    "id": "JD1Lq7Pr5ETf",
    "outputId": "137f3ae0-34ee-4145-b0a9-0b70d8527233"
   },
   "outputs": [
    {
     "data": {
      "application/vnd.google.colaboratory.intrinsic+json": {
       "type": "string"
      },
      "text/plain": [
       "'hmAm'"
      ]
     },
     "execution_count": 52,
     "metadata": {
      "tags": []
     },
     "output_type": "execute_result"
    }
   ],
   "source": [
    "name[2:9:2]"
   ]
  },
  {
   "cell_type": "code",
   "execution_count": 43,
   "metadata": {
    "colab": {
     "base_uri": "https://localhost:8080/",
     "height": 35
    },
    "executionInfo": {
     "elapsed": 2273,
     "status": "ok",
     "timestamp": 1621416433147,
     "user": {
      "displayName": "Dr. Iftikhar Ahmad",
      "photoUrl": "",
      "userId": "14655798496938853703"
     },
     "user_tz": -300
    },
    "id": "kkfvqjjx5ETf",
    "outputId": "b433ba85-0c9e-49f8-cb73-9151dd5f1505"
   },
   "outputs": [
    {
     "data": {
      "application/vnd.google.colaboratory.intrinsic+json": {
       "type": "string"
      },
      "text/plain": [
       "'hmAm'"
      ]
     },
     "execution_count": 43,
     "metadata": {
      "tags": []
     },
     "output_type": "execute_result"
    }
   ],
   "source": [
    "name[2:10:2]"
   ]
  },
  {
   "cell_type": "code",
   "execution_count": 53,
   "metadata": {
    "colab": {
     "base_uri": "https://localhost:8080/",
     "height": 35
    },
    "executionInfo": {
     "elapsed": 922,
     "status": "ok",
     "timestamp": 1621416606210,
     "user": {
      "displayName": "Dr. Iftikhar Ahmad",
      "photoUrl": "",
      "userId": "14655798496938853703"
     },
     "user_tz": -300
    },
    "id": "gPSGTiBU5ETg",
    "outputId": "71fa85c7-6ddd-4bfe-dde1-b47e0b5471ec"
   },
   "outputs": [
    {
     "data": {
      "application/vnd.google.colaboratory.intrinsic+json": {
       "type": "string"
      },
      "text/plain": [
       "'hmAmd'"
      ]
     },
     "execution_count": 53,
     "metadata": {
      "tags": []
     },
     "output_type": "execute_result"
    }
   ],
   "source": [
    "name[2::2]"
   ]
  },
  {
   "cell_type": "code",
   "execution_count": 54,
   "metadata": {
    "colab": {
     "base_uri": "https://localhost:8080/"
    },
    "executionInfo": {
     "elapsed": 943,
     "status": "ok",
     "timestamp": 1621416616013,
     "user": {
      "displayName": "Dr. Iftikhar Ahmad",
      "photoUrl": "",
      "userId": "14655798496938853703"
     },
     "user_tz": -300
    },
    "id": "MMFK_jq15ETg",
    "outputId": "0dcd75fb-b58f-4d4f-b38b-1b01377a461a"
   },
   "outputs": [
    {
     "data": {
      "text/plain": [
       "11"
      ]
     },
     "execution_count": 54,
     "metadata": {
      "tags": []
     },
     "output_type": "execute_result"
    }
   ],
   "source": [
    "len(name)"
   ]
  },
  {
   "cell_type": "markdown",
   "metadata": {
    "id": "-NjKHqD95ETg"
   },
   "source": [
    "The following code produces 3 copies of the string \"name\" and stores it in the variable \"new_name\""
   ]
  },
  {
   "cell_type": "code",
   "execution_count": 55,
   "metadata": {
    "colab": {
     "base_uri": "https://localhost:8080/",
     "height": 35
    },
    "executionInfo": {
     "elapsed": 981,
     "status": "ok",
     "timestamp": 1621416652713,
     "user": {
      "displayName": "Dr. Iftikhar Ahmad",
      "photoUrl": "",
      "userId": "14655798496938853703"
     },
     "user_tz": -300
    },
    "id": "fHRlvIvK5ETh",
    "outputId": "c397d2ed-2b77-44a2-e2e6-cb64bb5cf9f2"
   },
   "outputs": [
    {
     "data": {
      "application/vnd.google.colaboratory.intrinsic+json": {
       "type": "string"
      },
      "text/plain": [
       "'Rahim AhmadRahim AhmadRahim Ahmad'"
      ]
     },
     "execution_count": 55,
     "metadata": {
      "tags": []
     },
     "output_type": "execute_result"
    }
   ],
   "source": [
    "new_name = 3*name\n",
    "new_name"
   ]
  },
  {
   "cell_type": "markdown",
   "metadata": {
    "id": "pNVFeblM5ETh"
   },
   "source": [
    "Strings are immutable, i.e., their contents cannot be modified."
   ]
  },
  {
   "cell_type": "code",
   "execution_count": 56,
   "metadata": {
    "colab": {
     "base_uri": "https://localhost:8080/",
     "height": 198
    },
    "executionInfo": {
     "elapsed": 908,
     "status": "error",
     "timestamp": 1621416681381,
     "user": {
      "displayName": "Dr. Iftikhar Ahmad",
      "photoUrl": "",
      "userId": "14655798496938853703"
     },
     "user_tz": -300
    },
    "id": "fZolXTyK5ETi",
    "outputId": "91d55635-0359-4998-fe04-f767c65b7d86"
   },
   "outputs": [
    {
     "ename": "TypeError",
     "evalue": "ignored",
     "output_type": "error",
     "traceback": [
      "\u001b[0;31m---------------------------------------------------------------------------\u001b[0m",
      "\u001b[0;31mTypeError\u001b[0m                                 Traceback (most recent call last)",
      "\u001b[0;32m<ipython-input-56-0985c8b7d96a>\u001b[0m in \u001b[0;36m<module>\u001b[0;34m()\u001b[0m\n\u001b[1;32m      1\u001b[0m \u001b[0mname\u001b[0m \u001b[0;34m=\u001b[0m \u001b[0;34m\"Rahim\"\u001b[0m\u001b[0;34m\u001b[0m\u001b[0;34m\u001b[0m\u001b[0m\n\u001b[0;32m----> 2\u001b[0;31m \u001b[0mname\u001b[0m\u001b[0;34m[\u001b[0m\u001b[0;36m0\u001b[0m\u001b[0;34m]\u001b[0m \u001b[0;34m=\u001b[0m \u001b[0;34m\"Z\"\u001b[0m\u001b[0;34m\u001b[0m\u001b[0;34m\u001b[0m\u001b[0m\n\u001b[0m\u001b[1;32m      3\u001b[0m \u001b[0mprint\u001b[0m\u001b[0;34m(\u001b[0m\u001b[0mname\u001b[0m\u001b[0;34m)\u001b[0m\u001b[0;34m\u001b[0m\u001b[0;34m\u001b[0m\u001b[0m\n",
      "\u001b[0;31mTypeError\u001b[0m: 'str' object does not support item assignment"
     ]
    }
   ],
   "source": [
    "name = \"Rahim\"\n",
    "name[0] = \"Z\"\n",
    "print(name)"
   ]
  },
  {
   "cell_type": "code",
   "execution_count": 57,
   "metadata": {
    "colab": {
     "base_uri": "https://localhost:8080/",
     "height": 35
    },
    "executionInfo": {
     "elapsed": 974,
     "status": "ok",
     "timestamp": 1621416710414,
     "user": {
      "displayName": "Dr. Iftikhar Ahmad",
      "photoUrl": "",
      "userId": "14655798496938853703"
     },
     "user_tz": -300
    },
    "id": "cUjcZlD15ETi",
    "outputId": "9622196b-a45c-4bae-cf3a-8eccd7bfbf16"
   },
   "outputs": [
    {
     "data": {
      "application/vnd.google.colaboratory.intrinsic+json": {
       "type": "string"
      },
      "text/plain": [
       "'Rahim Ahmad'"
      ]
     },
     "execution_count": 57,
     "metadata": {
      "tags": []
     },
     "output_type": "execute_result"
    }
   ],
   "source": [
    "name = \"Rahim\"\n",
    "name = name + \" Ahmad\"\n",
    "name"
   ]
  },
  {
   "cell_type": "code",
   "execution_count": 58,
   "metadata": {
    "colab": {
     "base_uri": "https://localhost:8080/"
    },
    "executionInfo": {
     "elapsed": 1016,
     "status": "ok",
     "timestamp": 1621416730781,
     "user": {
      "displayName": "Dr. Iftikhar Ahmad",
      "photoUrl": "",
      "userId": "14655798496938853703"
     },
     "user_tz": -300
    },
    "id": "_WWv7obU5ETi",
    "outputId": "6bfc3d72-91fa-4e28-9cc0-f0e03db68d25"
   },
   "outputs": [
    {
     "name": "stdout",
     "output_type": "stream",
     "text": [
      "Hello \t World\n",
      "Hello \\ World\n",
      "Hello \n",
      " World\n"
     ]
    }
   ],
   "source": [
    "print(\"Hello \\t World\")\n",
    "print(\"Hello \\\\ World\")\n",
    "print(\"Hello \\n World\")"
   ]
  },
  {
   "cell_type": "markdown",
   "metadata": {
    "id": "odm6XviY5ETm"
   },
   "source": [
    "## Operations on String"
   ]
  },
  {
   "cell_type": "code",
   "execution_count": 61,
   "metadata": {
    "colab": {
     "base_uri": "https://localhost:8080/",
     "height": 35
    },
    "executionInfo": {
     "elapsed": 1097,
     "status": "ok",
     "timestamp": 1621416807915,
     "user": {
      "displayName": "Dr. Iftikhar Ahmad",
      "photoUrl": "",
      "userId": "14655798496938853703"
     },
     "user_tz": -300
    },
    "id": "xHYBuZc15ETm",
    "outputId": "23f96fbd-a188-4fa7-aa9a-6a58adc7fac7"
   },
   "outputs": [
    {
     "data": {
      "application/vnd.google.colaboratory.intrinsic+json": {
       "type": "string"
      },
      "text/plain": [
       "'Rahim Khan'"
      ]
     },
     "execution_count": 61,
     "metadata": {
      "tags": []
     },
     "output_type": "execute_result"
    }
   ],
   "source": [
    "name = \"Rahim Ahmad\"\n",
    "name2 = name.replace(\"Ahmad\", \"Khan\")\n",
    "name2"
   ]
  },
  {
   "cell_type": "code",
   "execution_count": 60,
   "metadata": {
    "colab": {
     "base_uri": "https://localhost:8080/",
     "height": 35
    },
    "executionInfo": {
     "elapsed": 946,
     "status": "ok",
     "timestamp": 1621416775490,
     "user": {
      "displayName": "Dr. Iftikhar Ahmad",
      "photoUrl": "",
      "userId": "14655798496938853703"
     },
     "user_tz": -300
    },
    "id": "hZpEumv45ETm",
    "outputId": "fb93f982-8b5d-45c7-80b7-206354e844f6"
   },
   "outputs": [
    {
     "data": {
      "application/vnd.google.colaboratory.intrinsic+json": {
       "type": "string"
      },
      "text/plain": [
       "'Rahim Ahmad'"
      ]
     },
     "execution_count": 60,
     "metadata": {
      "tags": []
     },
     "output_type": "execute_result"
    }
   ],
   "source": [
    "name2"
   ]
  },
  {
   "cell_type": "code",
   "execution_count": 62,
   "metadata": {
    "colab": {
     "base_uri": "https://localhost:8080/",
     "height": 35
    },
    "executionInfo": {
     "elapsed": 929,
     "status": "ok",
     "timestamp": 1621416841004,
     "user": {
      "displayName": "Dr. Iftikhar Ahmad",
      "photoUrl": "",
      "userId": "14655798496938853703"
     },
     "user_tz": -300
    },
    "id": "syz3m0JJ5ETn",
    "outputId": "346906a4-16e6-4a5b-c94a-d63e008814fc"
   },
   "outputs": [
    {
     "data": {
      "application/vnd.google.colaboratory.intrinsic+json": {
       "type": "string"
      },
      "text/plain": [
       "'RAHIM AHMAD'"
      ]
     },
     "execution_count": 62,
     "metadata": {
      "tags": []
     },
     "output_type": "execute_result"
    }
   ],
   "source": [
    "name3 = name.upper()\n",
    "name3"
   ]
  },
  {
   "cell_type": "code",
   "execution_count": 63,
   "metadata": {
    "colab": {
     "base_uri": "https://localhost:8080/"
    },
    "executionInfo": {
     "elapsed": 1010,
     "status": "ok",
     "timestamp": 1621416852388,
     "user": {
      "displayName": "Dr. Iftikhar Ahmad",
      "photoUrl": "",
      "userId": "14655798496938853703"
     },
     "user_tz": -300
    },
    "id": "gydZNhu95ETo",
    "outputId": "2fe3e66d-ca54-42ab-a3e5-6a04c8e749e4"
   },
   "outputs": [
    {
     "data": {
      "text/plain": [
       "2"
      ]
     },
     "execution_count": 63,
     "metadata": {
      "tags": []
     },
     "output_type": "execute_result"
    }
   ],
   "source": [
    "name.find(\"hi\")"
   ]
  },
  {
   "cell_type": "code",
   "execution_count": 64,
   "metadata": {
    "colab": {
     "base_uri": "https://localhost:8080/"
    },
    "executionInfo": {
     "elapsed": 1070,
     "status": "ok",
     "timestamp": 1621416866826,
     "user": {
      "displayName": "Dr. Iftikhar Ahmad",
      "photoUrl": "",
      "userId": "14655798496938853703"
     },
     "user_tz": -300
    },
    "id": "pO0WexJV5ETo",
    "outputId": "35ca6c01-722e-4d68-f981-4cc984e5659f"
   },
   "outputs": [
    {
     "data": {
      "text/plain": [
       "-1"
      ]
     },
     "execution_count": 64,
     "metadata": {
      "tags": []
     },
     "output_type": "execute_result"
    }
   ],
   "source": [
    "name.find(\"bye\")"
   ]
  },
  {
   "cell_type": "code",
   "execution_count": 65,
   "metadata": {
    "colab": {
     "base_uri": "https://localhost:8080/",
     "height": 35
    },
    "executionInfo": {
     "elapsed": 1103,
     "status": "ok",
     "timestamp": 1621417064246,
     "user": {
      "displayName": "Dr. Iftikhar Ahmad",
      "photoUrl": "",
      "userId": "14655798496938853703"
     },
     "user_tz": -300
    },
    "id": "n3obDK7Z5ETp",
    "outputId": "8c708c4e-d8b8-4ae8-9a01-d2c14072904b"
   },
   "outputs": [
    {
     "data": {
      "application/vnd.google.colaboratory.intrinsic+json": {
       "type": "string"
      },
      "text/plain": [
       "'d'"
      ]
     },
     "execution_count": 65,
     "metadata": {
      "tags": []
     },
     "output_type": "execute_result"
    }
   ],
   "source": [
    "name[-1]"
   ]
  }
 ],
 "metadata": {
  "colab": {
   "collapsed_sections": [],
   "name": "01 - Data Types Operators and Strings.ipynb",
   "provenance": []
  },
  "kernelspec": {
   "display_name": "Python 3 (ipykernel)",
   "language": "python",
   "name": "python3"
  },
  "language_info": {
   "codemirror_mode": {
    "name": "ipython",
    "version": 3
   },
   "file_extension": ".py",
   "mimetype": "text/x-python",
   "name": "python",
   "nbconvert_exporter": "python",
   "pygments_lexer": "ipython3",
   "version": "3.11.5"
  }
 },
 "nbformat": 4,
 "nbformat_minor": 4
}
